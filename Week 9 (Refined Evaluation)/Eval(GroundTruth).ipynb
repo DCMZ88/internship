{
 "cells": [
  {
   "cell_type": "code",
   "execution_count": 1,
   "id": "e0c83b7d",
   "metadata": {},
   "outputs": [],
   "source": [
    "def load_files(file):\n",
    "    # Open and read the JSON file\n",
    "    path = os.path.join('/home/jovyan/Evaluation/Data', file)\n",
    "    with open(path, 'r') as json_file:\n",
    "        data = json.load(json_file)\n",
    "    return data"
   ]
  },
  {
   "cell_type": "code",
   "execution_count": 2,
   "id": "f5fc3a67",
   "metadata": {},
   "outputs": [
    {
     "ename": "FileNotFoundError",
     "evalue": "[Errno 2] No such file or directory: 'Ground_Truth_Qwen.json'",
     "output_type": "error",
     "traceback": [
      "\u001b[0;31m---------------------------------------------------------------------------\u001b[0m",
      "\u001b[0;31mFileNotFoundError\u001b[0m                         Traceback (most recent call last)",
      "Cell \u001b[0;32mIn[2], line 3\u001b[0m\n\u001b[1;32m      1\u001b[0m \u001b[38;5;28;01mimport\u001b[39;00m\u001b[38;5;250m \u001b[39m\u001b[38;5;21;01mjson\u001b[39;00m\n\u001b[1;32m      2\u001b[0m file_name \u001b[38;5;241m=\u001b[39m \u001b[38;5;124m'\u001b[39m\u001b[38;5;124mGround_Truth_Qwen.json\u001b[39m\u001b[38;5;124m'\u001b[39m\n\u001b[0;32m----> 3\u001b[0m \u001b[38;5;28;01mwith\u001b[39;00m \u001b[38;5;28;43mopen\u001b[39;49m\u001b[43m(\u001b[49m\u001b[43mfile_name\u001b[49m\u001b[43m,\u001b[49m\u001b[43m \u001b[49m\u001b[38;5;124;43m\"\u001b[39;49m\u001b[38;5;124;43mr\u001b[39;49m\u001b[38;5;124;43m\"\u001b[39;49m\u001b[43m)\u001b[49m \u001b[38;5;28;01mas\u001b[39;00m file:\n\u001b[1;32m      4\u001b[0m     truth \u001b[38;5;241m=\u001b[39m json\u001b[38;5;241m.\u001b[39mload(file)\n",
      "File \u001b[0;32m~/myenv/lib/python3.10/site-packages/IPython/core/interactiveshell.py:284\u001b[0m, in \u001b[0;36m_modified_open\u001b[0;34m(file, *args, **kwargs)\u001b[0m\n\u001b[1;32m    277\u001b[0m \u001b[38;5;28;01mif\u001b[39;00m file \u001b[38;5;129;01min\u001b[39;00m {\u001b[38;5;241m0\u001b[39m, \u001b[38;5;241m1\u001b[39m, \u001b[38;5;241m2\u001b[39m}:\n\u001b[1;32m    278\u001b[0m     \u001b[38;5;28;01mraise\u001b[39;00m \u001b[38;5;167;01mValueError\u001b[39;00m(\n\u001b[1;32m    279\u001b[0m         \u001b[38;5;124mf\u001b[39m\u001b[38;5;124m\"\u001b[39m\u001b[38;5;124mIPython won\u001b[39m\u001b[38;5;124m'\u001b[39m\u001b[38;5;124mt let you open fd=\u001b[39m\u001b[38;5;132;01m{\u001b[39;00mfile\u001b[38;5;132;01m}\u001b[39;00m\u001b[38;5;124m by default \u001b[39m\u001b[38;5;124m\"\u001b[39m\n\u001b[1;32m    280\u001b[0m         \u001b[38;5;124m\"\u001b[39m\u001b[38;5;124mas it is likely to crash IPython. If you know what you are doing, \u001b[39m\u001b[38;5;124m\"\u001b[39m\n\u001b[1;32m    281\u001b[0m         \u001b[38;5;124m\"\u001b[39m\u001b[38;5;124myou can use builtins\u001b[39m\u001b[38;5;124m'\u001b[39m\u001b[38;5;124m open.\u001b[39m\u001b[38;5;124m\"\u001b[39m\n\u001b[1;32m    282\u001b[0m     )\n\u001b[0;32m--> 284\u001b[0m \u001b[38;5;28;01mreturn\u001b[39;00m \u001b[43mio_open\u001b[49m\u001b[43m(\u001b[49m\u001b[43mfile\u001b[49m\u001b[43m,\u001b[49m\u001b[43m \u001b[49m\u001b[38;5;241;43m*\u001b[39;49m\u001b[43margs\u001b[49m\u001b[43m,\u001b[49m\u001b[43m \u001b[49m\u001b[38;5;241;43m*\u001b[39;49m\u001b[38;5;241;43m*\u001b[39;49m\u001b[43mkwargs\u001b[49m\u001b[43m)\u001b[49m\n",
      "\u001b[0;31mFileNotFoundError\u001b[0m: [Errno 2] No such file or directory: 'Ground_Truth_Qwen.json'"
     ]
    }
   ],
   "source": [
    "import json\n",
    "file_name = 'Ground_Truth_Qwen.json'\n",
    "with open(file_name, \"r\") as file:\n",
    "    truth = json.load(file)"
   ]
  },
  {
   "cell_type": "code",
   "execution_count": null,
   "id": "a63bd141",
   "metadata": {},
   "outputs": [],
   "source": [
    "import json\n",
    "def save_labels(labels_list, objects,image_path,precision):\n",
    "    incorrect = [item for item in labels_list if item not in objects]\n",
    "    data = {\n",
    "        \"Image Path\" : image_path,\n",
    "        \"Original Labels\" : labels_list, \n",
    "        \"Correct Labels\" :  objects,\n",
    "        \"Incorrect Labels\" : incorrect,\n",
    "        \"Precision\" : precision\n",
    "     }\n",
    "    \n",
    "    new_path = '/home/jovyan/Evaluation/Labels'\n",
    "    \n",
    "    if not os.path.exists(new_path):\n",
    "        os.makedirs(new_path) # Create the directory if it doesn't exist\n",
    "        print(f\"{new_path} successfully created\")\n",
    "    name = image_path.strip(\".jpg\").strip(\".png\")\n",
    "    json_filename = f'{name}.json'\n",
    "    file_name = os.path.join(new_path , json_filename)\n",
    "    with open(file_name , 'w') as json_file:\n",
    "            json.dump(data, json_file, indent=4)"
   ]
  },
  {
   "cell_type": "code",
   "execution_count": null,
   "id": "b37b1c03",
   "metadata": {},
   "outputs": [],
   "source": [
    "import os\n",
    "# Initiate variables \n",
    "success = 0\n",
    "# Path to the directory (library)\n",
    "directory_path = \"/home/jovyan/Evaluation/Data\"  # Replace this with the actual path\n",
    "\n",
    "# List all files in the directory\n",
    "files = os.listdir(directory_path)\n",
    "\n",
    "# Filter out directories and show only files\n",
    "files = [file for file in files if os.path.isfile(os.path.join(directory_path, file))]\n",
    "\n",
    "# Print the list of files\n",
    "for index, file in enumerate(files):\n",
    "    \n",
    "    correct = 0\n",
    "    objects = []\n",
    "\n",
    "    original_name = file.strip(\".json\")\n",
    "    image_path = file.replace(\".jpg\",\"\").replace(\".png\",\"\").replace(\".PNG\",\"\")\n",
    "    \n",
    "    labels = truth[image_path]\n",
    "    data = load_files(file)\n",
    "    labels_list = data['Labels']\n",
    "    \n",
    "    for label in labels_list:\n",
    "        if label in labels:\n",
    "            if label not in objects:\n",
    "                correct += 1\n",
    "                objects.append(label)\n",
    "        \n",
    "    success += correct/len(labels_list) * 100\n",
    "    precision = correct/len(labels_list)\n",
    "    save_labels(labels_list,objects,original_name,precision)\n",
    "rate = (success / len(files))\n",
    "print(f\"Model has a success rate of {round(rate,1)}% over {index + 1} images.\")"
   ]
  }
 ],
 "metadata": {
  "kernelspec": {
   "display_name": "Python (myenv)",
   "language": "python",
   "name": "myenv"
  },
  "language_info": {
   "codemirror_mode": {
    "name": "ipython",
    "version": 3
   },
   "file_extension": ".py",
   "mimetype": "text/x-python",
   "name": "python",
   "nbconvert_exporter": "python",
   "pygments_lexer": "ipython3",
   "version": "3.10.12"
  }
 },
 "nbformat": 4,
 "nbformat_minor": 5
}
