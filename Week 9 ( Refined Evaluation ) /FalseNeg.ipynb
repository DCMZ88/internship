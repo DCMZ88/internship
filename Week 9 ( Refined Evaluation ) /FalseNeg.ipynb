{
 "cells": [
  {
   "cell_type": "code",
   "execution_count": 1,
   "id": "87fa7987",
   "metadata": {},
   "outputs": [],
   "source": [
    "# Code for finding the 'False Negatives' Labels by comparing all the 'True Positives' Labels amongst different VlMs"
   ]
  },
  {
   "cell_type": "code",
   "execution_count": 2,
   "id": "aa53d844",
   "metadata": {},
   "outputs": [],
   "source": [
    "#IMPT : Run all the cells ONCE"
   ]
  },
  {
   "cell_type": "code",
   "execution_count": 3,
   "id": "f9a1e976",
   "metadata": {},
   "outputs": [],
   "source": [
    "# Loads individual files \n",
    "def load_files(file, directory_path):\n",
    "    # Open and read the JSON file\n",
    "    path = os.path.join(directory_path,file)\n",
    "    with open(path, 'r') as json_file:\n",
    "        data = json.load(json_file)\n",
    "    return data"
   ]
  },
  {
   "cell_type": "code",
   "execution_count": 4,
   "id": "da73e3d8",
   "metadata": {},
   "outputs": [],
   "source": [
    "# Creates the Ground_Truth File and initialises all the file names as key \n",
    "import os\n",
    "import json\n",
    "# List all files in the directory\n",
    "directory_path = \"/home/jovyan/Evaluation/Results(Gemma)/Labels\" \n",
    "files = os.listdir(directory_path)\n",
    "# Filter out directories and show only files\n",
    "files = [file for file in files if os.path.isfile(os.path.join(directory_path, file))]\n",
    "\n",
    "file_path = 'False_Negatives.json'\n",
    "\n",
    "if os.path.exists(file_path) and os.path.getsize(file_path) > 0:\n",
    "    with open(file_path, \"r\") as file:\n",
    "        try:\n",
    "            data = json.load(file)  # Load existing JSON data\n",
    "        except json.JSONDecodeError:\n",
    "            data = {}  # If file is empty or corrupted, start fresh\n",
    "else:\n",
    "    data = {}  # If file doesn't exist, create a new list\n",
    "\n",
    "# Print the list of files\n",
    "for index, file in enumerate(files):\n",
    "    data[file] = []\n",
    "    with open(file_path, \"w\") as file:\n",
    "        json.dump(data, file, indent=4)"
   ]
  },
  {
   "cell_type": "code",
   "execution_count": 5,
   "id": "3dedc908",
   "metadata": {},
   "outputs": [],
   "source": [
    "def save_data(name,label):\n",
    "    with open(file_path,\"r\") as file:\n",
    "        data = json.load(file)\n",
    "        data[name].append(label)\n",
    "    with open(file_path, \"w\") as file:\n",
    "        json.dump(data, file, indent=4)"
   ]
  },
  {
   "cell_type": "code",
   "execution_count": 6,
   "id": "60d06b13",
   "metadata": {},
   "outputs": [
    {
     "name": "stdout",
     "output_type": "stream",
     "text": [
      "Labels successfully saved into json file\n"
     ]
    }
   ],
   "source": [
    "import os\n",
    "import json\n",
    "# For Gemma\n",
    "directory_path = \"/home/jovyan/Evaluation/Results(Gemma)/Labels\"  # Replace this with the actual path\n",
    "\n",
    "# List all files in the directory\n",
    "files = os.listdir(directory_path)\n",
    "# Filter out directories and show only files\n",
    "files = [file for file in files if os.path.isfile(os.path.join(directory_path, file))]\n",
    "\n",
    "\n",
    "# Print the list of files\n",
    "for index, file in enumerate(files):\n",
    "    data = load_files(file,directory_path)\n",
    "    for label in data['Correct Labels']:\n",
    "        save_data(file,label)\n",
    "    \n",
    "print(f\"Labels successfully saved into json file\")"
   ]
  },
  {
   "cell_type": "code",
   "execution_count": 7,
   "id": "76dc4015",
   "metadata": {},
   "outputs": [
    {
     "name": "stdout",
     "output_type": "stream",
     "text": [
      "Labels successfully saved into json file\n"
     ]
    }
   ],
   "source": [
    "# For Qwen 2.5\n",
    "directory_path = \"/home/jovyan/Evaluation/Results(Qwen)/Labels\"  # Replace this with the actual path\n",
    "\n",
    "# List all files in the directory\n",
    "files = os.listdir(directory_path)\n",
    "\n",
    "# Filter out directories and show only files\n",
    "files = [file for file in files if os.path.isfile(os.path.join(directory_path, file))]\n",
    "\n",
    "# Print the list of files\n",
    "for index, file in enumerate(files):\n",
    "    data = load_files(file,directory_path)\n",
    "    for label in data['Correct Labels']:\n",
    "        save_data(file,label)\n",
    "print(f\"Labels successfully saved into json file\")"
   ]
  },
  {
   "cell_type": "code",
   "execution_count": 8,
   "id": "1e8d0a8a",
   "metadata": {},
   "outputs": [],
   "source": [
    "# For Llava \n",
    "directory_path = \"/home/jovyan/Evaluation/Results(Llava)/Labels\"  # Replace this with the actual path\n",
    "\n",
    "# List all files in the directory\n",
    "files = os.listdir(directory_path)\n",
    "\n",
    "# Filter out directories and show only files\n",
    "files = [file for file in files if os.path.isfile(os.path.join(directory_path, file))]\n",
    "\n",
    "# Print the list of files\n",
    "for index, file in enumerate(files):\n",
    "    data = load_files(file,directory_path)\n",
    "    for label in data['Correct Labels']:\n",
    "       save_data(file,label)"
   ]
  },
  {
   "cell_type": "code",
   "execution_count": 9,
   "id": "78def527",
   "metadata": {},
   "outputs": [
    {
     "name": "stdout",
     "output_type": "stream",
     "text": [
      "Overall Recall Value: 41.4\n"
     ]
    }
   ],
   "source": [
    "import json\n",
    "import os\n",
    "# Load full labels\n",
    "with open(\"False_Negatives.json\", \"r\") as f:\n",
    "    full_data = json.load(f)\n",
    "# Set the path to your processed folder of the Model you want to evaluate.\n",
    "folder_path = \"/home/jovyan/Evaluation/Results(Qwen)/Labels/\"\n",
    "\n",
    "files = os.listdir(folder_path)\n",
    "\n",
    "files = [file for file in files if os.path.isfile(os.path.join(directory_path, file))]\n",
    "# Loop through all files (recursively if needed)\n",
    "\n",
    "recall = 0\n",
    "\n",
    "for index, file in enumerate(files):\n",
    "    # Load the files from the model \n",
    "    data = load_files(file,folder_path)\n",
    "    partial_labels = data['Correct Labels']\n",
    "    true_positives = len(partial_labels)\n",
    "    # Loads all the labels from all models\n",
    "    full_labels = full_data[file]\n",
    "    # Filter out false negatives labels and remove duplicates\n",
    "    remaining_labels = list({label for label in full_labels if label not in partial_labels})\n",
    "    \n",
    "    # Update JSON\n",
    "    full_data[file] = remaining_labels\n",
    "    false_negatives = len(full_data[file])\n",
    "    if (false_negatives+true_positives) != 0:\n",
    "        recall += true_positives/(true_positives+false_negatives)\n",
    "    # Save the result\n",
    "    with open(\"False_Negatives.json\", \"w\") as f:\n",
    "        json.dump(full_data, f, indent=4)\n",
    "overall = recall/(index+1) * 100\n",
    "print(f\"Overall Recall Value: {round(overall,1)}\")"
   ]
  }
 ],
 "metadata": {
  "kernelspec": {
   "display_name": "Python (myenv)",
   "language": "python",
   "name": "myenv"
  },
  "language_info": {
   "codemirror_mode": {
    "name": "ipython",
    "version": 3
   },
   "file_extension": ".py",
   "mimetype": "text/x-python",
   "name": "python",
   "nbconvert_exporter": "python",
   "pygments_lexer": "ipython3",
   "version": "3.10.12"
  }
 },
 "nbformat": 4,
 "nbformat_minor": 5
}
