{
 "cells": [
  {
   "cell_type": "code",
   "execution_count": null,
   "id": "7e044fff",
   "metadata": {},
   "outputs": [],
   "source": [
    "import json\n",
    "import os\n",
    "from PIL import Image, ImageDraw, ImageFont\n",
    "import matplotlib.pyplot as plt\n",
    "\n",
    "# Path to your image and corresponding JSON file\n",
    "json_path = \"Qwen.json\"  # replace with actual JSON file\n",
    "\n",
    "with open(json_path, \"r\") as f:\n",
    "    data = json.load(f)\n",
    "    \n",
    "    path = '603.jpg'\n",
    "    directory = '/home/jovyan/images/'\n",
    "    image_path = os.path.join(directory ,path)  # replace with actual image file\n",
    "\n",
    "    # Load the image\n",
    "    image = Image.open(image_path).convert(\"RGB\")\n",
    "    draw = ImageDraw.Draw(image)\n",
    "\n",
    "    # Optional: Load a font\n",
    "    try:\n",
    "        font = ImageFont.truetype(\"arial.ttf\", size=20)\n",
    "    except:\n",
    "        font = ImageFont.load_default(size=15)\n",
    "\n",
    "    # Load the JSON data\n",
    "    with open(json_path, \"r\") as f:\n",
    "        data = json.load(f)\n",
    "\n",
    "    # Draw bounding boxes\n",
    "    for obj in data[path][\"objects\"]:\n",
    "        label = obj[\"label\"]\n",
    "        bbox = obj[\"bbox\"]\n",
    "        draw.rectangle(bbox, outline=\"red\", width=1)\n",
    "        draw.text((bbox[0], bbox[1] - 15), label, fill=\"white\", font=font)\n",
    "        print(label)\n",
    "    # Display the image\n",
    "    plt.figure(figsize=(10, 10))\n",
    "    plt.imshow(image)\n",
    "    plt.axis(\"off\")\n",
    "    plt.show()\n"
   ]
  },
  {
   "cell_type": "code",
   "execution_count": 28,
   "id": "73183cdf",
   "metadata": {},
   "outputs": [],
   "source": [
    "image.save(\"processed_image.jpg\", quality=95)"
   ]
  }
 ],
 "metadata": {
  "kernelspec": {
   "display_name": "Python (myenv)",
   "language": "python",
   "name": "myenv"
  },
  "language_info": {
   "codemirror_mode": {
    "name": "ipython",
    "version": 3
   },
   "file_extension": ".py",
   "mimetype": "text/x-python",
   "name": "python",
   "nbconvert_exporter": "python",
   "pygments_lexer": "ipython3",
   "version": "3.10.12"
  }
 },
 "nbformat": 4,
 "nbformat_minor": 5
}
