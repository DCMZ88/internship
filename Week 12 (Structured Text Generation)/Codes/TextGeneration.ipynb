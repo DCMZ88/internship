{
 "cells": [
  {
   "cell_type": "code",
   "execution_count": null,
   "id": "aef39be4",
   "metadata": {},
   "outputs": [],
   "source": [
    "# VLM required libraries\n",
    "import outlines\n",
    "import torch\n",
    "from transformers import AutoProcessor\n",
    "from pydantic import BaseModel, Field\n",
    "from typing import Literal, Optional, List, Dict\n",
    "\n",
    "# Image stuff\n",
    "from PIL import Image\n",
    "import requests\n",
    "\n",
    "from rich import pretty "
   ]
  },
  {
   "cell_type": "code",
   "execution_count": 2,
   "id": "06ff4c3a",
   "metadata": {},
   "outputs": [
    {
     "name": "stderr",
     "output_type": "stream",
     "text": [
      "Loading checkpoint shards: 100%|██████████| 5/5 [00:15<00:00,  3.15s/it]\n",
      "Using a slow image processor as `use_fast` is unset and a slow processor was saved with this model. `use_fast=True` will be the default behavior in v4.52, even if the model was saved with a slow processor. This will result in minor differences in outputs. You'll still be able to use a slow processor with `use_fast=False`.\n"
     ]
    }
   ],
   "source": [
    "# Loading of the model\n",
    "from transformers import Qwen2_5_VLForConditionalGeneration\n",
    "model_name = \"Qwen/Qwen2.5-VL-7B-Instruct\"\n",
    "model_class = Qwen2_5_VLForConditionalGeneration\n",
    "\n",
    "model = outlines.models.transformers_vision(\n",
    "    model_name,\n",
    "    model_class=model_class,\n",
    "    model_kwargs={\n",
    "        \"device_map\": \"auto\",\n",
    "        \"torch_dtype\": torch.bfloat16,\n",
    "        \"trust_remote_code\": True,\n",
    "    },\n",
    ")"
   ]
  },
  {
   "cell_type": "code",
   "execution_count": null,
   "id": "26019f16",
   "metadata": {},
   "outputs": [],
   "source": [
    "# Define JSON schema \n",
    "from typing import Dict\n",
    "class DetectedObject(BaseModel):\n",
    "    label: str = Field(..., description=\"Label of the detected object\")\n",
    "    bbox: List[int] = Field(..., description=\"Bounding box in [x1, y1, x2, y2] format\")\n",
    "\n",
    "class ImageDetectionResult(BaseModel):\n",
    "    objects: List[DetectedObject] = Field(..., description=\"List of detected objects with labels and bounding boxes\")\n",
    "    object_counts: Dict[str, int] = Field(..., description=\"Dictionary with the count of each detected object type\")"
   ]
  },
  {
   "cell_type": "code",
   "execution_count": null,
   "id": "38e3560c",
   "metadata": {},
   "outputs": [],
   "source": [
    "import re \n",
    "\n",
    "# Path to the directory (library)\n",
    "directory_path = \"/home/jovyan/images\"\n",
    "\n",
    "# List all files in the directory\n",
    "files = os.listdir(directory_path)\n",
    "\n",
    "# Filter out directories and show only files\n",
    "files = [file for file in files if os.path.isfile(os.path.join(directory_path, file))]\n",
    "\n",
    "data = {}\n",
    "  \n",
    "\n",
    "for index, file in enumerate(files):\n",
    "     \n",
    "    print(f\"Processing image {file}, {index+1}/{len(files)}\")\n",
    "    # Image path\n",
    "    image_path = os.path.join(directory_path,file)\n",
    "    \n",
    "    image = Image.open(image_path).convert(\"RGB\")\n",
    "    \n",
    "    # Prompt \n",
    "    messages = [\n",
    "        {\n",
    "            \"role\": \"user\",\n",
    "            \"content\": [            \n",
    "                {\n",
    "                    # The image is provided as a PIL Image object\n",
    "                    \"type\": \"image\",\n",
    "                    \"image\" : image,\n",
    "                },\n",
    "                {\n",
    "                    \"type\": \"text\",\n",
    "                    \"text\": f\"\"\"\n",
    "    You are very skilled at detecting simple objects in an image.\n",
    "    Detect all the common, simple objects (e.g., dog, cat, car, chair) and their corresponding bounding boxes coordinates in the image. \n",
    "    Do not detect complex descriptions (e.g., 'dog in fire', 'cat on a table') or any text present in the image.\n",
    "    Count how many of each objects there are, and return the results in the following JSON schema:\n",
    "    {ImageDetectionResult.model_json_schema()}\n",
    "                \"\"\"},\n",
    "            ],\n",
    "        }\n",
    "    ]\n",
    "\n",
    "    # Loads the processor \n",
    "    processor = AutoProcessor.from_pretrained(\n",
    "        model_name,\n",
    "        trust_remote_code=True \n",
    "    )\n",
    "    # Apply template for prompt to the processor \n",
    "    prompt = processor.apply_chat_template(\n",
    "        messages, tokenize=False, add_generation_prompt=True\n",
    "    )\n",
    "    \n",
    "\n",
    "    # Prepare a function to process inputs\n",
    "    summary_generator = outlines.generate.json(\n",
    "        model,\n",
    "        ImageDetectionResult,\n",
    "        sampler=outlines.samplers.multinomial(1,temperature=0.8)\n",
    "    )\n",
    "\n",
    "\n",
    "    # Output\n",
    "    with torch.no_grad():\n",
    "        result = summary_generator(prompt, [image])\n",
    "        data[file] = result.dict()\n",
    "        \n",
    "        \n",
    "json_name = 'Processed_Image.json'\n",
    "with open(json_name, \"w\") as f:\n",
    "    json.dump(data,f,indent=4)"
   ]
  }
 ],
 "metadata": {
  "kernelspec": {
   "display_name": "Python (myenv)",
   "language": "python",
   "name": "myenv"
  },
  "language_info": {
   "codemirror_mode": {
    "name": "ipython",
    "version": 3
   },
   "file_extension": ".py",
   "mimetype": "text/x-python",
   "name": "python",
   "nbconvert_exporter": "python",
   "pygments_lexer": "ipython3",
   "version": "3.10.12"
  }
 },
 "nbformat": 4,
 "nbformat_minor": 5
}
