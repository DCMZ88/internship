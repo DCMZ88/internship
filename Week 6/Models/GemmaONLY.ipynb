{
 "cells": [
  {
   "cell_type": "code",
   "execution_count": 1,
   "id": "7e499455",
   "metadata": {},
   "outputs": [],
   "source": [
    "#Import Required Libraries\n",
    "from PIL import Image\n",
    "import requests"
   ]
  },
  {
   "cell_type": "code",
   "execution_count": 2,
   "id": "b5ee0f34",
   "metadata": {},
   "outputs": [],
   "source": [
    "# Ensures that there is enough memory allocation for the model to load\n",
    "import os\n",
    "os.environ[\"PYTORCH_CUDA_ALLOC_CONF\"] = \"expandable_segments:True\""
   ]
  },
  {
   "cell_type": "code",
   "execution_count": 3,
   "id": "34217e51",
   "metadata": {},
   "outputs": [
    {
     "name": "stderr",
     "output_type": "stream",
     "text": [
      "/home/jovyan/myenv/lib/python3.10/site-packages/tqdm/auto.py:21: TqdmWarning: IProgress not found. Please update jupyter and ipywidgets. See https://ipywidgets.readthedocs.io/en/stable/user_install.html\n",
      "  from .autonotebook import tqdm as notebook_tqdm\n",
      "Loading checkpoint shards: 100%|██████████| 2/2 [00:00<00:00,  2.34it/s]\n",
      "Using a slow image processor as `use_fast` is unset and a slow processor was saved with this model. `use_fast=True` will be the default behavior in v4.48, even if the model was saved with a slow processor. This will result in minor differences in outputs. You'll still be able to use a slow processor with `use_fast=False`.\n",
      "Device set to use cuda\n"
     ]
    }
   ],
   "source": [
    "from transformers import pipeline\n",
    "import torch\n",
    "\n",
    "pipe = pipeline(\n",
    "    \"image-text-to-text\",\n",
    "    model=\"google/gemma-3-4b-it\",\n",
    "    device=\"cuda\",\n",
    "    torch_dtype=torch.bfloat16\n",
    ")\n"
   ]
  },
  {
   "cell_type": "code",
   "execution_count": 4,
   "id": "d84a7d0b",
   "metadata": {
    "tags": []
   },
   "outputs": [],
   "source": [
    "from transformers import BlipProcessor, BlipForQuestionAnswering\n",
    "from PIL import Image\n",
    "import json\n",
    "import requests\n",
    "\n",
    "processor_answer = BlipProcessor.from_pretrained(\"Salesforce/blip-vqa-base\")\n",
    "model_answer = BlipForQuestionAnswering.from_pretrained(\"Salesforce/blip-vqa-base\").to(\"cuda\")"
   ]
  },
  {
   "cell_type": "code",
   "execution_count": null,
   "id": "111e7466",
   "metadata": {
    "tags": []
   },
   "outputs": [],
   "source": [
    "# Input Image\n",
    "url = \"https://qianwen-res.oss-cn-beijing.aliyuncs.com/Qwen-VL/assets/demo.jpeg\"\n",
    "image = Image.open(requests.get(url, stream=True).raw)\n",
    "image"
   ]
  },
  {
   "cell_type": "code",
   "execution_count": 6,
   "id": "b6a94bf9",
   "metadata": {},
   "outputs": [],
   "source": [
    "# Number of questions to be generated \n",
    "questions = 50"
   ]
  },
  {
   "cell_type": "code",
   "execution_count": 7,
   "id": "78420bd3",
   "metadata": {
    "tags": []
   },
   "outputs": [
    {
     "name": "stdout",
     "output_type": "stream",
     "text": [
      "The image shows a young woman sitting on a sandy beach with her golden retriever dog. The woman is wearing a plaid shirt and black pants and is holding the dog's leash. The dog is sitting on the sand and is looking up at the woman with a smile on its face. The ocean can be seen in the background with waves crashing onto the shore. The sky is orange and pink, indicating that it is either sunrise or sunset. The overall mood of the image is peaceful and serene.\n"
     ]
    }
   ],
   "source": [
    "# Specify the path to your .txt file\n",
    "file_path = 'caption.txt'  # Replace with your file's path\n",
    "\n",
    "try:\n",
    "    # Open the file in read mode\n",
    "    with open(file_path, 'r') as file:\n",
    "        # Read the contents of the file\n",
    "        caption = file.read()\n",
    "        \n",
    "        # Print the contents of the file\n",
    "        print(caption)\n",
    "\n",
    "except FileNotFoundError:\n",
    "    print(f\"Error: The file at {file_path} was not found.\")\n",
    "except IOError:\n",
    "    print(\"Error: An error occurred while reading the file.\")\n"
   ]
  },
  {
   "cell_type": "code",
   "execution_count": 8,
   "id": "48590b7a",
   "metadata": {},
   "outputs": [],
   "source": [
    "# Input prompt \n",
    "prompt = f\"\"\"\n",
    "Task: Given the image input and the caption provided, generate {questions} simple, clear, and unique questions about the image. Each question should focus on one specific aspect of the scene and be easy to understand. The questions should be varied in type and explore different general aspects of the image, but each question should only contain one part.\n",
    "\n",
    "Caption:\n",
    "\"{caption}\"\n",
    "\n",
    "Instructions:\n",
    "- Generate {questions} distinct questions, each focusing on one unique detail or aspect of the scene.\n",
    "- Ensure each question is simple and contains only one part (e.g., \"What is the expression on the character's face?\" or \"What is the color of the sky?\").\n",
    "- Questions should explore different general aspects, such as:\n",
    "    - The appearance or actions of any characters (people, animals, etc.)\n",
    "    - The environment (natural elements like the sky, ocean, land, etc.)\n",
    "    - Emotions or mood conveyed by the scene\n",
    "    - Time of day or lighting (e.g., sunrise, sunset, bright, dark, etc.)\n",
    "    - The relationship between characters (if applicable)\n",
    "    - Objects or features in the scene (e.g., clothing, accessories, weather conditions)\n",
    "- Avoid compound questions or combining more than one query in a single question.\n",
    "- Each question should explore a different aspect of the scene in a clear and simple manner.\n",
    "- The output should only include the questions and nothing else.\n",
    "\n",
    "2. Provide a short and simple answer to the questions generated.\n",
    "\"\"\"\n"
   ]
  },
  {
   "cell_type": "code",
   "execution_count": 9,
   "id": "8c0f0bde",
   "metadata": {},
   "outputs": [
    {
     "name": "stdout",
     "output_type": "stream",
     "text": [
      "\n",
      "Task: Given the image input and the caption provided, generate 50 simple, clear, and unique questions about the image. Each question should focus on one specific aspect of the scene and be easy to understand. The questions should be varied in type and explore different general aspects of the image, but each question should only contain one part.\n",
      "\n",
      "Caption:\n",
      "\"The image shows a young woman sitting on a sandy beach with her golden retriever dog. The woman is wearing a plaid shirt and black pants and is holding the dog's leash. The dog is sitting on the sand and is looking up at the woman with a smile on its face. The ocean can be seen in the background with waves crashing onto the shore. The sky is orange and pink, indicating that it is either sunrise or sunset. The overall mood of the image is peaceful and serene.\"\n",
      "\n",
      "Instructions:\n",
      "- Generate 50 distinct questions, each focusing on one unique detail or aspect of the scene.\n",
      "- Ensure each question is simple and contains only one part (e.g., \"What is the expression on the character's face?\" or \"What is the color of the sky?\").\n",
      "- Questions should explore different general aspects, such as:\n",
      "    - The appearance or actions of any characters (people, animals, etc.)\n",
      "    - The environment (natural elements like the sky, ocean, land, etc.)\n",
      "    - Emotions or mood conveyed by the scene\n",
      "    - Time of day or lighting (e.g., sunrise, sunset, bright, dark, etc.)\n",
      "    - The relationship between characters (if applicable)\n",
      "    - Objects or features in the scene (e.g., clothing, accessories, weather conditions)\n",
      "- Avoid compound questions or combining more than one query in a single question.\n",
      "- Each question should explore a different aspect of the scene in a clear and simple manner.\n",
      "- The output should only include the questions and nothing else.\n",
      "\n",
      "2. Provide a short and simple answer to the questions generated.\n",
      "\n"
     ]
    }
   ],
   "source": [
    "print(prompt)"
   ]
  },
  {
   "cell_type": "code",
   "execution_count": 10,
   "id": "8dac494e",
   "metadata": {},
   "outputs": [],
   "source": [
    "import torch\n",
    "torch.cuda.empty_cache()"
   ]
  },
  {
   "cell_type": "code",
   "execution_count": 11,
   "id": "ecc4dcbe",
   "metadata": {},
   "outputs": [
    {
     "name": "stdout",
     "output_type": "stream",
     "text": [
      "1.  What color is the dog’s fur?\n",
      "    *   Yellow\n",
      "\n",
      "2.  What is the woman wearing?\n",
      "    *   A plaid shirt\n",
      "\n",
      "3.  What is the dog doing?\n",
      "    *   Sitting\n",
      "\n",
      "4.  What is the surface the woman is sitting on?\n",
      "    *   Sand\n",
      "\n",
      "5.  What is the ocean doing?\n",
      "    *   Crashing\n",
      "\n",
      "6.  What color is the sky?\n",
      "    *   Orange and pink\n",
      "\n",
      "7.  Is the woman smiling?\n",
      "    *   Yes\n",
      "\n",
      "8.  What is the dog looking at?\n",
      "    *   The woman\n",
      "\n",
      "9.  What is the dog’s expression?\n",
      "    *   A smile\n",
      "\n",
      "10. What is the woman holding?\n",
      "    *   The dog’s leash\n",
      "\n",
      "11. What type of dog is in the image?\n",
      "    *   Golden retriever\n",
      "\n",
      "12. What is the weather like?\n",
      "    *   Sunny\n",
      "\n",
      "13. What is the time of day?\n",
      "    *   Sunrise or sunset\n",
      "\n",
      "14. What is the woman’s clothing style?\n",
      "    *   Casual\n",
      "\n",
      "15. What is the color of the woman’s pants?\n",
      "    *   Black\n",
      "\n",
      "16. Is the beach wet?\n",
      "    *   Yes (implied by the waves)\n",
      "\n",
      "17. What is the dog’s posture?\n",
      "    *   Sitting\n",
      "\n",
      "18. What is the woman’s position?\n",
      "    *   Sitting\n",
      "\n",
      "19. What is visible in the background?\n",
      "    *   The ocean\n",
      "\n",
      "20. What is the texture of the sand?\n",
      "    *   Sandy\n",
      "\n",
      "21. What is the dog’s tail doing?\n",
      "    *   Up\n",
      "\n",
      "22. What is the woman’s hair color?\n",
      "    *   Dark (implied)\n",
      "\n",
      "23. Is the scene indoors or outdoors?\n",
      "    *   Outdoors\n",
      "\n",
      "24. What is the overall mood of the image?\n",
      "    *   Peaceful and serene\n",
      "\n",
      "25. What is the dog’s head position?\n",
      "    *   Up\n",
      "\n",
      "26. What is the woman’s hand doing?\n",
      "    *   Holding\n",
      "\n",
      "27. What is the leash made of?\n",
      "    *   Fabric\n",
      "\n",
      "28. What is the color of the leash?\n",
      "    *   Multi-colored\n",
      "\n",
      "29. Is the sun visible?\n",
      "    *   Yes\n",
      "\n",
      "30. What is the distance of the ocean?\n",
      "    *   Far\n",
      "\n",
      "31. What is the woman’s activity?\n",
      "    *   Relaxing\n",
      "\n",
      "32. What is the dog’s body language?\n",
      "    *   Relaxed\n",
      "\n",
      "33. What is the lighting like?\n",
      "    *   Warm\n",
      "\n",
      "34. What is the woman’s clothing material?\n",
      "    *   Fabric\n",
      "\n",
      "35. What is the dog’s breed?\n",
      "    *   Golden Retriever\n",
      "\n",
      "36. What is the size of the dog?\n",
      "    *   Medium\n",
      "\n",
      "37. What is the woman’s facial expression?\n",
      "    *   Happy\n",
      "\n",
      "38. What is the color of the waves?\n",
      "    *   Blue (implied)\n",
      "\n",
      "39. Is there any vegetation in the scene?\n",
      "    *   No\n",
      "\n",
      "40. What is the woman’s shoe color?\n",
      "    *   Black (implied)\n",
      "\n",
      "41. What is the dog’s eye color?\n",
      "    *   Brown (implied)\n",
      "\n",
      "42. What is the woman’s age range?\n",
      "    *   Young adult\n",
      "\n",
      "43. What is the dog’s breed size?\n",
      "    *   Large\n",
      "\n",
      "44. What is the woman’s posture like?\n",
      "    *   Relaxed\n",
      "\n",
      "45. What is the texture of the woman’s shirt?\n",
      "    *   Plaided\n",
      "\n",
      "46. What is the dog’s weight?\n",
      "    *   Medium\n",
      "\n",
      "47. What is the woman’s activity level?\n",
      "    *   Still\n",
      "\n",
      "48. What is the overall composition of the image?\n",
      "    *   Centered\n",
      "\n",
      "49. What is the color of the dog’s collar?\n",
      "    *   Multi-colored\n",
      "\n",
      "50. What is the general feeling of the image?\n",
      "    *   Joyful\n"
     ]
    }
   ],
   "source": [
    "messages = [\n",
    "    {\n",
    "        \"role\": \"system\",\n",
    "        \"content\": [{\"type\": \"text\", \"text\": \"You are a helpful assistant.\"}]\n",
    "    },\n",
    "    {\n",
    "        \"role\": \"user\",\n",
    "        \"content\": [\n",
    "            {\"type\": \"image\", \"url\": f\"{url}\"},\n",
    "            {\"type\": \"text\", \"text\": f\"{prompt}\"}\n",
    "        ]\n",
    "    }\n",
    "]\n",
    "\n",
    "output = pipe(text=messages, max_new_tokens=1000)\n",
    "print(output[0][\"generated_text\"][-1][\"content\"])\n",
    "output_text = output[0][\"generated_text\"][-1][\"content\"]\n",
    "# Okay, let's take a look! \n",
    "# Based on the image, the animal on the candy is a **turtle**. \n",
    "# You can see the shell shape and the head and legs.\n"
   ]
  },
  {
   "cell_type": "code",
   "execution_count": 30,
   "id": "211486e0",
   "metadata": {},
   "outputs": [
    {
     "name": "stdout",
     "output_type": "stream",
     "text": [
      "The question-answer pairs have been saved to 'questions_answers(Gemma3).json'.\n"
     ]
    }
   ],
   "source": [
    "import re\n",
    "qa_raw_list = output_text \n",
    "\n",
    "questions = []\n",
    "answers = []\n",
    "\n",
    "# Step 2: Loop through the raw list to extract the questions and answers\n",
    "for i in range(0, len(qa_raw_list), 3):  # Step by 3 since each question and answer is followed by a blank line\n",
    "    question = re.sub(r'^\\d+\\.\\s*', '', qa_raw_list[i]).strip()\n",
    "    questions.append(question)\n",
    "    answer = qa_raw_list[i + 1].strip().lstrip('* ')  # Clean the answer (remove '* ' prefix)\n",
    "    answers.append(answer)\n",
    "    \n",
    "qa_data = [{\"question\": question, \"answer\": answer} for question, answer in zip(questions, answers)]    \n",
    "\n",
    "\n",
    "# Step 4: Save the dictionary as a JSON file\n",
    "with open('questions_answers(Gemma3).json', 'w') as json_file:\n",
    "    json.dump(qa_data, json_file, indent=4)\n",
    "\n",
    "print(\"The question-answer pairs have been saved to 'questions_answers(Gemma3).json'.\")"
   ]
  },
  {
   "cell_type": "code",
   "execution_count": 28,
   "id": "997b02f8",
   "metadata": {
    "tags": []
   },
   "outputs": [
    {
     "name": "stdout",
     "output_type": "stream",
     "text": [
      "{\n",
      "    \"What color is the dog’s fur?\": \"Yellow\",\n",
      "    \"What is the woman wearing?\": \"A plaid shirt\",\n",
      "    \"What is the dog doing?\": \"Sitting\",\n",
      "    \"What is the surface the woman is sitting on?\": \"Sand\",\n",
      "    \"What is the ocean doing?\": \"Crashing\",\n",
      "    \"What color is the sky?\": \"Orange and pink\",\n",
      "    \"Is the woman smiling?\": \"Yes\",\n",
      "    \"What is the dog looking at?\": \"The woman\",\n",
      "    \"What is the dog’s expression?\": \"A smile\",\n",
      "    \"What is the woman holding?\": \"The dog’s leash\",\n",
      "    \"What type of dog is in the image?\": \"Golden retriever\",\n",
      "    \"What is the weather like?\": \"Sunny\",\n",
      "    \"What is the time of day?\": \"Sunrise or sunset\",\n",
      "    \"What is the woman’s clothing style?\": \"Casual\",\n",
      "    \"What is the color of the woman’s pants?\": \"Black\",\n",
      "    \"Is the beach wet?\": \"Yes (implied by the waves)\",\n",
      "    \"What is the dog’s posture?\": \"Sitting\",\n",
      "    \"What is the woman’s position?\": \"Sitting\",\n",
      "    \"What is visible in the background?\": \"The ocean\",\n",
      "    \"What is the texture of the sand?\": \"Sandy\",\n",
      "    \"What is the dog’s tail doing?\": \"Up\",\n",
      "    \"What is the woman’s hair color?\": \"Dark (implied)\",\n",
      "    \"Is the scene indoors or outdoors?\": \"Outdoors\",\n",
      "    \"What is the overall mood of the image?\": \"Peaceful and serene\",\n",
      "    \"What is the dog’s head position?\": \"Up\",\n",
      "    \"What is the woman’s hand doing?\": \"Holding\",\n",
      "    \"What is the leash made of?\": \"Fabric\",\n",
      "    \"What is the color of the leash?\": \"Multi-colored\",\n",
      "    \"Is the sun visible?\": \"Yes\",\n",
      "    \"What is the distance of the ocean?\": \"Far\",\n",
      "    \"What is the woman’s activity?\": \"Relaxing\",\n",
      "    \"What is the dog’s body language?\": \"Relaxed\",\n",
      "    \"What is the lighting like?\": \"Warm\",\n",
      "    \"What is the woman’s clothing material?\": \"Fabric\",\n",
      "    \"What is the dog’s breed?\": \"Golden Retriever\",\n",
      "    \"What is the size of the dog?\": \"Medium\",\n",
      "    \"What is the woman’s facial expression?\": \"Happy\",\n",
      "    \"What is the color of the waves?\": \"Blue (implied)\",\n",
      "    \"Is there any vegetation in the scene?\": \"No\",\n",
      "    \"What is the woman’s shoe color?\": \"Black (implied)\",\n",
      "    \"What is the dog’s eye color?\": \"Brown (implied)\",\n",
      "    \"What is the woman’s age range?\": \"Young adult\",\n",
      "    \"What is the dog’s breed size?\": \"Large\",\n",
      "    \"What is the woman’s posture like?\": \"Relaxed\",\n",
      "    \"What is the texture of the woman’s shirt?\": \"Plaided\",\n",
      "    \"What is the dog’s weight?\": \"Medium\",\n",
      "    \"What is the woman’s activity level?\": \"Still\",\n",
      "    \"What is the overall composition of the image?\": \"Centered\",\n",
      "    \"What is the color of the dog’s collar?\": \"Multi-colored\",\n",
      "    \"What is the general feeling of the image?\": \"Joyful\"\n",
      "}\n"
     ]
    }
   ],
   "source": [
    "\n",
    "\n",
    "# Open and load the JSON file\n",
    "with open('questions_answers(Gemma3).json', 'r') as file:\n",
    "    data = json.load(file)\n",
    "\n",
    "# Print the contents of the JSON file\n",
    "print(json.dumps(data, indent=4,ensure_ascii=False))  # This will format the JSON for better readability\n"
   ]
  }
 ],
 "metadata": {
  "kernelspec": {
   "display_name": "Python (myenv)",
   "language": "python",
   "name": "myenv"
  },
  "language_info": {
   "codemirror_mode": {
    "name": "ipython",
    "version": 3
   },
   "file_extension": ".py",
   "mimetype": "text/x-python",
   "name": "python",
   "nbconvert_exporter": "python",
   "pygments_lexer": "ipython3",
   "version": "3.10.12"
  }
 },
 "nbformat": 4,
 "nbformat_minor": 5
}
