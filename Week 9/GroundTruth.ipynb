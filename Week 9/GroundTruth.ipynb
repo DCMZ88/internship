{
 "cells": [
  {
   "cell_type": "code",
   "execution_count": null,
   "id": "1b35a656",
   "metadata": {},
   "outputs": [],
   "source": [
    "# Code for saving all the processed labels into a ground truth json file"
   ]
  },
  {
   "cell_type": "code",
   "execution_count": null,
   "id": "dd1ae8dc",
   "metadata": {},
   "outputs": [],
   "source": [
    "#IMPT : Run all the cells together ONCE orelse it will result in duplicates."
   ]
  },
  {
   "cell_type": "code",
   "execution_count": 11,
   "id": "9ab6d244",
   "metadata": {},
   "outputs": [],
   "source": [
    "# Loads individual files \n",
    "def load_files(file, directory_path):\n",
    "    # Open and read the JSON file\n",
    "    path = os.path.join(directory_path,file)\n",
    "    with open(path, 'r') as json_file:\n",
    "        data = json.load(json_file)\n",
    "    return data"
   ]
  },
  {
   "cell_type": "code",
   "execution_count": 12,
   "id": "125922f9",
   "metadata": {},
   "outputs": [],
   "source": [
    "# Creates the Ground_Truth File and initialises all the file names as key \n",
    "import os\n",
    "import json\n",
    "# List all files in the directory\n",
    "directory_path = \"/home/jovyan/Evaluation/Results(OmDet)/Labels\" \n",
    "files = os.listdir(directory_path)\n",
    "# Filter out directories and show only files\n",
    "files = [file for file in files if os.path.isfile(os.path.join(directory_path, file))]\n",
    "\n",
    "file_path = 'Ground_Truth_Qwen.json'\n",
    "\n",
    "if os.path.exists(file_path) and os.path.getsize(file_path) > 0:\n",
    "    with open(file_path, \"r\") as file:\n",
    "        try:\n",
    "            data = json.load(file)  # Load existing JSON data\n",
    "        except json.JSONDecodeError:\n",
    "            data = {}  # If file is empty or corrupted, start fresh\n",
    "else:\n",
    "    data = {}  # If file doesn't exist, create a new list\n",
    "\n",
    "# Print the list of files\n",
    "for index, file in enumerate(files):\n",
    "    data[file] = []\n",
    "    with open(file_path, \"w\") as file:\n",
    "        json.dump(data, file, indent=4)"
   ]
  },
  {
   "cell_type": "code",
   "execution_count": 13,
   "id": "bc16bbba",
   "metadata": {},
   "outputs": [],
   "source": [
    "def save_data(name,label):\n",
    "    with open(file_path,\"r\") as file:\n",
    "        data = json.load(file)\n",
    "        data[name].append(label)\n",
    "    with open(file_path, \"w\") as file:\n",
    "        json.dump(data, file, indent=4)"
   ]
  },
  {
   "cell_type": "code",
   "execution_count": 14,
   "id": "837f83db",
   "metadata": {},
   "outputs": [
    {
     "name": "stdout",
     "output_type": "stream",
     "text": [
      "Labels successfully saved into json file\n"
     ]
    }
   ],
   "source": [
    "import os\n",
    "import json\n",
    "# For OmDet\n",
    "directory_path = \"/home/jovyan/Evaluation/Results(OmDet)/Labels\"  # Replace this with the actual path\n",
    "\n",
    "# List all files in the directory\n",
    "files = os.listdir(directory_path)\n",
    "# Filter out directories and show only files\n",
    "files = [file for file in files if os.path.isfile(os.path.join(directory_path, file))]\n",
    "\n",
    "\n",
    "# Print the list of files\n",
    "for index, file in enumerate(files):\n",
    "    data = load_files(file,directory_path)\n",
    "    for label in data['Correct Labels']:\n",
    "        save_data(file,label)\n",
    "    \n",
    "print(f\"Labels successfully saved into json file\")"
   ]
  },
  {
   "cell_type": "code",
   "execution_count": 15,
   "id": "216f4b10",
   "metadata": {},
   "outputs": [
    {
     "name": "stdout",
     "output_type": "stream",
     "text": [
      "Labels successfully saved into json file\n"
     ]
    }
   ],
   "source": [
    "# For GroundingDINO\n",
    "directory_path = \"/home/jovyan/Evaluation/Results(GD)/Labels\"  # Replace this with the actual path\n",
    "\n",
    "# List all files in the directory\n",
    "files = os.listdir(directory_path)\n",
    "\n",
    "# Filter out directories and show only files\n",
    "files = [file for file in files if os.path.isfile(os.path.join(directory_path, file))]\n",
    "\n",
    "# Print the list of files\n",
    "for index, file in enumerate(files):\n",
    "    data = load_files(file,directory_path)\n",
    "    for label in data['Correct Labels']:\n",
    "        save_data(file,label)\n",
    "print(f\"Labels successfully saved into json file\")"
   ]
  },
  {
   "cell_type": "code",
   "execution_count": 7,
   "id": "7256ddfb",
   "metadata": {},
   "outputs": [],
   "source": [
    "# For Owlv2 \n",
    "directory_path = \"/home/jovyan/Evaluation/Results(OwlVit)/Labels(Gemma)\"  # Replace this with the actual path\n",
    "\n",
    "# List all files in the directory\n",
    "files = os.listdir(directory_path)\n",
    "\n",
    "# Filter out directories and show only files\n",
    "files = [file for file in files if os.path.isfile(os.path.join(directory_path, file))]\n",
    "\n",
    "# Print the list of files\n",
    "for index, file in enumerate(files):\n",
    "    data = load_files(file,directory_path)\n",
    "    for label in data['Correct Labels']:\n",
    "       save_data(file,label)"
   ]
  },
  {
   "cell_type": "code",
   "execution_count": 16,
   "id": "b227cdba",
   "metadata": {},
   "outputs": [],
   "source": [
    "# Only keeps the labels that are in all models. ( Count is the number of models there are)\n",
    "from collections import Counter\n",
    "with open(file_path, \"r\") as file:\n",
    "    data = json.load(file)\n",
    "for files in data:\n",
    "    # Count occurrences\n",
    "    items = data[files]\n",
    "    counts = Counter(items)\n",
    "\n",
    "    # Extract items that appear exactly 3 times\n",
    "    ground_truth = [item for item, count in counts.items() if count == 2]\n",
    "    with open(file_path, \"w\") as file:\n",
    "        data[files] = ground_truth\n",
    "        json.dump(data,file,indent=4)"
   ]
  }
 ],
 "metadata": {
  "kernelspec": {
   "display_name": "Python (myenv)",
   "language": "python",
   "name": "myenv"
  },
  "language_info": {
   "codemirror_mode": {
    "name": "ipython",
    "version": 3
   },
   "file_extension": ".py",
   "mimetype": "text/x-python",
   "name": "python",
   "nbconvert_exporter": "python",
   "pygments_lexer": "ipython3",
   "version": "3.10.12"
  }
 },
 "nbformat": 4,
 "nbformat_minor": 5
}
