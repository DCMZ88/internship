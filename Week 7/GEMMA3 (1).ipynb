{
 "cells": [
  {
   "cell_type": "code",
   "execution_count": 50,
   "id": "36d7d56d",
   "metadata": {},
   "outputs": [],
   "source": [
    "#Import Required Libraries\n",
    "from PIL import Image\n",
    "import requests"
   ]
  },
  {
   "cell_type": "code",
   "execution_count": 51,
   "id": "0ff8719d",
   "metadata": {},
   "outputs": [],
   "source": [
    "# Ensures that there is enough memory allocation for the model to load\n",
    "import os\n",
    "os.environ[\"PYTORCH_CUDA_ALLOC_CONF\"] = \"expandable_segments:True\""
   ]
  },
  {
   "cell_type": "code",
   "execution_count": 52,
   "id": "f4571021",
   "metadata": {},
   "outputs": [
    {
     "name": "stderr",
     "output_type": "stream",
     "text": [
      "Loading checkpoint shards: 100%|██████████| 2/2 [00:01<00:00,  1.41it/s]\n",
      "Device set to use cuda\n"
     ]
    }
   ],
   "source": [
    "from transformers import pipeline\n",
    "import torch\n",
    "\n",
    "pipe = pipeline(\n",
    "    \"image-text-to-text\",\n",
    "    model=\"google/gemma-3-4b-it\",\n",
    "    device=\"cuda\",\n",
    "    torch_dtype=torch.bfloat16\n",
    ")\n"
   ]
  },
  {
   "cell_type": "code",
   "execution_count": null,
   "id": "bbac11a2",
   "metadata": {
    "tags": []
   },
   "outputs": [],
   "source": [
    "# Input Image\n",
    "\n",
    "# Specify the path to your url file\n",
    "file_path = '/home/jovyan/url.txt'  # Replace with your file's path\n",
    "\n",
    "try:\n",
    "    # Open the file in read mode\n",
    "    with open(file_path, 'r') as file:\n",
    "        # Read the contents of the file\n",
    "        url = file.read()\n",
    "        \n",
    "        # Print the contents of the file\n",
    "        print(questions)\n",
    "\n",
    "except FileNotFoundError:\n",
    "    print(f\"Error: The file at {file_path} was not found.\")\n",
    "except IOError:\n",
    "    print(\"Error: An error occurred while reading the file.\")\n",
    "\n",
    "\n",
    "image = Image.open(requests.get(url, stream=True).raw)\n",
    "image "
   ]
  },
  {
   "cell_type": "code",
   "execution_count": 54,
   "id": "fc5fbff6",
   "metadata": {},
   "outputs": [],
   "source": [
    "# Number of questions to be generated \n",
    "questions = 20"
   ]
  },
  {
   "cell_type": "code",
   "execution_count": 55,
   "id": "bfe04e75",
   "metadata": {
    "tags": []
   },
   "outputs": [
    {
     "name": "stdout",
     "output_type": "stream",
     "text": [
      " What is the main animal in the image?\n",
      " What type of clothing is the person wearing?\n",
      " What is on the ground near the person?\n",
      " What is the surface the person and dog are sitting on?\n",
      " What is the body of water visible in the background?\n",
      " What is the dog wearing?\n",
      " What is the person holding?\n",
      " What is the object near the dog's paw?\n",
      " What is the primary element in the background?\n",
      "What is the general environment depicted?\n",
      "What is the person doing?\n",
      "What is the dog doing?\n",
      "What is the object between the person and the dog?\n",
      "What is the texture of the ground?\n",
      "What is the shape of the waves?\n",
      "What is the light source in the image?\n",
      "What is the main feature of the dog’s appearance?\n",
      "What is the person’s posture?\n",
      "What is the color of the dog’s fur?\n",
      "What is the main element in the foreground?\n"
     ]
    }
   ],
   "source": [
    "# Specify the path to your .txt file\n",
    "file_path = '/home/jovyan/questions(OD).txt'  # Replace with your file's path\n",
    "\n",
    "try:\n",
    "    # Open the file in read mode\n",
    "    with open(file_path, 'r') as file:\n",
    "        # Read the contents of the file\n",
    "        questions = file.read()\n",
    "        \n",
    "        # Print the contents of the file\n",
    "        print(questions)\n",
    "\n",
    "except FileNotFoundError:\n",
    "    print(f\"Error: The file at {file_path} was not found.\")\n",
    "except IOError:\n",
    "    print(\"Error: An error occurred while reading the file.\")\n"
   ]
  },
  {
   "cell_type": "code",
   "execution_count": 56,
   "id": "47c63b8d",
   "metadata": {},
   "outputs": [
    {
     "name": "stdout",
     "output_type": "stream",
     "text": [
      "\n",
      "Task: Answer the input questions with short, concise answers given the input image.\n",
      "\n",
      "Questions:  What is the main animal in the image?\n",
      " What type of clothing is the person wearing?\n",
      " What is on the ground near the person?\n",
      " What is the surface the person and dog are sitting on?\n",
      " What is the body of water visible in the background?\n",
      " What is the dog wearing?\n",
      " What is the person holding?\n",
      " What is the object near the dog's paw?\n",
      " What is the primary element in the background?\n",
      "What is the general environment depicted?\n",
      "What is the person doing?\n",
      "What is the dog doing?\n",
      "What is the object between the person and the dog?\n",
      "What is the texture of the ground?\n",
      "What is the shape of the waves?\n",
      "What is the light source in the image?\n",
      "What is the main feature of the dog’s appearance?\n",
      "What is the person’s posture?\n",
      "What is the color of the dog’s fur?\n",
      "What is the main element in the foreground?\n",
      "\n",
      "Include only the answers. Do not include the header.\n",
      "\n"
     ]
    }
   ],
   "source": [
    "# Input prompt \n",
    "prompt = f\"\"\"\n",
    "Task: Answer the input questions with short, concise answers given the input image.\n",
    "\n",
    "Questions: {questions}\n",
    "\n",
    "Include only the answers. Do not include the header.\n",
    "\"\"\"\n",
    "print(prompt)"
   ]
  },
  {
   "cell_type": "code",
   "execution_count": 57,
   "id": "01cf1373",
   "metadata": {},
   "outputs": [],
   "source": [
    "import torch\n",
    "torch.cuda.empty_cache()"
   ]
  },
  {
   "cell_type": "code",
   "execution_count": 58,
   "id": "fbe72ea5",
   "metadata": {},
   "outputs": [
    {
     "name": "stdout",
     "output_type": "stream",
     "text": [
      "Dog\n",
      "Flannel shirt\n",
      "Red leash\n",
      "Sand\n",
      "Ocean\n",
      "Dog collar\n",
      "Hand\n",
      "Red toy\n",
      "Paw\n",
      "Sky\n",
      "Beach\n",
      "Sitting\n",
      "Sitting\n",
      "Nothing\n",
      "Sandy\n",
      "Wavy\n",
      "Sun\n",
      "Golden\n",
      "Sitting\n"
     ]
    }
   ],
   "source": [
    "messages = [\n",
    "    {\n",
    "        \"role\": \"system\",\n",
    "        \"content\": [{\"type\": \"text\", \"text\": \"You are a helpful assistant.\"}]\n",
    "    },\n",
    "    {\n",
    "        \"role\": \"user\",\n",
    "        \"content\": [\n",
    "            {\"type\": \"image\", \"url\": f\"{url}\"},\n",
    "            {\"type\": \"text\", \"text\": f\"{prompt}\"}\n",
    "        ]\n",
    "    }\n",
    "]\n",
    "\n",
    "output = pipe(text=messages, max_new_tokens=1000)\n",
    "print(output[0][\"generated_text\"][-1][\"content\"])\n",
    "output_text = output[0][\"generated_text\"][-1][\"content\"]"
   ]
  },
  {
   "cell_type": "code",
   "execution_count": 59,
   "id": "30863227",
   "metadata": {
    "tags": []
   },
   "outputs": [
    {
     "name": "stdout",
     "output_type": "stream",
     "text": [
      "The question-answer pairs have been saved to q&a(gemma).json.\n",
      "[\n",
      "    {\n",
      "        \"question\": \"What is the main animal in the image?\",\n",
      "        \"answer\": \"Dog\"\n",
      "    },\n",
      "    {\n",
      "        \"question\": \" What type of clothing is the person wearing?\",\n",
      "        \"answer\": \"Flannel shirt\"\n",
      "    },\n",
      "    {\n",
      "        \"question\": \" What is on the ground near the person?\",\n",
      "        \"answer\": \"Red leash\"\n",
      "    },\n",
      "    {\n",
      "        \"question\": \" What is the surface the person and dog are sitting on?\",\n",
      "        \"answer\": \"Sand\"\n",
      "    },\n",
      "    {\n",
      "        \"question\": \" What is the body of water visible in the background?\",\n",
      "        \"answer\": \"Ocean\"\n",
      "    },\n",
      "    {\n",
      "        \"question\": \" What is the dog wearing?\",\n",
      "        \"answer\": \"Dog collar\"\n",
      "    },\n",
      "    {\n",
      "        \"question\": \" What is the person holding?\",\n",
      "        \"answer\": \"Hand\"\n",
      "    },\n",
      "    {\n",
      "        \"question\": \" What is the object near the dog's paw?\",\n",
      "        \"answer\": \"Red toy\"\n",
      "    },\n",
      "    {\n",
      "        \"question\": \" What is the primary element in the background?\",\n",
      "        \"answer\": \"Paw\"\n",
      "    },\n",
      "    {\n",
      "        \"question\": \"What is the general environment depicted?\",\n",
      "        \"answer\": \"Sky\"\n",
      "    },\n",
      "    {\n",
      "        \"question\": \"What is the person doing?\",\n",
      "        \"answer\": \"Beach\"\n",
      "    },\n",
      "    {\n",
      "        \"question\": \"What is the dog doing?\",\n",
      "        \"answer\": \"Sitting\"\n",
      "    },\n",
      "    {\n",
      "        \"question\": \"What is the object between the person and the dog?\",\n",
      "        \"answer\": \"Sitting\"\n",
      "    },\n",
      "    {\n",
      "        \"question\": \"What is the texture of the ground?\",\n",
      "        \"answer\": \"Nothing\"\n",
      "    },\n",
      "    {\n",
      "        \"question\": \"What is the shape of the waves?\",\n",
      "        \"answer\": \"Sandy\"\n",
      "    },\n",
      "    {\n",
      "        \"question\": \"What is the light source in the image?\",\n",
      "        \"answer\": \"Wavy\"\n",
      "    },\n",
      "    {\n",
      "        \"question\": \"What is the main feature of the dog’s appearance?\",\n",
      "        \"answer\": \"Sun\"\n",
      "    },\n",
      "    {\n",
      "        \"question\": \"What is the person’s posture?\",\n",
      "        \"answer\": \"Golden\"\n",
      "    },\n",
      "    {\n",
      "        \"question\": \"What is the color of the dog’s fur?\",\n",
      "        \"answer\": \"Sitting\"\n",
      "    }\n",
      "]\n"
     ]
    }
   ],
   "source": [
    "import re\n",
    "import json \n",
    "\n",
    "questions_list = questions.strip().split('\\n')\n",
    "answers_list = output_text.strip().split('\\n')\n",
    "    \n",
    "qa_data = [{\"question\": question, \"answer\": answer} for question, answer in zip(questions_list, answers_list)]  \n",
    "\n",
    "# Step 4: Save the dictionary as a JSON file\n",
    "file_name = 'q&a(gemma).json'\n",
    "with open(file_name , 'w') as json_file:\n",
    "    json.dump(qa_data, json_file, indent=4)\n",
    "\n",
    "print(f\"The question-answer pairs have been saved to {file_name}.\")\n",
    "\n",
    "# Open and load the JSON file\n",
    "with open(file_name, 'r') as file:\n",
    "    data = json.load(file)\n",
    "\n",
    "# Print the contents of the JSON file\n",
    "print(json.dumps(data, indent=4,ensure_ascii=False))  # This will format the JSON for better readability\n"
   ]
  }
 ],
 "metadata": {
  "kernelspec": {
   "display_name": "Python (myenv)",
   "language": "python",
   "name": "myenv"
  },
  "language_info": {
   "codemirror_mode": {
    "name": "ipython",
    "version": 3
   },
   "file_extension": ".py",
   "mimetype": "text/x-python",
   "name": "python",
   "nbconvert_exporter": "python",
   "pygments_lexer": "ipython3",
   "version": "3.10.12"
  }
 },
 "nbformat": 4,
 "nbformat_minor": 5
}
