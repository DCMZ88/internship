{
 "cells": [
  {
   "cell_type": "code",
   "execution_count": 18,
   "id": "cc05edc2",
   "metadata": {},
   "outputs": [
    {
     "name": "stdout",
     "output_type": "stream",
     "text": [
      "File Created Successfully\n",
      "Recall: 73.39\n",
      "Precision: 76.36\n"
     ]
    }
   ],
   "source": [
    "import json \n",
    "import os\n",
    "from collections import Counter\n",
    "\n",
    "with open(\"Ground_Truth.json\", \"r\") as file:\n",
    "    ground_truth = json.load(file)\n",
    "path = 'QwenOCR'\n",
    "file_paths = f'/home/jovyan/Evaluation/OCR/Data/{path}.json'\n",
    "with open(file_paths, \"r\") as file:\n",
    "    labels_list = json.load(file)\n",
    "    \n",
    "data = {}\n",
    "total_recall = 0\n",
    "total_precision = 0\n",
    "invalid = 0 \n",
    "# Goes through each image\n",
    "for file in labels_list:\n",
    "    # Counts the number of times a word repeats \n",
    "    predicted_counter = Counter(labels_list[file])\n",
    "    truth_counter = Counter(ground_truth[file])\n",
    "\n",
    "    correct_words = []\n",
    "    wrong_words = []\n",
    "\n",
    "    correct = 0\n",
    "    wrong = 0\n",
    "    # Goes through each label\n",
    "    for word, pred_count in predicted_counter.items():\n",
    "        # Finds how many of that word is repeated in the ground truth\n",
    "        true_count = truth_counter[word]\n",
    "        # Compares the how many repeats of the word in the output to the ground truth\n",
    "        matched_count = min(pred_count, true_count)\n",
    "        # If it matches, counts it as correct \n",
    "        correct += matched_count\n",
    "        wrong += pred_count - matched_count\n",
    "        \n",
    "        correct_words.extend([word] * matched_count)\n",
    "        wrong_words.extend([word] * (pred_count - matched_count))\n",
    "\n",
    "    if len(ground_truth[file]) != 0:\n",
    "        recall = correct / len(ground_truth[file])\n",
    "        precision = correct / (correct + wrong)\n",
    "        total_recall += recall\n",
    "        total_precision += precision\n",
    "        data[file] = {\n",
    "            \"Correct Words\": correct_words,\n",
    "            \"Incorrect Words\": wrong_words,\n",
    "            \"Ground Truth\": ground_truth[file],\n",
    "            \"Recall\": round(recall * 100, 2),\n",
    "            \"Precision\": round(precision * 100, 2)\n",
    "        }\n",
    "    else:\n",
    "        data[file] = {\n",
    "            \"Correct Words\": 0,\n",
    "            \"Incorrect Words\": 0,\n",
    "            \"Ground Truth\": 0,\n",
    "            \"Recall\": 0,\n",
    "            \"Precision\": 0\n",
    "        }\n",
    "        invalid += 1\n",
    "\n",
    "overall_recall = total_recall/(len(labels_list) - invalid)\n",
    "overall_precision = total_precision/(len(labels_list) - invalid)\n",
    "with open(f\"{path}(Labels).json\", \"w\") as f:\n",
    "    json.dump(data, f, indent=4)\n",
    "print(f\"File Created Successfully\")       \n",
    "print(f\"Recall: {round(overall_recall*100,2)}\")\n",
    "print(f\"Precision: {round(overall_precision*100,2)}\")"
   ]
  }
 ],
 "metadata": {
  "kernelspec": {
   "display_name": "Python (myenv)",
   "language": "python",
   "name": "myenv"
  },
  "language_info": {
   "codemirror_mode": {
    "name": "ipython",
    "version": 3
   },
   "file_extension": ".py",
   "mimetype": "text/x-python",
   "name": "python",
   "nbconvert_exporter": "python",
   "pygments_lexer": "ipython3",
   "version": "3.10.12"
  }
 },
 "nbformat": 4,
 "nbformat_minor": 5
}
