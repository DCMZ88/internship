{
 "cells": [
  {
   "cell_type": "code",
   "execution_count": null,
   "id": "22927a72",
   "metadata": {},
   "outputs": [],
   "source": [
    "# Ensures that there is enough memory allocation for the model to load\n",
    "import os\n",
    "import torch\n",
    "os.environ[\"PYTORCH_CUDA_ALLOC_CONF\"] = \"expandable_segments:True\"\n",
    "torch.cuda.empty_cache()"
   ]
  },
  {
   "cell_type": "code",
   "execution_count": null,
   "id": "54f7b0fe",
   "metadata": {},
   "outputs": [],
   "source": [
    "from PIL import Image\n",
    "from transformers import AutoModelForCausalLM, AutoProcessor\n",
    "\n",
    "model_path = \"moonshotai/Kimi-VL-A3B-Instruct\"\n",
    "model = AutoModelForCausalLM.from_pretrained(\n",
    "    model_path,\n",
    "    torch_dtype=\"auto\",\n",
    "    device_map=\"cuda\",\n",
    "    trust_remote_code=True,\n",
    ")\n",
    "processor = AutoProcessor.from_pretrained(model_path, trust_remote_code=True)"
   ]
  },
  {
   "cell_type": "code",
   "execution_count": null,
   "id": "f5845d14",
   "metadata": {},
   "outputs": [],
   "source": [
    "file_path = '/home/jovyan/Evaluation/OCR/KimiOCR.json'\n",
    "if os.path.exists(file_path):\n",
    "    os.remove(file_path)\n",
    "    print(\"✅ File deleted successfully.\")\n",
    "else:\n",
    "    print(\"⚠️ File does not exist.\")"
   ]
  },
  {
   "cell_type": "code",
   "execution_count": null,
   "id": "35a20dbd",
   "metadata": {},
   "outputs": [],
   "source": [
    "import re\n",
    "import json\n",
    "# Path to the directory (library)\n",
    "directory_path = \"/home/jovyan/images\"\n",
    "# List all files in the directory\n",
    "files = os.listdir(directory_path)\n",
    "\n",
    "# Filter out directories and show only files\n",
    "files = [file for file in files if os.path.isfile(os.path.join(directory_path, file))]\n",
    "\n",
    "data = {}\n",
    "\n",
    "    \n",
    "# Print the list of files\n",
    "for index, file in enumerate(files):\n",
    "    # Optimize memory usage \n",
    "    print(f\"Processing image {file}\")\n",
    "    \n",
    "    image_path = os.path.join(directory_path,file)\n",
    "    \n",
    "    image = Image.open(image_path)\n",
    "    prompt = f\"\"\"\n",
    "    TASK : Object Character Recognition by Region.\n",
    "    Detect all text in the image.\n",
    "    Output:\n",
    "        - Do not include any header.\n",
    "        - Include only the text detected and nothing else.\n",
    "        - Ensure a consistent output.\n",
    "    \"\"\"\n",
    "\n",
    "    messages = [\n",
    "        {\"role\": \"user\", \"content\": [{\"type\": \"image\", \"image\": image_path}, {\"type\": \"text\", \"text\": {prompt} }]}\n",
    "    ]\n",
    "    text = processor.apply_chat_template(messages, add_generation_prompt=True, return_tensors=\"pt\")\n",
    "    inputs = processor(images=image, text=text, return_tensors=\"pt\", padding=True, truncation=True).to(model.device)\n",
    "    generated_ids = model.generate(**inputs, max_new_tokens=512)\n",
    "    generated_ids_trimmed = [\n",
    "        out_ids[len(in_ids) :] for in_ids, out_ids in zip(inputs.input_ids, generated_ids)\n",
    "    ]\n",
    "    response = processor.batch_decode(\n",
    "        generated_ids_trimmed, skip_special_tokens=True, clean_up_tokenization_spaces=False\n",
    "    )[0]\n",
    "    \n",
    "    word_list = response.split()\n",
    "    data[file] = word_list\n",
    "    print(f\"Successfully processed Image {file} ,{index+1}/{len(files)} Images Processed\")\n",
    "with open(\"KimiOCR.json\", \"w\") as f:\n",
    "    json.dump(data,f,indent=4)\n"
   ]
  },
  {
   "cell_type": "code",
   "execution_count": null,
   "id": "86982050",
   "metadata": {},
   "outputs": [],
   "source": []
  }
 ],
 "metadata": {
  "kernelspec": {
   "display_name": "Python (myenv)",
   "language": "python",
   "name": "myenv"
  },
  "language_info": {
   "codemirror_mode": {
    "name": "ipython",
    "version": 3
   },
   "file_extension": ".py",
   "mimetype": "text/x-python",
   "name": "python",
   "nbconvert_exporter": "python",
   "pygments_lexer": "ipython3",
   "version": "3.10.12"
  }
 },
 "nbformat": 4,
 "nbformat_minor": 5
}
