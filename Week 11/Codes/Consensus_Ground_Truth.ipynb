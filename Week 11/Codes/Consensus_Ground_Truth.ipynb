{
 "cells": [
  {
   "cell_type": "code",
   "execution_count": null,
   "id": "79383069",
   "metadata": {},
   "outputs": [],
   "source": [
    "import json\n",
    "import os\n",
    "from collections import defaultdict, Counter  # Used for easier word counting and grouped dictionaries\n",
    "\n",
    "# Path to directory with model outputs\n",
    "directory_path = \"/home/jovyan/Evaluation/OCR/Data\"\n",
    "\n",
    "# Get all JSON files in the directory (assumed to be individual model outputs)\n",
    "files = [file for file in os.listdir(directory_path) if file.endswith(\".json\")]\n",
    "\n",
    "# Load all model outputs into a dictionary\n",
    "all_data = {}\n",
    "for file in files:\n",
    "    with open(os.path.join(directory_path, file), 'r') as f:\n",
    "        all_data[file] = json.load(f)  # all_data['ModelName.json'] = { image_name: [word1, word2, ...] }\n",
    "\n",
    "# Collect all unique image names across all models\n",
    "all_images = set()\n",
    "for model_data in all_data.values():\n",
    "    all_images.update(model_data.keys())  # Combine image keys from all model files\n",
    "\n",
    "# This will store the final consensus ground truth for each image\n",
    "consensus_ground_truth = {}\n",
    "\n",
    "# Go through each image one by one\n",
    "for image in all_images:\n",
    "    # Structure to store how many times each word appears in each model\n",
    "    # word_model_counts[word][model] = count\n",
    "    word_model_counts = defaultdict(dict)\n",
    "\n",
    "    # Loop through each model's prediction\n",
    "    for model_name, model_data in all_data.items():\n",
    "        if image in model_data:\n",
    "            # Count how many times each word appears in the current model's prediction\n",
    "            word_counts = Counter(model_data[image])\n",
    "            for word, count in word_counts.items():\n",
    "                word_model_counts[word][model_name] = count  # Store count per model\n",
    "\n",
    "    # Store consensus-agreed words for this image\n",
    "    consensus_words = []\n",
    "\n",
    "    # Check which words are predicted by at least 3 models\n",
    "    for word, model_counts in word_model_counts.items():\n",
    "        if len(model_counts) >= 3:  # Word appears in at least 3 models\n",
    "            min_count = min(model_counts.values())  # Get the minimum count among the models\n",
    "            consensus_words.extend([word] * min_count)  # Add the word `min_count` times\n",
    "\n",
    "    # Save the final agreed words for this image\n",
    "    consensus_ground_truth[image] = consensus_words\n",
    "\n",
    "# Write the consensus ground truth dictionary to a JSON file\n",
    "with open(\"Consensus_Ground_Truth.json\", \"w\") as f:\n",
    "    json.dump(consensus_ground_truth, f, indent=4)\n",
    "\n",
    "print(\"✅ Consensus Ground Truth generated.\")  # Done!\n"
   ]
  }
 ],
 "metadata": {
  "kernelspec": {
   "display_name": "Python (myenv)",
   "language": "python",
   "name": "myenv"
  },
  "language_info": {
   "codemirror_mode": {
    "name": "ipython",
    "version": 3
   },
   "file_extension": ".py",
   "mimetype": "text/x-python",
   "name": "python",
   "nbconvert_exporter": "python",
   "pygments_lexer": "ipython3",
   "version": "3.10.12"
  }
 },
 "nbformat": 4,
 "nbformat_minor": 5
}
