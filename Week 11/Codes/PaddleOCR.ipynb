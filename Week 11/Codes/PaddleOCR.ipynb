{
 "cells": [
  {
   "cell_type": "code",
   "execution_count": null,
   "id": "cd4b1ee0",
   "metadata": {},
   "outputs": [],
   "source": [
    "# Load PaddleOCR model \n",
    "from paddleocr import PaddleOCR,draw_ocr\n",
    "ocr = PaddleOCR(lang='en')"
   ]
  },
  {
   "cell_type": "code",
   "execution_count": null,
   "id": "c6f5c8b2",
   "metadata": {},
   "outputs": [],
   "source": [
    "from PIL import Image\n",
    "import json\n",
    "import os\n",
    "\n",
    "# Path to the directory (library)\n",
    "directory_path = \"/home/jovyan/images\"\n",
    "# List all files in the directory\n",
    "files = os.listdir(directory_path)\n",
    "\n",
    "data = {}\n",
    "\n",
    "# Filter out directories and show only files\n",
    "files = [file for file in files if os.path.isfile(os.path.join(directory_path, file))]\n",
    "\n",
    "for index, file in enumerate(files):\n",
    "    image_path = os.path.join(directory_path,file)\n",
    "    image = Image.open(image_path).convert(\"RGB\")\n",
    "    answer = []\n",
    "    result = ocr.ocr(image_path, cls=False)\n",
    "    for idx in range(len(result)):\n",
    "        res = result[idx]\n",
    "        if not res:\n",
    "            break\n",
    "        for line in res:\n",
    "            answer.append(line[1][0])\n",
    "    line = ' '.join(answer)\n",
    "    line = line.split()\n",
    "    \n",
    "    data[file] = line \n",
    "    print(f\"{index + 1}/{len(files)} Images successfully processed.\")\n",
    "with open(\"Ground_Truth.json\", \"w\") as file:\n",
    "    json.dump(data, file, indent=4)"
   ]
  }
 ],
 "metadata": {
  "kernelspec": {
   "display_name": "Python (myenv)",
   "language": "python",
   "name": "myenv"
  },
  "language_info": {
   "codemirror_mode": {
    "name": "ipython",
    "version": 3
   },
   "file_extension": ".py",
   "mimetype": "text/x-python",
   "name": "python",
   "nbconvert_exporter": "python",
   "pygments_lexer": "ipython3",
   "version": "3.10.12"
  }
 },
 "nbformat": 4,
 "nbformat_minor": 5
}
