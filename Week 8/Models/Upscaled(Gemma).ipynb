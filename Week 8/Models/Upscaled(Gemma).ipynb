{
 "cells": [
  {
   "cell_type": "code",
   "execution_count": null,
   "id": "0d395224",
   "metadata": {},
   "outputs": [],
   "source": [
    "# Ensures that there is enough memory allocation for the model to load\n",
    "import os\n",
    "os.environ[\"PYTORCH_CUDA_ALLOC_CONF\"] = \"expandable_segments:True\""
   ]
  },
  {
   "cell_type": "code",
   "execution_count": null,
   "id": "6aebd20e",
   "metadata": {},
   "outputs": [],
   "source": [
    "from transformers import pipeline\n",
    "import torch\n",
    "# Loads the model \n",
    "pipe = pipeline(\n",
    "    \"image-text-to-text\",\n",
    "    model=\"google/gemma-3-4b-it\",\n",
    "    device=\"cuda\",\n",
    "    torch_dtype=torch.bfloat16\n",
    ")\n"
   ]
  },
  {
   "cell_type": "code",
   "execution_count": null,
   "id": "3bbf8321",
   "metadata": {},
   "outputs": [],
   "source": [
    "import json\n",
    "def save_labels(labels_list, file,):\n",
    "    # Saves the labels in a json format \n",
    "    data ={\n",
    "        'Labels' : labels_list\n",
    "    }\n",
    "    \n",
    "    new_path = '/home/jovyan/Evaluation/Data'\n",
    "    \n",
    "    if not os.path.exists(new_path):\n",
    "        os.makedirs(new_path) # Create the directory if it doesn't exist\n",
    "        print(f\"{new_path} successfully created\")\n",
    "    \n",
    "    json_filename = file\n",
    "    json_filename = f'{json_filename}.json'\n",
    "    # Creates the new json file.\n",
    "    file_name = os.path.join(new_path , json_filename)\n",
    "    with open(file_name , 'w') as json_file:\n",
    "            json.dump(data, json_file, indent=4)\n",
    "    print(f\"File : {json_filename} successfully created!\")"
   ]
  },
  {
   "cell_type": "code",
   "execution_count": null,
   "id": "7a1ed046",
   "metadata": {},
   "outputs": [],
   "source": [
    "\n",
    "# Path to the directory (library)\n",
    "directory_path = \"/home/jovyan/images\"\n",
    "# List all files in the directory\n",
    "files = os.listdir(directory_path)\n",
    "\n",
    "# Filter out directories and show only files\n",
    "files = [file for file in files if os.path.isfile(os.path.join(directory_path, file))]\n",
    "\n",
    "# Print the list of files\n",
    "for index, file in enumerate(files):\n",
    "    # Optimize memory usage \n",
    "    torch.cuda.empty_cache()\n",
    "    print(f\"Processing image {file}\")\n",
    "    \n",
    "    image_path = os.path.join(directory_path, file)\n",
    "\n",
    "    # Prompt for the Google's Gemma \n",
    "    prompt = f\"\"\"\n",
    "    Detect all the generic objects in the image and list them out,\n",
    "    Only Include the name of the objects.\n",
    "\n",
    "    Do not include the header.\n",
    "    The output should be in this format: \"dog , woman, ball\"\n",
    "    \"\"\"\n",
    "\n",
    "\n",
    "    # Google's Gemma\n",
    "    messages = [\n",
    "        {\n",
    "            \"role\": \"system\",\n",
    "            \"content\": [{\"type\": \"text\", \"text\": \"You are a helpful assistant.\"}]\n",
    "        },\n",
    "        {\n",
    "            \"role\": \"user\",\n",
    "            \"content\": [\n",
    "                {\"type\": \"image\", \"image\": f\"{image_path}\" },\n",
    "                {\"type\": \"text\", \"text\": f\"{prompt}\"}\n",
    "            ]\n",
    "        }\n",
    "    ]\n",
    "\n",
    "    output = pipe(text=messages, max_new_tokens=200)\n",
    "    output_text = output[0][\"generated_text\"][-1][\"content\"]\n",
    "    ## Take the case where theres no objects detected to break out of the loop.\n",
    "    \n",
    "    # Converts all the text into lower caps.\n",
    "    output_text = output_text.lower()\n",
    "    # To save the labels in a list \n",
    "    labels_list = output_text.strip().split(', ')\n",
    "    \n",
    "    save_labels(labels_list,file)\n",
    "    \n",
    "    print(f\"Successfully processed Image {file} ,{index+1}/{len(files)} Images Processed\")\n",
    "\n",
    "print(f\"All {len(files)} have been processed.\")"
   ]
  }
 ],
 "metadata": {
  "kernelspec": {
   "display_name": "Python (myenv)",
   "language": "python",
   "name": "myenv"
  },
  "language_info": {
   "codemirror_mode": {
    "name": "ipython",
    "version": 3
   },
   "file_extension": ".py",
   "mimetype": "text/x-python",
   "name": "python",
   "nbconvert_exporter": "python",
   "pygments_lexer": "ipython3",
   "version": "3.10.12"
  }
 },
 "nbformat": 4,
 "nbformat_minor": 5
}
