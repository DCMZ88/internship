{
 "cells": [
  {
   "cell_type": "code",
   "execution_count": 1,
   "id": "7308b591",
   "metadata": {},
   "outputs": [],
   "source": [
    "# Ensures that there is enough memory allocation for the model to load\n",
    "import os\n",
    "os.environ[\"PYTORCH_CUDA_ALLOC_CONF\"] = \"expandable_segments:True\""
   ]
  },
  {
   "cell_type": "code",
   "execution_count": 2,
   "id": "5b814546",
   "metadata": {},
   "outputs": [
    {
     "name": "stderr",
     "output_type": "stream",
     "text": [
      "/home/jovyan/myenv/lib/python3.10/site-packages/tqdm/auto.py:21: TqdmWarning: IProgress not found. Please update jupyter and ipywidgets. See https://ipywidgets.readthedocs.io/en/stable/user_install.html\n",
      "  from .autonotebook import tqdm as notebook_tqdm\n",
      "Using a slow image processor as `use_fast` is unset and a slow processor was saved with this model. `use_fast=True` will be the default behavior in v4.48, even if the model was saved with a slow processor. This will result in minor differences in outputs. You'll still be able to use a slow processor with `use_fast=False`.\n",
      "Loading checkpoint shards: 100%|██████████| 4/4 [00:03<00:00,  1.26it/s]\n"
     ]
    },
    {
     "data": {
      "text/plain": [
       "LlavaNextForConditionalGeneration(\n",
       "  (vision_tower): CLIPVisionModel(\n",
       "    (vision_model): CLIPVisionTransformer(\n",
       "      (embeddings): CLIPVisionEmbeddings(\n",
       "        (patch_embedding): Conv2d(3, 1024, kernel_size=(14, 14), stride=(14, 14), bias=False)\n",
       "        (position_embedding): Embedding(577, 1024)\n",
       "      )\n",
       "      (pre_layrnorm): LayerNorm((1024,), eps=1e-05, elementwise_affine=True)\n",
       "      (encoder): CLIPEncoder(\n",
       "        (layers): ModuleList(\n",
       "          (0-23): 24 x CLIPEncoderLayer(\n",
       "            (self_attn): CLIPSdpaAttention(\n",
       "              (k_proj): Linear(in_features=1024, out_features=1024, bias=True)\n",
       "              (v_proj): Linear(in_features=1024, out_features=1024, bias=True)\n",
       "              (q_proj): Linear(in_features=1024, out_features=1024, bias=True)\n",
       "              (out_proj): Linear(in_features=1024, out_features=1024, bias=True)\n",
       "            )\n",
       "            (layer_norm1): LayerNorm((1024,), eps=1e-05, elementwise_affine=True)\n",
       "            (mlp): CLIPMLP(\n",
       "              (activation_fn): QuickGELUActivation()\n",
       "              (fc1): Linear(in_features=1024, out_features=4096, bias=True)\n",
       "              (fc2): Linear(in_features=4096, out_features=1024, bias=True)\n",
       "            )\n",
       "            (layer_norm2): LayerNorm((1024,), eps=1e-05, elementwise_affine=True)\n",
       "          )\n",
       "        )\n",
       "      )\n",
       "      (post_layernorm): LayerNorm((1024,), eps=1e-05, elementwise_affine=True)\n",
       "    )\n",
       "  )\n",
       "  (multi_modal_projector): LlavaNextMultiModalProjector(\n",
       "    (linear_1): Linear(in_features=1024, out_features=4096, bias=True)\n",
       "    (act): GELUActivation()\n",
       "    (linear_2): Linear(in_features=4096, out_features=4096, bias=True)\n",
       "  )\n",
       "  (language_model): MistralForCausalLM(\n",
       "    (model): MistralModel(\n",
       "      (embed_tokens): Embedding(32064, 4096)\n",
       "      (layers): ModuleList(\n",
       "        (0-31): 32 x MistralDecoderLayer(\n",
       "          (self_attn): MistralAttention(\n",
       "            (q_proj): Linear(in_features=4096, out_features=4096, bias=False)\n",
       "            (k_proj): Linear(in_features=4096, out_features=1024, bias=False)\n",
       "            (v_proj): Linear(in_features=4096, out_features=1024, bias=False)\n",
       "            (o_proj): Linear(in_features=4096, out_features=4096, bias=False)\n",
       "          )\n",
       "          (mlp): MistralMLP(\n",
       "            (gate_proj): Linear(in_features=4096, out_features=14336, bias=False)\n",
       "            (up_proj): Linear(in_features=4096, out_features=14336, bias=False)\n",
       "            (down_proj): Linear(in_features=14336, out_features=4096, bias=False)\n",
       "            (act_fn): SiLU()\n",
       "          )\n",
       "          (input_layernorm): MistralRMSNorm((4096,), eps=1e-05)\n",
       "          (post_attention_layernorm): MistralRMSNorm((4096,), eps=1e-05)\n",
       "        )\n",
       "      )\n",
       "      (norm): MistralRMSNorm((4096,), eps=1e-05)\n",
       "      (rotary_emb): MistralRotaryEmbedding()\n",
       "    )\n",
       "    (lm_head): Linear(in_features=4096, out_features=32064, bias=False)\n",
       "  )\n",
       ")"
      ]
     },
     "execution_count": 2,
     "metadata": {},
     "output_type": "execute_result"
    }
   ],
   "source": [
    "from transformers import LlavaNextProcessor, LlavaNextForConditionalGeneration\n",
    "import torch\n",
    "from PIL import Image\n",
    "import requests\n",
    "\n",
    "processor = LlavaNextProcessor.from_pretrained(\"llava-hf/llava-v1.6-mistral-7b-hf\")\n",
    "\n",
    "model = LlavaNextForConditionalGeneration.from_pretrained(\"llava-hf/llava-v1.6-mistral-7b-hf\", torch_dtype=torch.float16, low_cpu_mem_usage=True) \n",
    "model.to(\"cuda:0\")"
   ]
  },
  {
   "cell_type": "code",
   "execution_count": 3,
   "id": "b6da99df",
   "metadata": {},
   "outputs": [],
   "source": [
    "import json\n",
    "def save_labels(labels_list, file,):\n",
    "    # Saves the labels in a json format \n",
    "    data ={\n",
    "        'Labels' : labels_list\n",
    "    }\n",
    "    \n",
    "    new_path = '/home/jovyan/Evaluation/Data'\n",
    "    \n",
    "    if not os.path.exists(new_path):\n",
    "        os.makedirs(new_path) # Create the directory if it doesn't exist\n",
    "        print(f\"{new_path} successfully created\")\n",
    "    \n",
    "    json_filename = file\n",
    "    json_filename = f'{json_filename}.json'\n",
    "    # Creates the new json file.\n",
    "    file_name = os.path.join(new_path , json_filename)\n",
    "    with open(file_name , 'w') as json_file:\n",
    "            json.dump(data, json_file, indent=4)\n",
    "    print(f\"File : {json_filename} successfully created!\")"
   ]
  },
  {
   "cell_type": "code",
   "execution_count": 7,
   "id": "b8d361a4",
   "metadata": {},
   "outputs": [
    {
     "name": "stderr",
     "output_type": "stream",
     "text": [
      "Setting `pad_token_id` to `eos_token_id`:2 for open-end generation.\n"
     ]
    },
    {
     "name": "stdout",
     "output_type": "stream",
     "text": [
      "Processing image 588.JPG\n"
     ]
    },
    {
     "name": "stderr",
     "output_type": "stream",
     "text": [
      "Setting `pad_token_id` to `eos_token_id`:2 for open-end generation.\n"
     ]
    },
    {
     "name": "stdout",
     "output_type": "stream",
     "text": [
      "['dog', 'table', 'mug', 'fire', 'chair', 'microphone', 'speaker', 'desk', 'hat', 'fire extinguisher']\n",
      "File : 588.JPG.json successfully created!\n",
      "Successfully processed Image 588.JPG , 1/265 Images Processed\n",
      "Processing image 708.png\n"
     ]
    },
    {
     "name": "stderr",
     "output_type": "stream",
     "text": [
      "Setting `pad_token_id` to `eos_token_id`:2 for open-end generation.\n"
     ]
    },
    {
     "name": "stdout",
     "output_type": "stream",
     "text": [
      "['penguin', 'duck', 'money', 'number', 'upgrade', 'call', 'cq', 'clarke quay', 'singaporeans', 'text']\n",
      "File : 708.png.json successfully created!\n",
      "Successfully processed Image 708.png , 2/265 Images Processed\n",
      "Processing image 603.jpg\n"
     ]
    },
    {
     "name": "stderr",
     "output_type": "stream",
     "text": [
      "Setting `pad_token_id` to `eos_token_id`:2 for open-end generation.\n"
     ]
    },
    {
     "name": "stdout",
     "output_type": "stream",
     "text": [
      "['iron', 'chair', 'table', 'ironing board', 'ironing shirt', 'ironing iron', 'ironing board cover', 'ironing shirt collar', 'ironing shirt cuff', 'ironing shirt pocket']\n",
      "File : 603.jpg.json successfully created!\n",
      "Successfully processed Image 603.jpg , 3/265 Images Processed\n",
      "Processing image 546.jpg\n"
     ]
    },
    {
     "name": "stderr",
     "output_type": "stream",
     "text": [
      "Setting `pad_token_id` to `eos_token_id`:2 for open-end generation.\n"
     ]
    },
    {
     "name": "stdout",
     "output_type": "stream",
     "text": [
      "['tray of food', 'rice', 'meat', 'vegetables', 'tray of meat', 'tray of vegetables', 'tray of rice', 'tray of food with rice', 'tray of food with meat', 'tray of food with vegetables']\n",
      "File : 546.jpg.json successfully created!\n",
      "Successfully processed Image 546.jpg , 4/265 Images Processed\n",
      "Processing image 728.png\n"
     ]
    },
    {
     "name": "stderr",
     "output_type": "stream",
     "text": [
      "Setting `pad_token_id` to `eos_token_id`:2 for open-end generation.\n"
     ]
    },
    {
     "name": "stdout",
     "output_type": "stream",
     "text": [
      "['man', 'jacket', 'watch', 'ring', 'earring', 't-shirt', 'pants', 'shoes', 'hair', 'mouth']\n",
      "File : 728.png.json successfully created!\n",
      "Successfully processed Image 728.png , 5/265 Images Processed\n",
      "Processing image 721.png\n"
     ]
    },
    {
     "name": "stderr",
     "output_type": "stream",
     "text": [
      "Setting `pad_token_id` to `eos_token_id`:2 for open-end generation.\n"
     ]
    },
    {
     "name": "stdout",
     "output_type": "stream",
     "text": [
      "['text', 'number', 'percentage', 'word', 'image', 'character', 'letter', 'quote', 'color', 'font']\n",
      "File : 721.png.json successfully created!\n",
      "Successfully processed Image 721.png , 6/265 Images Processed\n",
      "Processing image 759.jpg\n"
     ]
    },
    {
     "name": "stderr",
     "output_type": "stream",
     "text": [
      "Setting `pad_token_id` to `eos_token_id`:2 for open-end generation.\n"
     ]
    },
    {
     "name": "stdout",
     "output_type": "stream",
     "text": [
      "['microphone', 'man', 'speech bubble', 'text', 'television screen', 'stage', 'lights', 'sign', 'chinese characters', 'colorful display']\n",
      "File : 759.jpg.json successfully created!\n",
      "Successfully processed Image 759.jpg , 7/265 Images Processed\n",
      "Processing image 619.jpg\n"
     ]
    },
    {
     "name": "stderr",
     "output_type": "stream",
     "text": [
      "Setting `pad_token_id` to `eos_token_id`:2 for open-end generation.\n"
     ]
    },
    {
     "name": "stdout",
     "output_type": "stream",
     "text": [
      "['text', 'image', 'man', 'smile', 'frown', 'mouth', 'nose', 'eyes', 'ear', 'hair']\n",
      "File : 619.jpg.json successfully created!\n",
      "Successfully processed Image 619.jpg , 8/265 Images Processed\n",
      "Processing image 572.jpg\n"
     ]
    },
    {
     "name": "stderr",
     "output_type": "stream",
     "text": [
      "Setting `pad_token_id` to `eos_token_id`:2 for open-end generation.\n"
     ]
    },
    {
     "name": "stdout",
     "output_type": "stream",
     "text": [
      "['skull mask', 'headphones', 'microphone', 'earphones', 'headset', 'sunglasses', 'earring', 'earbuds', 'ear protector', 'ear guard']\n",
      "File : 572.jpg.json successfully created!\n",
      "Successfully processed Image 572.jpg , 9/265 Images Processed\n",
      "Processing image 614.jpg\n"
     ]
    },
    {
     "name": "stderr",
     "output_type": "stream",
     "text": [
      "Setting `pad_token_id` to `eos_token_id`:2 for open-end generation.\n"
     ]
    },
    {
     "name": "stdout",
     "output_type": "stream",
     "text": [
      "['glasses', 'shirt', 'tie', 'watch', 'phone', 'table', 'chair', 'plate', 'bowl', 'cup']\n",
      "File : 614.jpg.json successfully created!\n",
      "Successfully processed Image 614.jpg , 10/265 Images Processed\n",
      "Processing image 518.jpg\n"
     ]
    },
    {
     "name": "stderr",
     "output_type": "stream",
     "text": [
      "Setting `pad_token_id` to `eos_token_id`:2 for open-end generation.\n"
     ]
    },
    {
     "name": "stdout",
     "output_type": "stream",
     "text": [
      "['headband', 'crown', 'scarf', 'collar', 'cape', 'glove', 'ring', 'necklace', 'earring', 'bracelet']\n",
      "File : 518.jpg.json successfully created!\n",
      "Successfully processed Image 518.jpg , 11/265 Images Processed\n",
      "Processing image 687.jpg\n"
     ]
    },
    {
     "name": "stderr",
     "output_type": "stream",
     "text": [
      "Setting `pad_token_id` to `eos_token_id`:2 for open-end generation.\n"
     ]
    },
    {
     "name": "stdout",
     "output_type": "stream",
     "text": [
      "['screen', 'text', 'image', 'man', 'chair', 'office', 'desk', 'computer', 'monitor', 'keyboard']\n",
      "File : 687.jpg.json successfully created!\n",
      "Successfully processed Image 687.jpg , 12/265 Images Processed\n",
      "Processing image 704.jpg\n"
     ]
    },
    {
     "name": "stderr",
     "output_type": "stream",
     "text": [
      "Setting `pad_token_id` to `eos_token_id`:2 for open-end generation.\n"
     ]
    },
    {
     "name": "stdout",
     "output_type": "stream",
     "text": [
      "['man', 'suit', 'tie', 'mustache', 'microphone', 'television', 'background', 'lighting', 'camera', 'studio']\n",
      "File : 704.jpg.json successfully created!\n",
      "Successfully processed Image 704.jpg , 13/265 Images Processed\n",
      "Processing image 712.png\n"
     ]
    },
    {
     "name": "stderr",
     "output_type": "stream",
     "text": [
      "Setting `pad_token_id` to `eos_token_id`:2 for open-end generation.\n"
     ]
    },
    {
     "name": "stdout",
     "output_type": "stream",
     "text": [
      "['person', 'chair', 'wall', 'floor', 'ceiling', 'light', 'screen', 'speaker', 'microphone', 'cable']\n",
      "File : 712.png.json successfully created!\n",
      "Successfully processed Image 712.png , 14/265 Images Processed\n",
      "Processing image 672.png\n"
     ]
    },
    {
     "name": "stderr",
     "output_type": "stream",
     "text": [
      "Setting `pad_token_id` to `eos_token_id`:2 for open-end generation.\n"
     ]
    },
    {
     "name": "stdout",
     "output_type": "stream",
     "text": [
      "['microphone', 'glass', 'paper', 'pen', 'bottle', 'book', 'table', 'shirt', 'tie', 'grass']\n",
      "File : 672.png.json successfully created!\n",
      "Successfully processed Image 672.png , 15/265 Images Processed\n",
      "Processing image 750.jpg\n"
     ]
    },
    {
     "name": "stderr",
     "output_type": "stream",
     "text": [
      "Setting `pad_token_id` to `eos_token_id`:2 for open-end generation.\n"
     ]
    },
    {
     "name": "stdout",
     "output_type": "stream",
     "text": [
      "['character', 'glasses', 'hair', 'mouth', 'nose', 'eyes', 'dress', 'ear', 'bow', 'star']\n",
      "File : 750.jpg.json successfully created!\n",
      "Successfully processed Image 750.jpg , 16/265 Images Processed\n",
      "Processing image 549.jpg\n"
     ]
    },
    {
     "name": "stderr",
     "output_type": "stream",
     "text": [
      "Setting `pad_token_id` to `eos_token_id`:2 for open-end generation.\n"
     ]
    },
    {
     "name": "stdout",
     "output_type": "stream",
     "text": [
      "['car', 'trash can', 'sign', 'fence', 'trees', 'road', 'sky', 'clouds', 'grass', 'gate']\n",
      "File : 549.jpg.json successfully created!\n",
      "Successfully processed Image 549.jpg , 17/265 Images Processed\n",
      "Processing image 763.jpg\n"
     ]
    },
    {
     "name": "stderr",
     "output_type": "stream",
     "text": [
      "Setting `pad_token_id` to `eos_token_id`:2 for open-end generation.\n"
     ]
    },
    {
     "name": "stdout",
     "output_type": "stream",
     "text": [
      "['chair', 'desk', 'pen', 'paper', 'glasses', 'tie', 'suit', 'door', 'office', 'agency']\n",
      "File : 763.jpg.json successfully created!\n",
      "Successfully processed Image 763.jpg , 18/265 Images Processed\n",
      "Processing image 553.jpg\n"
     ]
    },
    {
     "name": "stderr",
     "output_type": "stream",
     "text": [
      "Setting `pad_token_id` to `eos_token_id`:2 for open-end generation.\n"
     ]
    },
    {
     "name": "stdout",
     "output_type": "stream",
     "text": [
      "['man', 'trees', 'road', 'car', 'grass', 'sky', 'buildings', 'trunk', 'leaves', 'pavement']\n",
      "File : 553.jpg.json successfully created!\n",
      "Successfully processed Image 553.jpg , 19/265 Images Processed\n",
      "Processing image 501.jpg\n"
     ]
    },
    {
     "name": "stderr",
     "output_type": "stream",
     "text": [
      "Setting `pad_token_id` to `eos_token_id`:2 for open-end generation.\n"
     ]
    },
    {
     "name": "stdout",
     "output_type": "stream",
     "text": [
      "['character', \"character's arm\", \"character's hand\", \"character's face\", \"character's mouth\", \"character's teeth\", \"character's tongue\", \"character's eyes\", \"character's nose\", \"character's hair\"]\n",
      "File : 501.jpg.json successfully created!\n",
      "Successfully processed Image 501.jpg , 20/265 Images Processed\n",
      "Processing image 517.jpg\n"
     ]
    },
    {
     "name": "stderr",
     "output_type": "stream",
     "text": [
      "Setting `pad_token_id` to `eos_token_id`:2 for open-end generation.\n"
     ]
    },
    {
     "name": "stdout",
     "output_type": "stream",
     "text": [
      "['rabbit', 'water', 'text', 'letter', 'image', 'character', 'background', 'font', 'color', 'screen']\n",
      "File : 517.jpg.json successfully created!\n",
      "Successfully processed Image 517.jpg , 21/265 Images Processed\n",
      "Processing image 560.jpg\n"
     ]
    },
    {
     "name": "stderr",
     "output_type": "stream",
     "text": [
      "Setting `pad_token_id` to `eos_token_id`:2 for open-end generation.\n"
     ]
    },
    {
     "name": "stdout",
     "output_type": "stream",
     "text": [
      "['sign', 'arrow', 'man', 'shirt', 'gag', 'paper', 'hand', 'flag', 'light', 'letter']\n",
      "File : 560.jpg.json successfully created!\n",
      "Successfully processed Image 560.jpg , 22/265 Images Processed\n",
      "Processing image 571.jpg\n"
     ]
    },
    {
     "name": "stderr",
     "output_type": "stream",
     "text": [
      "Setting `pad_token_id` to `eos_token_id`:2 for open-end generation.\n"
     ]
    },
    {
     "name": "stdout",
     "output_type": "stream",
     "text": [
      "['basketball', 'jersey', 'court', 'shoes', 'ball', 'wall', 'stairs', 'sign', 'door', 'number']\n",
      "File : 571.jpg.json successfully created!\n",
      "Successfully processed Image 571.jpg , 23/265 Images Processed\n",
      "Processing image 747.jpg\n"
     ]
    },
    {
     "name": "stderr",
     "output_type": "stream",
     "text": [
      "Setting `pad_token_id` to `eos_token_id`:2 for open-end generation.\n"
     ]
    },
    {
     "name": "stdout",
     "output_type": "stream",
     "text": [
      "['screen', 'text', 'character', 'words', 'quote', 'image', 'background', 'color', 'font', 'message']\n",
      "File : 747.jpg.json successfully created!\n",
      "Successfully processed Image 747.jpg , 24/265 Images Processed\n",
      "Processing image 525.jpg\n"
     ]
    },
    {
     "name": "stderr",
     "output_type": "stream",
     "text": [
      "Setting `pad_token_id` to `eos_token_id`:2 for open-end generation.\n"
     ]
    },
    {
     "name": "stdout",
     "output_type": "stream",
     "text": [
      "['desk', 'chair', 'speaker', 'microphone', 'glasses', 'suit', 'tie', 'shirt', 'pants', 'mountain']\n",
      "File : 525.jpg.json successfully created!\n",
      "Successfully processed Image 525.jpg , 25/265 Images Processed\n",
      "Processing image 720.png\n"
     ]
    },
    {
     "name": "stderr",
     "output_type": "stream",
     "text": [
      "Setting `pad_token_id` to `eos_token_id`:2 for open-end generation.\n"
     ]
    },
    {
     "name": "stdout",
     "output_type": "stream",
     "text": [
      "['bed', 'pillow', 'blanket', 'sheets', 'comforter', 'mattress', 'pillowcase', 'blanket with floral pattern', 'mattress cover', 'pillow with floral pattern']\n",
      "File : 720.png.json successfully created!\n",
      "Successfully processed Image 720.png , 26/265 Images Processed\n",
      "Processing image 536.png\n"
     ]
    },
    {
     "name": "stderr",
     "output_type": "stream",
     "text": [
      "Setting `pad_token_id` to `eos_token_id`:2 for open-end generation.\n"
     ]
    },
    {
     "name": "stdout",
     "output_type": "stream",
     "text": [
      "['man', 'suit', 'tie', 'field', 'flowers', 'sky', 'clouds', 'watch', 'grass', 'hands']\n",
      "File : 536.png.json successfully created!\n",
      "Successfully processed Image 536.png , 27/265 Images Processed\n",
      "Processing image 600.jpg\n"
     ]
    },
    {
     "name": "stderr",
     "output_type": "stream",
     "text": [
      "Setting `pad_token_id` to `eos_token_id`:2 for open-end generation.\n"
     ]
    },
    {
     "name": "stdout",
     "output_type": "stream",
     "text": [
      "['glass', 'wine glass', 'man', 'woman', 'speaker', 'microphone', 'text', 'image', 'words', 'letter']\n",
      "File : 600.jpg.json successfully created!\n",
      "Successfully processed Image 600.jpg , 28/265 Images Processed\n",
      "Processing image 618.jpg\n"
     ]
    },
    {
     "name": "stderr",
     "output_type": "stream",
     "text": [
      "Setting `pad_token_id` to `eos_token_id`:2 for open-end generation.\n"
     ]
    },
    {
     "name": "stdout",
     "output_type": "stream",
     "text": [
      "['text', 'image', 'screen', 'words', 'letters', 'color', 'font', 'picture', 'graphic', 'content']\n",
      "File : 618.jpg.json successfully created!\n",
      "Successfully processed Image 618.jpg , 29/265 Images Processed\n",
      "Processing image 590.jpg\n"
     ]
    },
    {
     "name": "stderr",
     "output_type": "stream",
     "text": [
      "Setting `pad_token_id` to `eos_token_id`:2 for open-end generation.\n"
     ]
    },
    {
     "name": "stdout",
     "output_type": "stream",
     "text": [
      "['headphones', 'earphones', 'microphone', 'blurred background', 'blurred image', 'blurred text', 'blurred photo', 'blurred video', 'blurred image of a person', 'blurred image of a child']\n",
      "File : 590.jpg.json successfully created!\n",
      "Successfully processed Image 590.jpg , 30/265 Images Processed\n",
      "Processing image 509.jpg\n"
     ]
    },
    {
     "name": "stderr",
     "output_type": "stream",
     "text": [
      "Setting `pad_token_id` to `eos_token_id`:2 for open-end generation.\n"
     ]
    },
    {
     "name": "stdout",
     "output_type": "stream",
     "text": [
      "['television', 'character', 'tie', 'suit', 'shirt', 'gears', 'grinds', 'news', 'singaporeans', 'text']\n",
      "File : 509.jpg.json successfully created!\n",
      "Successfully processed Image 509.jpg , 31/265 Images Processed\n",
      "Processing image 752.jpg\n"
     ]
    },
    {
     "name": "stderr",
     "output_type": "stream",
     "text": [
      "Setting `pad_token_id` to `eos_token_id`:2 for open-end generation.\n"
     ]
    },
    {
     "name": "stdout",
     "output_type": "stream",
     "text": [
      "['person', 'microphone', 'plant', 'chair', 'blazer', 'watch', 'ring', 'earring', 'hair', 'glasses']\n",
      "File : 752.jpg.json successfully created!\n",
      "Successfully processed Image 752.jpg , 32/265 Images Processed\n",
      "Processing image 605.png\n"
     ]
    },
    {
     "name": "stderr",
     "output_type": "stream",
     "text": [
      "Setting `pad_token_id` to `eos_token_id`:2 for open-end generation.\n"
     ]
    },
    {
     "name": "stdout",
     "output_type": "stream",
     "text": [
      "['man', 'tie', 'suit', 'microphone', 'paper', 'pen', 'coat', 'door', 'seat', 'wall']\n",
      "File : 605.png.json successfully created!\n",
      "Successfully processed Image 605.png , 33/265 Images Processed\n",
      "Processing image 682.png\n",
      "['man', 'hoodie', 'beard', 'mustache', 'ear', 'hand', 'hair', 'jacket', 'collar', 'drawing']\n",
      "File : 682.png.json successfully created!\n",
      "Successfully processed Image 682.png , 34/265 Images Processed\n",
      "Processing image 582.png\n"
     ]
    },
    {
     "name": "stderr",
     "output_type": "stream",
     "text": [
      "Setting `pad_token_id` to `eos_token_id`:2 for open-end generation.\n",
      "Setting `pad_token_id` to `eos_token_id`:2 for open-end generation.\n"
     ]
    },
    {
     "name": "stdout",
     "output_type": "stream",
     "text": [
      "['microphone', 'camera', 'screen', 'window', 'bench', 'reflection', 'glasses', 'hair', 'mouth', 'shirt']\n",
      "File : 582.png.json successfully created!\n",
      "Successfully processed Image 582.png , 35/265 Images Processed\n",
      "Processing image 564.jpg\n"
     ]
    },
    {
     "name": "stderr",
     "output_type": "stream",
     "text": [
      "Setting `pad_token_id` to `eos_token_id`:2 for open-end generation.\n"
     ]
    },
    {
     "name": "stdout",
     "output_type": "stream",
     "text": [
      "['man', 'gun', 'shirt', 'glasses', 'doorway', 'wall', 'pants', 'tie', 'floor', 'ceiling']\n",
      "File : 564.jpg.json successfully created!\n",
      "Successfully processed Image 564.jpg , 36/265 Images Processed\n",
      "Processing image 681.jpg\n",
      "['person', 'hair', 'eyes', 'nose', 'mouth', 'ear', 'glasses', 'shirt', 'tie', 'wall']\n",
      "File : 681.jpg.json successfully created!\n",
      "Successfully processed Image 681.jpg , 37/265 Images Processed\n",
      "Processing image 702.png\n"
     ]
    },
    {
     "name": "stderr",
     "output_type": "stream",
     "text": [
      "Setting `pad_token_id` to `eos_token_id`:2 for open-end generation.\n",
      "Setting `pad_token_id` to `eos_token_id`:2 for open-end generation.\n"
     ]
    },
    {
     "name": "stdout",
     "output_type": "stream",
     "text": [
      "['sheep', 'lightning bolt', 'red circle', 'hammer and sickle', 'goat', 'white wall', 'red star', 'electricity symbol', 'paw print', 'bone']\n",
      "File : 702.png.json successfully created!\n",
      "Successfully processed Image 702.png , 38/265 Images Processed\n",
      "Processing image 535.jpg\n",
      "['character', 'text box', 'speech bubble', 'word \"low\"', 'word \"income\"', 'word \"singles\"', 'word \"need\"', 'word \"housing\"', 'word \"help\"', 'word \"single\"', 'word \"room\"', 'word \"shared\"', 'word \"facilities\"', 'word \"not\"', 'word \"like\"', 'word \"that\"']\n",
      "File : 535.jpg.json successfully created!\n",
      "Successfully processed Image 535.jpg , 39/265 Images Processed\n",
      "Processing image 574.png\n"
     ]
    },
    {
     "name": "stderr",
     "output_type": "stream",
     "text": [
      "Setting `pad_token_id` to `eos_token_id`:2 for open-end generation.\n",
      "Setting `pad_token_id` to `eos_token_id`:2 for open-end generation.\n"
     ]
    },
    {
     "name": "stdout",
     "output_type": "stream",
     "text": [
      "['bread', 'glove', 'baking tray', 'baking sheet', 'baking pan', 'baking oven', 'baking ingredients', 'baking utensils', 'baking tools', 'baking equipment']\n",
      "File : 574.png.json successfully created!\n",
      "Successfully processed Image 574.png , 40/265 Images Processed\n",
      "Processing image 756.jpg\n"
     ]
    },
    {
     "name": "stderr",
     "output_type": "stream",
     "text": [
      "Setting `pad_token_id` to `eos_token_id`:2 for open-end generation.\n"
     ]
    },
    {
     "name": "stdout",
     "output_type": "stream",
     "text": [
      "['keyboard', 'finger', 'button', 'key', 'screen', 'speaker', 'upgrade button', 'cut-off time', 'excuse', 'season']\n",
      "File : 756.jpg.json successfully created!\n",
      "Successfully processed Image 756.jpg , 41/265 Images Processed\n",
      "Processing image 697.jpg\n"
     ]
    },
    {
     "name": "stderr",
     "output_type": "stream",
     "text": [
      "Setting `pad_token_id` to `eos_token_id`:2 for open-end generation.\n"
     ]
    },
    {
     "name": "stdout",
     "output_type": "stream",
     "text": [
      "['microphone', 'chair', 'desk', 'tie', 'suit', 'glasses', 'hair', 'ear', 'nose', 'mouth']\n",
      "File : 697.jpg.json successfully created!\n",
      "Successfully processed Image 697.jpg , 42/265 Images Processed\n",
      "Processing image 513.jpg\n"
     ]
    },
    {
     "name": "stderr",
     "output_type": "stream",
     "text": [
      "Setting `pad_token_id` to `eos_token_id`:2 for open-end generation.\n"
     ]
    },
    {
     "name": "stdout",
     "output_type": "stream",
     "text": [
      "['bench', 'sign', 'character', 'fish', \"character's shirt\", \"character's pants\", \"character's tie\", \"character's hair\", \"character's glasses\", \"character's mouth\"]\n",
      "File : 513.jpg.json successfully created!\n",
      "Successfully processed Image 513.jpg , 43/265 Images Processed\n",
      "Processing image 592.jpg\n"
     ]
    },
    {
     "name": "stderr",
     "output_type": "stream",
     "text": [
      "Setting `pad_token_id` to `eos_token_id`:2 for open-end generation.\n"
     ]
    },
    {
     "name": "stdout",
     "output_type": "stream",
     "text": [
      "['spider-man costume', 'police car', 'door', 'spider-man mask', 'spider-man web shooters', 'spider-man gloves', 'spider-man boots', 'spider-man belt', 'spider-man emblem', 'spider-man pants']\n",
      "File : 592.jpg.json successfully created!\n",
      "Successfully processed Image 592.jpg , 44/265 Images Processed\n",
      "Processing image 507.jpg\n",
      "['spongebob squarepants', 'patrick star', 'squidward tentacles', 'mr. krabs', 'sandy cheeks', 'plankton', 'krabby patty', 'jellyfish', 'starfish', 'anchor']\n",
      "File : 507.jpg.json successfully created!\n",
      "Successfully processed Image 507.jpg , 45/265 Images Processed\n",
      "Processing image 629.jpg\n"
     ]
    },
    {
     "name": "stderr",
     "output_type": "stream",
     "text": [
      "Setting `pad_token_id` to `eos_token_id`:2 for open-end generation.\n",
      "Setting `pad_token_id` to `eos_token_id`:2 for open-end generation.\n"
     ]
    },
    {
     "name": "stdout",
     "output_type": "stream",
     "text": [
      "['man wearing glasses', 'man wearing a suit', 'man wearing a tie', 'man wearing a shirt', 'man wearing a jacket', 'man wearing a tie clip', 'man wearing a watch', 'man wearing a belt', 'man wearing a pair of shoes', 'man wearing a pair of pants']\n",
      "File : 629.jpg.json successfully created!\n",
      "Successfully processed Image 629.jpg , 46/265 Images Processed\n",
      "Processing image 519.jpg\n"
     ]
    },
    {
     "name": "stderr",
     "output_type": "stream",
     "text": [
      "Setting `pad_token_id` to `eos_token_id`:2 for open-end generation.\n"
     ]
    },
    {
     "name": "stdout",
     "output_type": "stream",
     "text": [
      "['dog', 'chair', 'table', 'fire', 'cup', 'hat', 'smoke', 'fireplace', 'fire extinguisher', 'fire hydrant']\n",
      "File : 519.jpg.json successfully created!\n",
      "Successfully processed Image 519.jpg , 47/265 Images Processed\n",
      "Processing image 617.jpg\n"
     ]
    },
    {
     "name": "stderr",
     "output_type": "stream",
     "text": [
      "Setting `pad_token_id` to `eos_token_id`:2 for open-end generation.\n"
     ]
    },
    {
     "name": "stdout",
     "output_type": "stream",
     "text": [
      "['person', 'glasses', 'shirt', 'tie', 'suit', 'hair', 'ear', 'nose', 'mouth', 'background']\n",
      "File : 617.jpg.json successfully created!\n",
      "Successfully processed Image 617.jpg , 48/265 Images Processed\n",
      "Processing image 711.png\n"
     ]
    },
    {
     "name": "stderr",
     "output_type": "stream",
     "text": [
      "Setting `pad_token_id` to `eos_token_id`:2 for open-end generation.\n"
     ]
    },
    {
     "name": "stdout",
     "output_type": "stream",
     "text": [
      "['box', 'pillow', 'caplet', 'brand name', 'logo', 'text', 'color', 'number', 'star rating', 'button']\n",
      "File : 711.png.json successfully created!\n",
      "Successfully processed Image 711.png , 49/265 Images Processed\n",
      "Processing image 663.jpg\n",
      "['woman', 'man', 'dress', 'suit', 'shoes', 'tie', 'hair', 'earring', 'watch', 'poster']\n",
      "File : 663.jpg.json successfully created!\n",
      "Successfully processed Image 663.jpg , 50/265 Images Processed\n",
      "Processing image 683.png\n"
     ]
    },
    {
     "name": "stderr",
     "output_type": "stream",
     "text": [
      "Setting `pad_token_id` to `eos_token_id`:2 for open-end generation.\n",
      "Setting `pad_token_id` to `eos_token_id`:2 for open-end generation.\n"
     ]
    },
    {
     "name": "stdout",
     "output_type": "stream",
     "text": [
      "[\"character's hair\", \"character's shirt\", \"character's shorts\", \"character's shoes\", \"character's tie\", \"character's pants\", \"character's belt\", \"character's socks\", \"character's watch\", \"character's glasses\"]\n",
      "File : 683.png.json successfully created!\n",
      "Successfully processed Image 683.png , 51/265 Images Processed\n",
      "Processing image 703.jpg\n"
     ]
    },
    {
     "name": "stderr",
     "output_type": "stream",
     "text": [
      "Setting `pad_token_id` to `eos_token_id`:2 for open-end generation.\n"
     ]
    },
    {
     "name": "stdout",
     "output_type": "stream",
     "text": [
      "['easel', 'marker', 'paper', 'character', 'office', 'desk', 'wall', \"character's hand\", \"character's face\", \"character's hair\"]\n",
      "File : 703.jpg.json successfully created!\n",
      "Successfully processed Image 703.jpg , 52/265 Images Processed\n",
      "Processing image 739.jpg\n",
      "['wall', 'pants', 'shirt', 'socks', 'shoes', 'hair', 'mustache', 'beard', 'elbow', 'knee']\n",
      "File : 739.jpg.json successfully created!\n",
      "Successfully processed Image 739.jpg , 53/265 Images Processed\n",
      "Processing image 665.jpg\n"
     ]
    },
    {
     "name": "stderr",
     "output_type": "stream",
     "text": [
      "Setting `pad_token_id` to `eos_token_id`:2 for open-end generation.\n"
     ]
    },
    {
     "name": "stdout",
     "output_type": "stream",
     "text": [
      "['wine glass', 'table', 'chair', 'dining table', 'man', 'woman', 'doorway', 'stairs', 'railing', 'balcony']\n",
      "File : 665.jpg.json successfully created!\n",
      "Successfully processed Image 665.jpg , 54/265 Images Processed\n",
      "Processing image 707.png\n"
     ]
    },
    {
     "name": "stderr",
     "output_type": "stream",
     "text": [
      "Setting `pad_token_id` to `eos_token_id`:2 for open-end generation.\n",
      "Setting `pad_token_id` to `eos_token_id`:2 for open-end generation.\n"
     ]
    },
    {
     "name": "stdout",
     "output_type": "stream",
     "text": [
      "['man', 'suit', 'tie', 'glasses', 'smile', 'arrow', 'numbers', 'percentage sign', 'square', 'text']\n",
      "File : 707.png.json successfully created!\n",
      "Successfully processed Image 707.png , 55/265 Images Processed\n",
      "Processing image 568.jpg\n"
     ]
    },
    {
     "name": "stderr",
     "output_type": "stream",
     "text": [
      "Setting `pad_token_id` to `eos_token_id`:2 for open-end generation.\n"
     ]
    },
    {
     "name": "stdout",
     "output_type": "stream",
     "text": [
      "['man', 'suit', 'tie', 'watch', 'window', 'bars', 'light', 'wall', 'door', 'chair']\n",
      "File : 568.jpg.json successfully created!\n",
      "Successfully processed Image 568.jpg , 56/265 Images Processed\n",
      "Processing image 584.jpg\n",
      "['man', 'chair', 'microphone', 'audience', 'stage', 'television screen', 'camera', 'lights', 'screen', 'auditorium']\n",
      "File : 584.jpg.json successfully created!\n",
      "Successfully processed Image 584.jpg , 57/265 Images Processed\n",
      "Processing image 762.jpg\n"
     ]
    },
    {
     "name": "stderr",
     "output_type": "stream",
     "text": [
      "Setting `pad_token_id` to `eos_token_id`:2 for open-end generation.\n",
      "Setting `pad_token_id` to `eos_token_id`:2 for open-end generation.\n"
     ]
    },
    {
     "name": "stdout",
     "output_type": "stream",
     "text": [
      "['text', 'image', 'video player interface', 'screen', 'video thumbnail', 'text box', 'button', 'menu', 'icon', 'video play button']\n",
      "File : 762.jpg.json successfully created!\n",
      "Successfully processed Image 762.jpg , 58/265 Images Processed\n",
      "Processing image 520.jpg\n",
      "['book', 'tie', 'curtain', 'wall', 'shirt', 'religious figure', 'curtain rod', 'curtain panel', 'curtain lining', 'curtain hooks']\n",
      "File : 520.jpg.json successfully created!\n",
      "Successfully processed Image 520.jpg , 59/265 Images Processed\n",
      "Processing image 559.jpg\n"
     ]
    },
    {
     "name": "stderr",
     "output_type": "stream",
     "text": [
      "Setting `pad_token_id` to `eos_token_id`:2 for open-end generation.\n",
      "Setting `pad_token_id` to `eos_token_id`:2 for open-end generation.\n"
     ]
    },
    {
     "name": "stdout",
     "output_type": "stream",
     "text": [
      "['cloud', 'hand', 'spray bottle', 'bug', 'bug', 'bug', 'bug', 'bug', 'bug', 'bug']\n",
      "File : 559.jpg.json successfully created!\n",
      "Successfully processed Image 559.jpg , 60/265 Images Processed\n",
      "Processing image 731.jpg\n"
     ]
    },
    {
     "name": "stderr",
     "output_type": "stream",
     "text": [
      "Setting `pad_token_id` to `eos_token_id`:2 for open-end generation.\n"
     ]
    },
    {
     "name": "stdout",
     "output_type": "stream",
     "text": [
      "['card', 'can', 'table', 'drawing', 'number', 'logo', 'letter', 'can opener', 'candle', 'cone']\n",
      "File : 731.jpg.json successfully created!\n",
      "Successfully processed Image 731.jpg , 61/265 Images Processed\n",
      "Processing image 751.jpg\n",
      "['paper', 'pen', 'cup', 'plant', 'television', 'blinds', 'wall', 'desk', 'person', 'picture']\n",
      "File : 751.jpg.json successfully created!\n",
      "Successfully processed Image 751.jpg , 62/265 Images Processed\n",
      "Processing image 732.png\n"
     ]
    },
    {
     "name": "stderr",
     "output_type": "stream",
     "text": [
      "Setting `pad_token_id` to `eos_token_id`:2 for open-end generation.\n",
      "Setting `pad_token_id` to `eos_token_id`:2 for open-end generation.\n"
     ]
    },
    {
     "name": "stdout",
     "output_type": "stream",
     "text": [
      "['man', 'smile', 'suit', 'tie', 'glasses', 'wall', 'lighting', 'chair', 'desk', 'speech bubble']\n",
      "File : 732.png.json successfully created!\n",
      "Successfully processed Image 732.png , 63/265 Images Processed\n",
      "Processing image 576.jpg\n",
      "['bus', 'building', 'street', 'car', 'traffic light', 'person', 'mask', 'glove', 'jacket', 'bars']\n",
      "File : 576.jpg.json successfully created!\n",
      "Successfully processed Image 576.jpg , 64/265 Images Processed\n",
      "Processing image 646.jpg\n"
     ]
    },
    {
     "name": "stderr",
     "output_type": "stream",
     "text": [
      "Setting `pad_token_id` to `eos_token_id`:2 for open-end generation.\n",
      "Setting `pad_token_id` to `eos_token_id`:2 for open-end generation.\n"
     ]
    },
    {
     "name": "stdout",
     "output_type": "stream",
     "text": [
      "['man', 'tie', 'suit', 'coat', 'shirt', 'microphone', 'paper', 'pen', 'desk', 'wall']\n",
      "File : 646.jpg.json successfully created!\n",
      "Successfully processed Image 646.jpg , 65/265 Images Processed\n",
      "Processing image 541.jpg\n",
      "['man', 'stairs', 'picture frame', 'wall', 'doorway', 'bookshelf', 'refrigerator', 'cabinet', 'microwave', 'countertop']\n",
      "File : 541.jpg.json successfully created!\n",
      "Successfully processed Image 541.jpg , 66/265 Images Processed\n",
      "Processing image 761.jpg\n"
     ]
    },
    {
     "name": "stderr",
     "output_type": "stream",
     "text": [
      "Setting `pad_token_id` to `eos_token_id`:2 for open-end generation.\n",
      "Setting `pad_token_id` to `eos_token_id`:2 for open-end generation.\n"
     ]
    },
    {
     "name": "stdout",
     "output_type": "stream",
     "text": [
      "['text', 'image', 'video player interface', 'screen', 'video thumbnail', 'text box', 'button', 'menu', 'icon', 'video play button']\n",
      "File : 761.jpg.json successfully created!\n",
      "Successfully processed Image 761.jpg , 67/265 Images Processed\n",
      "Processing image 700.jpg\n",
      "['tie', 'suit', 'shirt', 'glasses', 'smile', 'lights', 'blurred background', 'text', 'image', 'words']\n",
      "File : 700.jpg.json successfully created!\n",
      "Successfully processed Image 700.jpg , 68/265 Images Processed\n",
      "Processing image 706.png\n"
     ]
    },
    {
     "name": "stderr",
     "output_type": "stream",
     "text": [
      "Setting `pad_token_id` to `eos_token_id`:2 for open-end generation.\n",
      "Setting `pad_token_id` to `eos_token_id`:2 for open-end generation.\n"
     ]
    },
    {
     "name": "stdout",
     "output_type": "stream",
     "text": [
      "['microphone', 'tie', 'suit', 'flag pin', 'american flag', 'laptop', 'screen', 'stage', 'lights', 'audience']\n",
      "File : 706.png.json successfully created!\n",
      "Successfully processed Image 706.png , 69/265 Images Processed\n",
      "Processing image 528.jpg\n"
     ]
    },
    {
     "name": "stderr",
     "output_type": "stream",
     "text": [
      "Setting `pad_token_id` to `eos_token_id`:2 for open-end generation.\n"
     ]
    },
    {
     "name": "stdout",
     "output_type": "stream",
     "text": [
      "['spider-man suit', 'train', 'street lamp', 'fire escape', 'building facade', \"man's face on the wall\", 'water fountain', 'street sign', \"man's backpack\", 'railing']\n",
      "File : 528.jpg.json successfully created!\n",
      "Successfully processed Image 528.jpg , 70/265 Images Processed\n",
      "Processing image 724.jpg\n",
      "['screen', 'text', 'character', 'letter', 'word', 'font', 'color', 'image', 'quote', 'dialogue']\n",
      "File : 724.jpg.json successfully created!\n",
      "Successfully processed Image 724.jpg , 71/265 Images Processed\n",
      "Processing image 597.png\n"
     ]
    },
    {
     "name": "stderr",
     "output_type": "stream",
     "text": [
      "Setting `pad_token_id` to `eos_token_id`:2 for open-end generation.\n"
     ]
    },
    {
     "name": "stdout",
     "output_type": "stream",
     "text": [
      "['man in white shirt', 'man in white shirt', 'man in white shirt', 'man in white shirt', 'man in white shirt', 'man in white shirt', 'man in white shirt', 'man in white shirt', 'man in white shirt', 'man in white shirt']\n",
      "File : 597.png.json successfully created!\n",
      "Successfully processed Image 597.png , 72/265 Images Processed\n",
      "Processing image 685.jpg\n"
     ]
    },
    {
     "name": "stderr",
     "output_type": "stream",
     "text": [
      "Setting `pad_token_id` to `eos_token_id`:2 for open-end generation.\n",
      "Setting `pad_token_id` to `eos_token_id`:2 for open-end generation.\n"
     ]
    },
    {
     "name": "stdout",
     "output_type": "stream",
     "text": [
      "['sign', 'number', 'letter', 'arrow', 'symbol', 'word', 'grass', 'microphone', 'suit', 'chair']\n",
      "File : 685.jpg.json successfully created!\n",
      "Successfully processed Image 685.jpg , 73/265 Images Processed\n",
      "Processing image 573.jpg\n"
     ]
    },
    {
     "name": "stderr",
     "output_type": "stream",
     "text": [
      "Setting `pad_token_id` to `eos_token_id`:2 for open-end generation.\n"
     ]
    },
    {
     "name": "stdout",
     "output_type": "stream",
     "text": [
      "['man', 'microphone', 'audience', 'television', 'stage', 'camera', 'lighting', 'screen', 'chair', 'laptop']\n",
      "File : 573.jpg.json successfully created!\n",
      "Successfully processed Image 573.jpg , 74/265 Images Processed\n",
      "Processing image 705.jpg\n"
     ]
    },
    {
     "name": "stderr",
     "output_type": "stream",
     "text": [
      "Setting `pad_token_id` to `eos_token_id`:2 for open-end generation.\n"
     ]
    },
    {
     "name": "stdout",
     "output_type": "stream",
     "text": [
      "['paintbrush', 'canvas', 'paint', 'artwork', 'color', 'brushstroke', 'portrait', 'skin', 'muscle', 'arm']\n",
      "File : 705.jpg.json successfully created!\n",
      "Successfully processed Image 705.jpg , 75/265 Images Processed\n",
      "Processing image 508.jpg\n",
      "['man', 'tie', 'shirt', 'wall', 'door', 'plant', 'shelf', 'bottle', 'vase', 'lamp']\n",
      "File : 508.jpg.json successfully created!\n",
      "Successfully processed Image 508.jpg , 76/265 Images Processed\n",
      "Processing image 639.jpg\n"
     ]
    },
    {
     "name": "stderr",
     "output_type": "stream",
     "text": [
      "Setting `pad_token_id` to `eos_token_id`:2 for open-end generation.\n"
     ]
    },
    {
     "name": "stdout",
     "output_type": "stream",
     "text": [
      "['tree', 'man', 'shirt', 'pants', 'watch', 'car', 'grass', 'leaves', 'sky', 'trunk']\n",
      "File : 639.jpg.json successfully created!\n",
      "Successfully processed Image 639.jpg , 77/265 Images Processed\n",
      "Processing image 516.jpg\n"
     ]
    },
    {
     "name": "stderr",
     "output_type": "stream",
     "text": [
      "Setting `pad_token_id` to `eos_token_id`:2 for open-end generation.\n",
      "Setting `pad_token_id` to `eos_token_id`:2 for open-end generation.\n"
     ]
    },
    {
     "name": "stdout",
     "output_type": "stream",
     "text": [
      "['book', 'bed', 'pillow', 'comforter', 'wolverine costume', 'glasses', 'frame', 'picture', 'umbrella', 'hand']\n",
      "File : 516.jpg.json successfully created!\n",
      "Successfully processed Image 516.jpg , 78/265 Images Processed\n",
      "Processing image 693.jpg\n"
     ]
    },
    {
     "name": "stderr",
     "output_type": "stream",
     "text": [
      "Setting `pad_token_id` to `eos_token_id`:2 for open-end generation.\n"
     ]
    },
    {
     "name": "stdout",
     "output_type": "stream",
     "text": [
      "['cat', \"man's face\", 'lightning bolt', 'wooden table', 'floor', 'wall', 'doorway', \"man's glasses\", \"man's hair\", \"man's shirt\"]\n",
      "File : 693.jpg.json successfully created!\n",
      "Successfully processed Image 693.jpg , 79/265 Images Processed\n",
      "Processing image 531.jpg\n",
      "['paper', 'logo', 'hand', 'cap', 'street', 'buildings', 'trees', 'sign', 'character', 'text']\n",
      "File : 531.jpg.json successfully created!\n",
      "Successfully processed Image 531.jpg , 80/265 Images Processed\n",
      "Processing image 753.jpg\n"
     ]
    },
    {
     "name": "stderr",
     "output_type": "stream",
     "text": [
      "Setting `pad_token_id` to `eos_token_id`:2 for open-end generation.\n"
     ]
    },
    {
     "name": "stdout",
     "output_type": "stream",
     "text": [
      "['mask', 'sign', 'shirt', 'sign', 'sign', 'sign', 'sign', 'sign', 'sign', 'sign']\n",
      "File : 753.jpg.json successfully created!\n",
      "Successfully processed Image 753.jpg , 81/265 Images Processed\n",
      "Processing image 595.png\n"
     ]
    },
    {
     "name": "stderr",
     "output_type": "stream",
     "text": [
      "Setting `pad_token_id` to `eos_token_id`:2 for open-end generation.\n",
      "Setting `pad_token_id` to `eos_token_id`:2 for open-end generation.\n"
     ]
    },
    {
     "name": "stdout",
     "output_type": "stream",
     "text": [
      "['money', 'taxpayer', 'spent', 'renovations', 'minister', 'personal', 'accommodations', 'sleep', '$20k', 'bribery']\n",
      "File : 595.png.json successfully created!\n",
      "Successfully processed Image 595.png , 82/265 Images Processed\n",
      "Processing image 627.jpg\n"
     ]
    },
    {
     "name": "stderr",
     "output_type": "stream",
     "text": [
      "Setting `pad_token_id` to `eos_token_id`:2 for open-end generation.\n"
     ]
    },
    {
     "name": "stdout",
     "output_type": "stream",
     "text": [
      "['sunglasses', 'tie', 'shirt', 'scope', 'rifle', 'gravel', 'window', 'door', 'wall', 'telescope']\n",
      "File : 627.jpg.json successfully created!\n",
      "Successfully processed Image 627.jpg , 83/265 Images Processed\n",
      "Processing image 585.jpg\n"
     ]
    },
    {
     "name": "stderr",
     "output_type": "stream",
     "text": [
      "Setting `pad_token_id` to `eos_token_id`:2 for open-end generation.\n"
     ]
    },
    {
     "name": "stdout",
     "output_type": "stream",
     "text": [
      "['man', 'tie', 'suit', 'microphone', 'table', 'wine glass', 'chair', 'screen', 'lamp', 'wall']\n",
      "File : 585.jpg.json successfully created!\n",
      "Successfully processed Image 585.jpg , 84/265 Images Processed\n",
      "Processing image 515.jpg\n"
     ]
    },
    {
     "name": "stderr",
     "output_type": "stream",
     "text": [
      "Setting `pad_token_id` to `eos_token_id`:2 for open-end generation.\n"
     ]
    },
    {
     "name": "stdout",
     "output_type": "stream",
     "text": [
      "['spongebob squarepants', 'shower', 'towel', 'tiles', 'glass door', 'faucet', 'shower head', 'soap dispenser', 'toilet paper', 'marble floor']\n",
      "File : 515.jpg.json successfully created!\n",
      "Successfully processed Image 515.jpg , 85/265 Images Processed\n",
      "Processing image 637.jpg\n",
      "['flag', 'text', 'symbol', 'letter', 'number', 'punctuation', 'color', 'word', 'emoji', 'icon']\n",
      "File : 637.jpg.json successfully created!\n",
      "Successfully processed Image 637.jpg , 86/265 Images Processed\n",
      "Processing image 534.jpg\n"
     ]
    },
    {
     "name": "stderr",
     "output_type": "stream",
     "text": [
      "Setting `pad_token_id` to `eos_token_id`:2 for open-end generation.\n",
      "Setting `pad_token_id` to `eos_token_id`:2 for open-end generation.\n"
     ]
    },
    {
     "name": "stdout",
     "output_type": "stream",
     "text": [
      "['tiles', 'wall', 'floor', 'character', 'hair', 'clothing', 'logo', 'text', 'number', 'word']\n",
      "File : 534.jpg.json successfully created!\n",
      "Successfully processed Image 534.jpg , 87/265 Images Processed\n",
      "Processing image 758.jpg\n"
     ]
    },
    {
     "name": "stderr",
     "output_type": "stream",
     "text": [
      "Setting `pad_token_id` to `eos_token_id`:2 for open-end generation.\n"
     ]
    },
    {
     "name": "stdout",
     "output_type": "stream",
     "text": [
      "['screen', 'text', 'computer', 'window', 'taskbar', 'icons', 'button', 'message', 'dialogue box', 'cursor']\n",
      "File : 758.jpg.json successfully created!\n",
      "Successfully processed Image 758.jpg , 88/265 Images Processed\n",
      "Processing image 542.jpg\n",
      "['phone', 'keyboard', 'computer monitor', 'pen', 'pencil', 'mouse', 'scissors', 'bottle', 'cup', 'paper']\n",
      "File : 542.jpg.json successfully created!\n",
      "Successfully processed Image 542.jpg , 89/265 Images Processed\n",
      "Processing image 670.jpg\n"
     ]
    },
    {
     "name": "stderr",
     "output_type": "stream",
     "text": [
      "Setting `pad_token_id` to `eos_token_id`:2 for open-end generation.\n",
      "Setting `pad_token_id` to `eos_token_id`:2 for open-end generation.\n"
     ]
    },
    {
     "name": "stdout",
     "output_type": "stream",
     "text": [
      "['person', 'microphone', 'shirt', 'glasses', 'watch', 'earring', 'tie', 'shoe', 'building', 'logo']\n",
      "File : 670.jpg.json successfully created!\n",
      "Successfully processed Image 670.jpg , 90/265 Images Processed\n",
      "Processing image 524.jpg\n",
      "['man', 'woman', 'door', 'wall', 'floor', 'ceiling', 'chair', 'table', 'television', 'clock']\n",
      "File : 524.jpg.json successfully created!\n",
      "Successfully processed Image 524.jpg , 91/265 Images Processed\n",
      "Processing image 730.png\n"
     ]
    },
    {
     "name": "stderr",
     "output_type": "stream",
     "text": [
      "Setting `pad_token_id` to `eos_token_id`:2 for open-end generation.\n",
      "Setting `pad_token_id` to `eos_token_id`:2 for open-end generation.\n"
     ]
    },
    {
     "name": "stdout",
     "output_type": "stream",
     "text": [
      "['cross', 'book', 'microphone', 'car', 'dragon', 'money', 'wine glass', 'church', 'people', 'light bulb']\n",
      "File : 730.png.json successfully created!\n",
      "Successfully processed Image 730.png , 92/265 Images Processed\n",
      "Processing image 578.jpg\n"
     ]
    },
    {
     "name": "stderr",
     "output_type": "stream",
     "text": [
      "Setting `pad_token_id` to `eos_token_id`:2 for open-end generation.\n"
     ]
    },
    {
     "name": "stdout",
     "output_type": "stream",
     "text": [
      "['man', 'woman', 'child', 'table', 'glass', 'bowl', 'cup', 'door', 'window', 'plant']\n",
      "File : 578.jpg.json successfully created!\n",
      "Successfully processed Image 578.jpg , 93/265 Images Processed\n",
      "Processing image 691.jpg\n",
      "['character', 'text', 'screen', 'image', 'words', 'font', 'color', 'background', 'subtitle', 'caption']\n",
      "File : 691.jpg.json successfully created!\n",
      "Successfully processed Image 691.jpg , 94/265 Images Processed\n",
      "Processing image 736.jpg\n"
     ]
    },
    {
     "name": "stderr",
     "output_type": "stream",
     "text": [
      "Setting `pad_token_id` to `eos_token_id`:2 for open-end generation.\n",
      "Setting `pad_token_id` to `eos_token_id`:2 for open-end generation.\n"
     ]
    },
    {
     "name": "stdout",
     "output_type": "stream",
     "text": [
      "['infinity symbol', 'galaxy', 'man in black turtleneck', 'man in black turtleneck', 'man in black turtleneck', 'woman in blue shirt', 'woman in blue shirt', 'woman in blue shirt', 'woman in blue shirt', 'man in black turtleneck']\n",
      "File : 736.jpg.json successfully created!\n",
      "Successfully processed Image 736.jpg , 95/265 Images Processed\n",
      "Processing image 586.jpg\n"
     ]
    },
    {
     "name": "stderr",
     "output_type": "stream",
     "text": [
      "Setting `pad_token_id` to `eos_token_id`:2 for open-end generation.\n"
     ]
    },
    {
     "name": "stdout",
     "output_type": "stream",
     "text": [
      "['person', 'shirt', 'vest', 'jacket', 'watch', 'ring', 'seat', 'stadium', 'fan', 'screen']\n",
      "File : 586.jpg.json successfully created!\n",
      "Successfully processed Image 586.jpg , 96/265 Images Processed\n",
      "Processing image 545.jpg\n",
      "['suit', 'tie', 'shirt', 'jacket', 'microphone', 'stage', 'curtain', 'spotlight', 'audience', 'text']\n",
      "File : 545.jpg.json successfully created!\n",
      "Successfully processed Image 545.jpg , 97/265 Images Processed\n",
      "Processing image 651.jpg\n"
     ]
    },
    {
     "name": "stderr",
     "output_type": "stream",
     "text": [
      "Setting `pad_token_id` to `eos_token_id`:2 for open-end generation.\n",
      "Setting `pad_token_id` to `eos_token_id`:2 for open-end generation.\n"
     ]
    },
    {
     "name": "stdout",
     "output_type": "stream",
     "text": [
      "['flag', 'number', 'chair', 'glass', 'table', 'wine bottle', 'person', 'stadium', 'seat', 'bar']\n",
      "File : 651.jpg.json successfully created!\n",
      "Successfully processed Image 651.jpg , 98/265 Images Processed\n",
      "Processing image 558.jpg\n"
     ]
    },
    {
     "name": "stderr",
     "output_type": "stream",
     "text": [
      "Setting `pad_token_id` to `eos_token_id`:2 for open-end generation.\n"
     ]
    },
    {
     "name": "stdout",
     "output_type": "stream",
     "text": [
      "['elevator buttons', \"cartoon character's face\", \"cartoon character's face\", \"cartoon character's face\", \"cartoon character's face\", \"cartoon character's face\", \"cartoon character's face\", \"cartoon character's face\", \"cartoon character's face\", \"cartoon character's face\"]\n",
      "File : 558.jpg.json successfully created!\n",
      "Successfully processed Image 558.jpg , 99/265 Images Processed\n",
      "Processing image 544.jpg\n"
     ]
    },
    {
     "name": "stderr",
     "output_type": "stream",
     "text": [
      "Setting `pad_token_id` to `eos_token_id`:2 for open-end generation.\n"
     ]
    },
    {
     "name": "stdout",
     "output_type": "stream",
     "text": [
      "['door', 'character', 'toilet', 'floor', 'wall', 'logo', 'text', 'cartoon', \"character's overalls\", \"character's shoes\"]\n",
      "File : 544.jpg.json successfully created!\n",
      "Successfully processed Image 544.jpg , 100/265 Images Processed\n",
      "Processing image 652.jpg\n",
      "['character', 'character', 'character', 'character', 'character', 'character', 'character', 'character', 'character', 'character']\n",
      "File : 652.jpg.json successfully created!\n",
      "Successfully processed Image 652.jpg , 101/265 Images Processed\n",
      "Processing image 754.jpg\n"
     ]
    },
    {
     "name": "stderr",
     "output_type": "stream",
     "text": [
      "Setting `pad_token_id` to `eos_token_id`:2 for open-end generation.\n",
      "Setting `pad_token_id` to `eos_token_id`:2 for open-end generation.\n"
     ]
    },
    {
     "name": "stdout",
     "output_type": "stream",
     "text": [
      "['man', 'microphone', 'screen', 'text', 'bottle', 'table', 'wall', 'logo', 'number', 'word']\n",
      "File : 754.jpg.json successfully created!\n",
      "Successfully processed Image 754.jpg , 102/265 Images Processed\n",
      "Processing image 635.png\n"
     ]
    },
    {
     "name": "stderr",
     "output_type": "stream",
     "text": [
      "Setting `pad_token_id` to `eos_token_id`:2 for open-end generation.\n"
     ]
    },
    {
     "name": "stdout",
     "output_type": "stream",
     "text": [
      "['person', 'logo', 'arrow', 'text box', 'image of a person', 'word \"cpb\"', 'arrow pointing to a person', 'arrow pointing to a text box', 'arrow pointing to a logo', 'arrow pointing to an image of a person']\n",
      "File : 635.png.json successfully created!\n",
      "Successfully processed Image 635.png , 103/265 Images Processed\n",
      "Processing image 539.jpg\n"
     ]
    },
    {
     "name": "stderr",
     "output_type": "stream",
     "text": [
      "Setting `pad_token_id` to `eos_token_id`:2 for open-end generation.\n"
     ]
    },
    {
     "name": "stdout",
     "output_type": "stream",
     "text": [
      "['bar stool', 'television', 'bottle', 'glass', 'chair', 'poster', 'sign', 'glasses', 'tie', 'microphone']\n",
      "File : 539.jpg.json successfully created!\n",
      "Successfully processed Image 539.jpg , 104/265 Images Processed\n",
      "Processing image 677.jpg\n",
      "['circle', 'text', 'color', 'question mark', 'percentage sign', 'word', 'letter', 'number', 'punctuation', 'color gradient']\n",
      "File : 677.jpg.json successfully created!\n",
      "Successfully processed Image 677.jpg , 105/265 Images Processed\n",
      "Processing image 671.png\n"
     ]
    },
    {
     "name": "stderr",
     "output_type": "stream",
     "text": [
      "Setting `pad_token_id` to `eos_token_id`:2 for open-end generation.\n"
     ]
    },
    {
     "name": "stdout",
     "output_type": "stream",
     "text": [
      "['glasses', 'poster', 'arrow', 'bow', 'hair', 'skin', 'mouth', 'nose', 'eye', 'lettering']\n",
      "File : 671.png.json successfully created!\n",
      "Successfully processed Image 671.png , 106/265 Images Processed\n",
      "Processing image 638.jpg\n"
     ]
    },
    {
     "name": "stderr",
     "output_type": "stream",
     "text": [
      "Setting `pad_token_id` to `eos_token_id`:2 for open-end generation.\n",
      "Setting `pad_token_id` to `eos_token_id`:2 for open-end generation.\n"
     ]
    },
    {
     "name": "stdout",
     "output_type": "stream",
     "text": [
      "['microphone', 'chair', 'desk', 'screen', 'laptop', 'keyboard', 'mouse', 'monitor', 'pen', 'paper']\n",
      "File : 638.jpg.json successfully created!\n",
      "Successfully processed Image 638.jpg , 107/265 Images Processed\n",
      "Processing image 511.jpg\n"
     ]
    },
    {
     "name": "stderr",
     "output_type": "stream",
     "text": [
      "Setting `pad_token_id` to `eos_token_id`:2 for open-end generation.\n"
     ]
    },
    {
     "name": "stdout",
     "output_type": "stream",
     "text": [
      "['man', 'woman', 'robot', 'camera', 'airport', 'sign', 'seat', 'floor', 'wall', 'door']\n",
      "File : 511.jpg.json successfully created!\n",
      "Successfully processed Image 511.jpg , 108/265 Images Processed\n",
      "Processing image 748.jpg\n"
     ]
    },
    {
     "name": "stderr",
     "output_type": "stream",
     "text": [
      "Setting `pad_token_id` to `eos_token_id`:2 for open-end generation.\n"
     ]
    },
    {
     "name": "stdout",
     "output_type": "stream",
     "text": [
      "['office workers, retail workers, non-essential, artists, mouth,']\n",
      "File : 748.jpg.json successfully created!\n",
      "Successfully processed Image 748.jpg , 109/265 Images Processed\n",
      "Processing image 701.jpg\n"
     ]
    },
    {
     "name": "stderr",
     "output_type": "stream",
     "text": [
      "Setting `pad_token_id` to `eos_token_id`:2 for open-end generation.\n"
     ]
    },
    {
     "name": "stdout",
     "output_type": "stream",
     "text": [
      "['plate', 'glass', 'fork', 'knife', 'napkin', 'table', 'salad', 'broccoli', 'carrot', 'tray']\n",
      "File : 701.jpg.json successfully created!\n",
      "Successfully processed Image 701.jpg , 110/265 Images Processed\n",
      "Processing image 575.jpg\n"
     ]
    },
    {
     "name": "stderr",
     "output_type": "stream",
     "text": [
      "Setting `pad_token_id` to `eos_token_id`:2 for open-end generation.\n"
     ]
    },
    {
     "name": "stdout",
     "output_type": "stream",
     "text": [
      "['button', 'finger', 'number', 'hand', 'blur', 'image', 'text', 'launch', 'users', 'cd']\n",
      "File : 575.jpg.json successfully created!\n",
      "Successfully processed Image 575.jpg , 111/265 Images Processed\n",
      "Processing image 656.jpg\n"
     ]
    },
    {
     "name": "stderr",
     "output_type": "stream",
     "text": [
      "Setting `pad_token_id` to `eos_token_id`:2 for open-end generation.\n"
     ]
    },
    {
     "name": "stdout",
     "output_type": "stream",
     "text": [
      "['door', 'staircase', 'railing', 'floor', 'wall', 'corner', 'ceiling', 'light fixture', 'paint', 'mask']\n",
      "File : 656.jpg.json successfully created!\n",
      "Successfully processed Image 656.jpg , 112/265 Images Processed\n",
      "Processing image 610.jpg\n"
     ]
    },
    {
     "name": "stderr",
     "output_type": "stream",
     "text": [
      "Setting `pad_token_id` to `eos_token_id`:2 for open-end generation.\n"
     ]
    },
    {
     "name": "stdout",
     "output_type": "stream",
     "text": [
      "['iron', 'chair', 'table', 'ironing board', 'ironing shirt', 'ironing iron', 'ironing board cover', 'ironing shirt collar', 'ironing shirt cuff', 'ironing shirt pocket']\n",
      "File : 610.jpg.json successfully created!\n",
      "Successfully processed Image 610.jpg , 113/265 Images Processed\n",
      "Processing image 744.jpg\n"
     ]
    },
    {
     "name": "stderr",
     "output_type": "stream",
     "text": [
      "Setting `pad_token_id` to `eos_token_id`:2 for open-end generation.\n"
     ]
    },
    {
     "name": "stdout",
     "output_type": "stream",
     "text": [
      "['man', 'suit', 'tie', 'paper', 'wall', 'doorway', 'curtain', 'lighting', 'floor', 'television']\n",
      "File : 744.jpg.json successfully created!\n",
      "Successfully processed Image 744.jpg , 114/265 Images Processed\n",
      "Processing image 684.jpg\n"
     ]
    },
    {
     "name": "stderr",
     "output_type": "stream",
     "text": [
      "Setting `pad_token_id` to `eos_token_id`:2 for open-end generation.\n"
     ]
    },
    {
     "name": "stdout",
     "output_type": "stream",
     "text": [
      "['hat', 'x', 'shirt', 'collar', 'hair', 'glasses', 'smile', 'ear', 'nose', 'mouth']\n",
      "File : 684.jpg.json successfully created!\n",
      "Successfully processed Image 684.jpg , 115/265 Images Processed\n",
      "Processing image 654.jpg\n"
     ]
    },
    {
     "name": "stderr",
     "output_type": "stream",
     "text": [
      "Setting `pad_token_id` to `eos_token_id`:2 for open-end generation.\n"
     ]
    },
    {
     "name": "stdout",
     "output_type": "stream",
     "text": [
      "['door', 'spider-man suit', 'spider-man mask', 'spider-man web', 'spider-man gloves', 'spider-man boots', 'spider-man web shooter', 'spider-man eyes', 'spider-man hair', 'spider-man smile']\n",
      "File : 654.jpg.json successfully created!\n",
      "Successfully processed Image 654.jpg , 116/265 Images Processed\n",
      "Processing image 680.jpg\n"
     ]
    },
    {
     "name": "stderr",
     "output_type": "stream",
     "text": [
      "Setting `pad_token_id` to `eos_token_id`:2 for open-end generation.\n"
     ]
    },
    {
     "name": "stdout",
     "output_type": "stream",
     "text": [
      "['text', 'table', 'bold text', 'underlined text', 'number', 'arrow', 'parentheses', 'bullet point', 'date', 'name']\n",
      "File : 680.jpg.json successfully created!\n",
      "Successfully processed Image 680.jpg , 117/265 Images Processed\n",
      "Processing image 626.jpg\n"
     ]
    },
    {
     "name": "stderr",
     "output_type": "stream",
     "text": [
      "Setting `pad_token_id` to `eos_token_id`:2 for open-end generation.\n"
     ]
    },
    {
     "name": "stdout",
     "output_type": "stream",
     "text": [
      "['text', 'image', 'character', 'mouth', 'teeth', 'nose', 'eyes', 'eyebrows', 'facial hair', 'screen']\n",
      "File : 626.jpg.json successfully created!\n",
      "Successfully processed Image 626.jpg , 118/265 Images Processed\n",
      "Processing image 589.JPG\n"
     ]
    },
    {
     "name": "stderr",
     "output_type": "stream",
     "text": [
      "Setting `pad_token_id` to `eos_token_id`:2 for open-end generation.\n"
     ]
    },
    {
     "name": "stdout",
     "output_type": "stream",
     "text": [
      "['man', 'beard', 'mouth', 'teeth', 'hair', 'shirt', 'skin', 'microphone', 'background', 'text']\n",
      "File : 589.JPG.json successfully created!\n",
      "Successfully processed Image 589.JPG , 119/265 Images Processed\n",
      "Processing image 604.jpg\n"
     ]
    },
    {
     "name": "stderr",
     "output_type": "stream",
     "text": [
      "Setting `pad_token_id` to `eos_token_id`:2 for open-end generation.\n"
     ]
    },
    {
     "name": "stdout",
     "output_type": "stream",
     "text": [
      "['door', 'mask', 'paper', 'stairs', 'railing', 'floor', 'shoes', 'pants', 'shirt', 'corridor']\n",
      "File : 604.jpg.json successfully created!\n",
      "Successfully processed Image 604.jpg , 120/265 Images Processed\n",
      "Processing image 666.jpg\n",
      "['car', 'steering wheel', 'seat belt', 'mirror', 'window', 'hair', 'necklace', 'sunglasses', 'shirt', 'shorts']\n",
      "File : 666.jpg.json successfully created!\n",
      "Successfully processed Image 666.jpg , 121/265 Images Processed\n",
      "Processing image 556.jpg\n"
     ]
    },
    {
     "name": "stderr",
     "output_type": "stream",
     "text": [
      "Setting `pad_token_id` to `eos_token_id`:2 for open-end generation.\n",
      "Setting `pad_token_id` to `eos_token_id`:2 for open-end generation.\n"
     ]
    },
    {
     "name": "stdout",
     "output_type": "stream",
     "text": [
      "['man', 'jacket', 'logo', 'text', 'color', 'hand', 'mouth', 'eyes', 'ear', 'hair']\n",
      "File : 556.jpg.json successfully created!\n",
      "Successfully processed Image 556.jpg , 122/265 Images Processed\n",
      "Processing image 522.jpg\n",
      "['monkey', 'tree', 'water', 'sky', 'grass', 'shirt', 'pants', 'scarf', 'hair', 'eyes']\n",
      "File : 522.jpg.json successfully created!\n",
      "Successfully processed Image 522.jpg , 123/265 Images Processed\n",
      "Processing image 506.jpg\n"
     ]
    },
    {
     "name": "stderr",
     "output_type": "stream",
     "text": [
      "Setting `pad_token_id` to `eos_token_id`:2 for open-end generation.\n"
     ]
    },
    {
     "name": "stdout",
     "output_type": "stream",
     "text": [
      "['wall', 'trees', 'sky', 'road', 'lamp post', 'trunk', 'grass', 'fence', 'clouds', 'leaves']\n",
      "File : 506.jpg.json successfully created!\n",
      "Successfully processed Image 506.jpg , 124/265 Images Processed\n",
      "Processing image 679.png\n"
     ]
    },
    {
     "name": "stderr",
     "output_type": "stream",
     "text": [
      "Setting `pad_token_id` to `eos_token_id`:2 for open-end generation.\n",
      "Setting `pad_token_id` to `eos_token_id`:2 for open-end generation.\n"
     ]
    },
    {
     "name": "stdout",
     "output_type": "stream",
     "text": [
      "['clouds', 'hearts', 'sky', 'clouds', 'hearts', 'sky', 'clouds', 'hearts', 'sky', 'clouds']\n",
      "File : 679.png.json successfully created!\n",
      "Successfully processed Image 679.png , 125/265 Images Processed\n",
      "Processing image 569.jpg\n"
     ]
    },
    {
     "name": "stderr",
     "output_type": "stream",
     "text": [
      "Setting `pad_token_id` to `eos_token_id`:2 for open-end generation.\n"
     ]
    },
    {
     "name": "stdout",
     "output_type": "stream",
     "text": [
      "['glasses', 'jacket', 'shirt', 'tie', 'microphone', 'chair', 'wall', 'television', 'curtain', 'laptop']\n",
      "File : 569.jpg.json successfully created!\n",
      "Successfully processed Image 569.jpg , 126/265 Images Processed\n",
      "Processing image 583.jpg\n"
     ]
    },
    {
     "name": "stderr",
     "output_type": "stream",
     "text": [
      "Setting `pad_token_id` to `eos_token_id`:2 for open-end generation.\n"
     ]
    },
    {
     "name": "stdout",
     "output_type": "stream",
     "text": [
      "['man', 'glasses', 'mustache', 'shirt', 'jacket', 'pants', 'hair', 'wall', 'ceiling', 'light']\n",
      "File : 583.jpg.json successfully created!\n",
      "Successfully processed Image 583.jpg , 127/265 Images Processed\n",
      "Processing image 746.jpg\n"
     ]
    },
    {
     "name": "stderr",
     "output_type": "stream",
     "text": [
      "Setting `pad_token_id` to `eos_token_id`:2 for open-end generation.\n"
     ]
    },
    {
     "name": "stdout",
     "output_type": "stream",
     "text": [
      "['character', 'fire', 'smoke', 'arm', 'hand', 'glove', 'mouth', 'teeth', 'hair', 'costume']\n",
      "File : 746.jpg.json successfully created!\n",
      "Successfully processed Image 746.jpg , 128/265 Images Processed\n",
      "Processing image 512.jpg\n",
      "['computer monitor', 'keyboard', 'mouse', 'man', 'number', 'chatgpt', 'capacity', 'right', 'now', \"s'pore\"]\n",
      "File : 512.jpg.json successfully created!\n",
      "Successfully processed Image 512.jpg , 129/265 Images Processed\n",
      "Processing image 698.jpg\n"
     ]
    },
    {
     "name": "stderr",
     "output_type": "stream",
     "text": [
      "Setting `pad_token_id` to `eos_token_id`:2 for open-end generation.\n",
      "Setting `pad_token_id` to `eos_token_id`:2 for open-end generation.\n"
     ]
    },
    {
     "name": "stdout",
     "output_type": "stream",
     "text": [
      "['glass', 'watch', 'ring', 'shirt', 'tie', 'monitor', 'keyboard', 'mouse', 'table', 'clock']\n",
      "File : 698.jpg.json successfully created!\n",
      "Successfully processed Image 698.jpg , 130/265 Images Processed\n",
      "Processing image 599.png\n"
     ]
    },
    {
     "name": "stderr",
     "output_type": "stream",
     "text": [
      "Setting `pad_token_id` to `eos_token_id`:2 for open-end generation.\n"
     ]
    },
    {
     "name": "stdout",
     "output_type": "stream",
     "text": [
      "['phone', 'certificate', 'microphone', 'podium', 'shirt', 'tie', 'pants', 'logo', 'paper', 'grade']\n",
      "File : 599.png.json successfully created!\n",
      "Successfully processed Image 599.png , 131/265 Images Processed\n",
      "Processing image 655.png\n"
     ]
    },
    {
     "name": "stderr",
     "output_type": "stream",
     "text": [
      "Setting `pad_token_id` to `eos_token_id`:2 for open-end generation.\n"
     ]
    },
    {
     "name": "stdout",
     "output_type": "stream",
     "text": [
      "['brain', 'lightning', 'probe', 'cat', 'fire', 'head', 'light', 'hand', 'star', 'robot']\n",
      "File : 655.png.json successfully created!\n",
      "Successfully processed Image 655.png , 132/265 Images Processed\n",
      "Processing image 565.jpg\n"
     ]
    },
    {
     "name": "stderr",
     "output_type": "stream",
     "text": [
      "Setting `pad_token_id` to `eos_token_id`:2 for open-end generation.\n"
     ]
    },
    {
     "name": "stdout",
     "output_type": "stream",
     "text": [
      "['man', 'suit', 'tie', 'jacket', 'paper', 'door', 'wall', 'floor', 'ceiling', 'light']\n",
      "File : 565.jpg.json successfully created!\n",
      "Successfully processed Image 565.jpg , 133/265 Images Processed\n",
      "Processing image 669.jpg\n",
      "['man', 'trees', 'road', 'grass', 'sky', 'buildings', 'shirt', 'pavement', 'curb', 'sign']\n",
      "File : 669.jpg.json successfully created!\n",
      "Successfully processed Image 669.jpg , 134/265 Images Processed\n",
      "Processing image 612.jpg\n"
     ]
    },
    {
     "name": "stderr",
     "output_type": "stream",
     "text": [
      "Setting `pad_token_id` to `eos_token_id`:2 for open-end generation.\n",
      "Setting `pad_token_id` to `eos_token_id`:2 for open-end generation.\n"
     ]
    },
    {
     "name": "stdout",
     "output_type": "stream",
     "text": [
      "['glass', 'wine', 'table', 'chair', 'hand', 'fingers', 'drawing', 'speech bubble', 'restaurant', 'man']\n",
      "File : 612.jpg.json successfully created!\n",
      "Successfully processed Image 612.jpg , 135/265 Images Processed\n",
      "Processing image 622.jpg\n"
     ]
    },
    {
     "name": "stderr",
     "output_type": "stream",
     "text": [
      "Setting `pad_token_id` to `eos_token_id`:2 for open-end generation.\n"
     ]
    },
    {
     "name": "stdout",
     "output_type": "stream",
     "text": [
      "['grass', 'city skyline', 'mickey mouse', 'donald duck', 'eeyore', 'tweety bird', 'snoopy', 'charlie brown', 'piglet', 'dilbert']\n",
      "File : 622.jpg.json successfully created!\n",
      "Successfully processed Image 622.jpg , 136/265 Images Processed\n",
      "Processing image 548.jpg\n"
     ]
    },
    {
     "name": "stderr",
     "output_type": "stream",
     "text": [
      "Setting `pad_token_id` to `eos_token_id`:2 for open-end generation.\n"
     ]
    },
    {
     "name": "stdout",
     "output_type": "stream",
     "text": [
      "['face', 'mouth', 'nose', 'eyes', 'chin', 'forehead', 'ear', 'hair', 'neck', 'shoulder']\n",
      "File : 548.jpg.json successfully created!\n",
      "Successfully processed Image 548.jpg , 137/265 Images Processed\n",
      "Processing image 632.png\n",
      "['jacket', 'tie', 'shirt', 'pants', 'suit', 'coat', 'shoes', 'belt', 'pocket square', 'watch']\n",
      "File : 632.png.json successfully created!\n",
      "Successfully processed Image 632.png , 138/265 Images Processed\n",
      "Processing image 551.jpg\n"
     ]
    },
    {
     "name": "stderr",
     "output_type": "stream",
     "text": [
      "Setting `pad_token_id` to `eos_token_id`:2 for open-end generation.\n"
     ]
    },
    {
     "name": "stdout",
     "output_type": "stream",
     "text": [
      "['microphone', 'logo', 'text', 'image of a person', 'image of a group of people', 'image of a superhero', 'image of a superhero group', 'image of a superhero costume', 'image of a superhero costume group', 'image of a person in a costume']\n",
      "File : 551.jpg.json successfully created!\n",
      "Successfully processed Image 551.jpg , 139/265 Images Processed\n",
      "Processing image 502.png\n"
     ]
    },
    {
     "name": "stderr",
     "output_type": "stream",
     "text": [
      "Setting `pad_token_id` to `eos_token_id`:2 for open-end generation.\n"
     ]
    },
    {
     "name": "stdout",
     "output_type": "stream",
     "text": [
      "['microphone', \"man's hand\", \"man's hand\", \"man's hand\", \"man's hand\", \"man's hand\", \"man's hand\", \"man's hand\", \"man's hand\", \"man's hand\"]\n",
      "File : 502.png.json successfully created!\n",
      "Successfully processed Image 502.png , 140/265 Images Processed\n",
      "Processing image 688.jpg\n"
     ]
    },
    {
     "name": "stderr",
     "output_type": "stream",
     "text": [
      "Setting `pad_token_id` to `eos_token_id`:2 for open-end generation.\n",
      "Setting `pad_token_id` to `eos_token_id`:2 for open-end generation.\n"
     ]
    },
    {
     "name": "stdout",
     "output_type": "stream",
     "text": [
      "['microphone', 'tie', 'suit', 'shirt', 'hair', 'trees', 'street sign', 'leaves', 'sky', 'grass']\n",
      "File : 688.jpg.json successfully created!\n",
      "Successfully processed Image 688.jpg , 141/265 Images Processed\n",
      "Processing image 673.png\n",
      "['woman', 'man', 'office chair', 'desk', 'computer monitor', 'papers', 'pen', 'suit', 'tie', 'smile']\n",
      "File : 673.png.json successfully created!\n",
      "Successfully processed Image 673.png , 142/265 Images Processed\n",
      "Processing image 641.jpg\n"
     ]
    },
    {
     "name": "stderr",
     "output_type": "stream",
     "text": [
      "Setting `pad_token_id` to `eos_token_id`:2 for open-end generation.\n",
      "Setting `pad_token_id` to `eos_token_id`:2 for open-end generation.\n"
     ]
    },
    {
     "name": "stdout",
     "output_type": "stream",
     "text": [
      "['flowers', 'man', 'roses', 'boxes', 'table', 'pavement', 'buildings', 'sky', 'clouds', 'trees']\n",
      "File : 641.jpg.json successfully created!\n",
      "Successfully processed Image 641.jpg , 143/265 Images Processed\n",
      "Processing image 504.jpg\n"
     ]
    },
    {
     "name": "stderr",
     "output_type": "stream",
     "text": [
      "Setting `pad_token_id` to `eos_token_id`:2 for open-end generation.\n"
     ]
    },
    {
     "name": "stdout",
     "output_type": "stream",
     "text": [
      "['wall', 'jacket', 'shirt', 'beard', 'hair', 'hand', 'mouth', 'ear', 'nose', 'eye']\n",
      "File : 504.jpg.json successfully created!\n",
      "Successfully processed Image 504.jpg , 144/265 Images Processed\n",
      "Processing image 686.png\n",
      "['man', 'rope', 'sky', 'clouds', 'water', 'boat', 'shirt', 'collar', 'hair', 'text']\n",
      "File : 686.png.json successfully created!\n",
      "Successfully processed Image 686.png , 145/265 Images Processed\n",
      "Processing image 718.png\n"
     ]
    },
    {
     "name": "stderr",
     "output_type": "stream",
     "text": [
      "Setting `pad_token_id` to `eos_token_id`:2 for open-end generation.\n",
      "Setting `pad_token_id` to `eos_token_id`:2 for open-end generation.\n"
     ]
    },
    {
     "name": "stdout",
     "output_type": "stream",
     "text": [
      "['man', 'suit', 'tie', 'watch', 'car', 'road', 'blurred background', 'blurred people', 'blurred vehicles', 'text']\n",
      "File : 718.png.json successfully created!\n",
      "Successfully processed Image 718.png , 146/265 Images Processed\n",
      "Processing image 616.png\n",
      "['screwdriver', 'hammer', 'heart', 'door', 'casket', 'screw', 'door handle', 'screwdriver handle', 'door lock', 'casket handle']\n",
      "File : 616.png.json successfully created!\n",
      "Successfully processed Image 616.png , 147/265 Images Processed\n",
      "Processing image 755.jpg\n"
     ]
    },
    {
     "name": "stderr",
     "output_type": "stream",
     "text": [
      "Setting `pad_token_id` to `eos_token_id`:2 for open-end generation.\n",
      "Setting `pad_token_id` to `eos_token_id`:2 for open-end generation.\n"
     ]
    },
    {
     "name": "stdout",
     "output_type": "stream",
     "text": [
      "[\"mcdonald's sign\", 'shopping cart', 'mask', 'backpack', 'shirt', 'pants', 'handbag', 'sandals', 't-shirt', 'sneakers']\n",
      "File : 755.jpg.json successfully created!\n",
      "Successfully processed Image 755.jpg , 148/265 Images Processed\n",
      "Processing image 601.png\n"
     ]
    },
    {
     "name": "stderr",
     "output_type": "stream",
     "text": [
      "Setting `pad_token_id` to `eos_token_id`:2 for open-end generation.\n"
     ]
    },
    {
     "name": "stdout",
     "output_type": "stream",
     "text": [
      "['chair', 'ironing board', 'iron', 'shirt', 'table', 'coasters', 'books', 'lamp', 'wall clock', 'rug']\n",
      "File : 601.png.json successfully created!\n",
      "Successfully processed Image 601.png , 149/265 Images Processed\n",
      "Processing image 644.jpg\n",
      "['flag', 'microphone', 'man', 'glasses', 'shirt', 'tie', 'poster', 'text', 'letter', 'color']\n",
      "File : 644.jpg.json successfully created!\n",
      "Successfully processed Image 644.jpg , 150/265 Images Processed\n",
      "Processing image 587.png\n"
     ]
    },
    {
     "name": "stderr",
     "output_type": "stream",
     "text": [
      "Setting `pad_token_id` to `eos_token_id`:2 for open-end generation.\n",
      "Setting `pad_token_id` to `eos_token_id`:2 for open-end generation.\n"
     ]
    },
    {
     "name": "stdout",
     "output_type": "stream",
     "text": [
      "['dog', 'flag', 'speech bubble', 'character', 'word \"captain\"', 'word \"dam\"', 'word \"sia\"', 'word \"ah?\"', 'word \"fucking\"', 'word \"populist\"']\n",
      "File : 587.png.json successfully created!\n",
      "Successfully processed Image 587.png , 151/265 Images Processed\n",
      "Processing image 742.jpg\n"
     ]
    },
    {
     "name": "stderr",
     "output_type": "stream",
     "text": [
      "Setting `pad_token_id` to `eos_token_id`:2 for open-end generation.\n"
     ]
    },
    {
     "name": "stdout",
     "output_type": "stream",
     "text": [
      "['man', 'jacket', 'trees', 'text', 'year', 'bubble', 'travel', 'australia', 'end', 'think']\n",
      "File : 742.jpg.json successfully created!\n",
      "Successfully processed Image 742.jpg , 152/265 Images Processed\n",
      "Processing image 675.jpg\n"
     ]
    },
    {
     "name": "stderr",
     "output_type": "stream",
     "text": [
      "Setting `pad_token_id` to `eos_token_id`:2 for open-end generation.\n"
     ]
    },
    {
     "name": "stdout",
     "output_type": "stream",
     "text": [
      "[\"judge's robe\", 'microphone', 'chair', 'desk', 'seal', 'clock', 'screen', 'phone', 'paper', 'pen']\n",
      "File : 675.jpg.json successfully created!\n",
      "Successfully processed Image 675.jpg , 153/265 Images Processed\n",
      "Processing image 699.png\n"
     ]
    },
    {
     "name": "stderr",
     "output_type": "stream",
     "text": [
      "Setting `pad_token_id` to `eos_token_id`:2 for open-end generation.\n"
     ]
    },
    {
     "name": "stdout",
     "output_type": "stream",
     "text": [
      "['man', 'tie', 'suit', 'flag', 'door', 'wall', 'gun', 'light switch', 'picture frame', 'curtain']\n",
      "File : 699.png.json successfully created!\n",
      "Successfully processed Image 699.png , 154/265 Images Processed\n",
      "Processing image 554.jpg\n",
      "['screen', 'stadium', 'taylor swift', 'image', 'stadium seats', 'crowd', 'stadium lights', 'stadium roof', 'stadium entrance', 'stadium scoreboard']\n",
      "File : 554.jpg.json successfully created!\n",
      "Successfully processed Image 554.jpg , 155/265 Images Processed\n",
      "Processing image 598.jpg\n"
     ]
    },
    {
     "name": "stderr",
     "output_type": "stream",
     "text": [
      "Setting `pad_token_id` to `eos_token_id`:2 for open-end generation.\n",
      "Setting `pad_token_id` to `eos_token_id`:2 for open-end generation.\n"
     ]
    },
    {
     "name": "stdout",
     "output_type": "stream",
     "text": [
      "['shovel', 'shovel', 'man', 'man', 'hat', 'hat', 'tie', 'tie', 'suit', 'suit']\n",
      "File : 598.jpg.json successfully created!\n",
      "Successfully processed Image 598.jpg , 156/265 Images Processed\n",
      "Processing image 741.jpg\n",
      "['grass', 'bench', 'shoes', 'phone', 'jeans', 'hair', 'sunglasses', 'sandals', 'shorts', 't-shirt']\n",
      "File : 741.jpg.json successfully created!\n",
      "Successfully processed Image 741.jpg , 157/265 Images Processed\n",
      "Processing image 630.jpg\n"
     ]
    },
    {
     "name": "stderr",
     "output_type": "stream",
     "text": [
      "Setting `pad_token_id` to `eos_token_id`:2 for open-end generation.\n"
     ]
    },
    {
     "name": "stdout",
     "output_type": "stream",
     "text": [
      "['window', 'man', 'trees', 'sky', 'glass', 'frame', 'door', 'pine needles', 'window sill', 'reflection']\n",
      "File : 630.jpg.json successfully created!\n",
      "Successfully processed Image 630.jpg , 158/265 Images Processed\n",
      "Processing image 740.jpg\n"
     ]
    },
    {
     "name": "stderr",
     "output_type": "stream",
     "text": [
      "Setting `pad_token_id` to `eos_token_id`:2 for open-end generation.\n",
      "Setting `pad_token_id` to `eos_token_id`:2 for open-end generation.\n"
     ]
    },
    {
     "name": "stdout",
     "output_type": "stream",
     "text": [
      "['ronald mcdonald', \"mcdonald's logo\", 'clown hat', \"mcdonald's logo on hat\", \"mcdonald's logo on shirt\", \"mcdonald's logo on pants\", \"mcdonald's logo on shoes\", \"mcdonald's logo on tie\", \"mcdonald's logo on pants\", \"mcdonald's logo on shirt\"]\n",
      "File : 740.jpg.json successfully created!\n",
      "Successfully processed Image 740.jpg , 159/265 Images Processed\n",
      "Processing image 526.jpg\n"
     ]
    },
    {
     "name": "stderr",
     "output_type": "stream",
     "text": [
      "Setting `pad_token_id` to `eos_token_id`:2 for open-end generation.\n"
     ]
    },
    {
     "name": "stdout",
     "output_type": "stream",
     "text": [
      "['camera', 'screen', 'window', 'curtain', 'reflection', 'sky', 'clouds', 'trees', 'grass', 'building']\n",
      "File : 526.jpg.json successfully created!\n",
      "Successfully processed Image 526.jpg , 160/265 Images Processed\n",
      "Processing image 532.jpg\n"
     ]
    },
    {
     "name": "stderr",
     "output_type": "stream",
     "text": [
      "Setting `pad_token_id` to `eos_token_id`:2 for open-end generation.\n"
     ]
    },
    {
     "name": "stdout",
     "output_type": "stream",
     "text": [
      "['ceiling lights', 'metal beams', 'spectators', 'ropes', 'ring', 'elbow pad', 'knee pad', 'sweatband', 'shorts', 'sneakers']\n",
      "File : 532.jpg.json successfully created!\n",
      "Successfully processed Image 532.jpg , 161/265 Images Processed\n",
      "Processing image 764.jpg\n"
     ]
    },
    {
     "name": "stderr",
     "output_type": "stream",
     "text": [
      "Setting `pad_token_id` to `eos_token_id`:2 for open-end generation.\n"
     ]
    },
    {
     "name": "stdout",
     "output_type": "stream",
     "text": [
      "['clouds', 'sky', 'fire', 'building', 'man', 'woman', 'glasses', 'suit', 'hair', 'skyscraper']\n",
      "File : 764.jpg.json successfully created!\n",
      "Successfully processed Image 764.jpg , 162/265 Images Processed\n",
      "Processing image 647.jpg\n",
      "['man', 'jacket', 'hood', 'beard', 'mustache', 'hand', 'finger', 'mouth', 'nose', 'eyes']\n",
      "File : 647.jpg.json successfully created!\n",
      "Successfully processed Image 647.jpg , 163/265 Images Processed\n",
      "Processing image 757.jpg\n"
     ]
    },
    {
     "name": "stderr",
     "output_type": "stream",
     "text": [
      "Setting `pad_token_id` to `eos_token_id`:2 for open-end generation.\n"
     ]
    },
    {
     "name": "stdout",
     "output_type": "stream",
     "text": [
      "['person', 'pavement', 'grass', 'shirt', 'pants', 'cuff', 'watch', 'phone', 'finger', 'pencil']\n",
      "File : 757.jpg.json successfully created!\n",
      "Successfully processed Image 757.jpg , 164/265 Images Processed\n",
      "Processing image 510.png\n"
     ]
    },
    {
     "name": "stderr",
     "output_type": "stream",
     "text": [
      "Setting `pad_token_id` to `eos_token_id`:2 for open-end generation.\n"
     ]
    },
    {
     "name": "stdout",
     "output_type": "stream",
     "text": [
      "['door', 'flag', 'television', 'cup', 'wall', 'shelf', 'bottle', 'screen', 'hair', 'necklace']\n",
      "File : 510.png.json successfully created!\n",
      "Successfully processed Image 510.png , 165/265 Images Processed\n",
      "Processing image 690.png\n"
     ]
    },
    {
     "name": "stderr",
     "output_type": "stream",
     "text": [
      "Setting `pad_token_id` to `eos_token_id`:2 for open-end generation.\n",
      "Setting `pad_token_id` to `eos_token_id`:2 for open-end generation.\n"
     ]
    },
    {
     "name": "stdout",
     "output_type": "stream",
     "text": [
      "['flag', 'glasses', 'tie', 'suit', 'microphone', 'crowd', 'camera', 'hair', 'ear', 'screen']\n",
      "File : 690.png.json successfully created!\n",
      "Successfully processed Image 690.png , 166/265 Images Processed\n",
      "Processing image 609.jpg\n"
     ]
    },
    {
     "name": "stderr",
     "output_type": "stream",
     "text": [
      "Setting `pad_token_id` to `eos_token_id`:2 for open-end generation.\n"
     ]
    },
    {
     "name": "stdout",
     "output_type": "stream",
     "text": [
      "['fire truck', 'fire hydrant', 'fire hose', 'firefighter', 'house', 'windows', 'door', 'smoke', 'trees', 'sky']\n",
      "File : 609.jpg.json successfully created!\n",
      "Successfully processed Image 609.jpg , 167/265 Images Processed\n",
      "Processing image 566.jpg\n"
     ]
    },
    {
     "name": "stderr",
     "output_type": "stream",
     "text": [
      "Setting `pad_token_id` to `eos_token_id`:2 for open-end generation.\n"
     ]
    },
    {
     "name": "stdout",
     "output_type": "stream",
     "text": [
      "['computer monitor', 'keyboard', 'chair', 'plant', 'window', 'screen', 'wall', 'door', 'television', 'curtain']\n",
      "File : 566.jpg.json successfully created!\n",
      "Successfully processed Image 566.jpg , 168/265 Images Processed\n",
      "Processing image 557.jpg\n"
     ]
    },
    {
     "name": "stderr",
     "output_type": "stream",
     "text": [
      "Setting `pad_token_id` to `eos_token_id`:2 for open-end generation.\n"
     ]
    },
    {
     "name": "stdout",
     "output_type": "stream",
     "text": [
      "['man', 'lamp', 'can', 'jacket', 'tie', 'bowl', 'table', 'soda can', 'paper', 'pen']\n",
      "File : 557.jpg.json successfully created!\n",
      "Successfully processed Image 557.jpg , 169/265 Images Processed\n",
      "Processing image 538.jpg\n"
     ]
    },
    {
     "name": "stderr",
     "output_type": "stream",
     "text": [
      "Setting `pad_token_id` to `eos_token_id`:2 for open-end generation.\n"
     ]
    },
    {
     "name": "stdout",
     "output_type": "stream",
     "text": [
      "['crescent moon', 'star', 'flag', 'rabbit', 'car', 'officer', 'police', 'maserati', \"officer's uniform\", 'text']\n",
      "File : 538.jpg.json successfully created!\n",
      "Successfully processed Image 538.jpg , 170/265 Images Processed\n",
      "Processing image 648.png\n",
      "['character', 'dog', 'glove', 'robot', 'screen', 'gloves', 'robot', 'glove', 'robot', 'glove']\n",
      "File : 648.png.json successfully created!\n",
      "Successfully processed Image 648.png , 171/265 Images Processed\n",
      "Processing image 503.png\n"
     ]
    },
    {
     "name": "stderr",
     "output_type": "stream",
     "text": [
      "Setting `pad_token_id` to `eos_token_id`:2 for open-end generation.\n",
      "Setting `pad_token_id` to `eos_token_id`:2 for open-end generation.\n"
     ]
    },
    {
     "name": "stdout",
     "output_type": "stream",
     "text": [
      "['spongebob squarepants', 'patrick star', 'squidward tentacles', 'sandy cheeks', 'mr. krabs', 'krabby patty', 'plankton', 'pearl krabs', \"spongebob's pineapple house\", 'bubbles']\n",
      "File : 503.png.json successfully created!\n",
      "Successfully processed Image 503.png , 172/265 Images Processed\n",
      "Processing image 633.png\n",
      "['chair', 'ironing board', 'iron', 'shirt', 'table', 'coasters', 'books', 'lamp', 'wall clock', 'rug']\n",
      "File : 633.png.json successfully created!\n",
      "Successfully processed Image 633.png , 173/265 Images Processed\n",
      "Processing image 628.jpg\n"
     ]
    },
    {
     "name": "stderr",
     "output_type": "stream",
     "text": [
      "Setting `pad_token_id` to `eos_token_id`:2 for open-end generation.\n",
      "Setting `pad_token_id` to `eos_token_id`:2 for open-end generation.\n"
     ]
    },
    {
     "name": "stdout",
     "output_type": "stream",
     "text": [
      "['man', 'statue', 'flowers', 'table', 'camera', 'watch', 'tie', 'glasses', 'suit', 'prayer beads']\n",
      "File : 628.jpg.json successfully created!\n",
      "Successfully processed Image 628.jpg , 174/265 Images Processed\n",
      "Processing image 640.jpg\n",
      "['flag', 'text', 'letter', 'word', 'color', 'flagpole', 'lettering', 'text font', 'color contrast', 'image background']\n",
      "File : 640.jpg.json successfully created!\n",
      "Successfully processed Image 640.jpg , 175/265 Images Processed\n",
      "Processing image 734.jpg\n"
     ]
    },
    {
     "name": "stderr",
     "output_type": "stream",
     "text": [
      "Setting `pad_token_id` to `eos_token_id`:2 for open-end generation.\n",
      "Setting `pad_token_id` to `eos_token_id`:2 for open-end generation.\n"
     ]
    },
    {
     "name": "stdout",
     "output_type": "stream",
     "text": [
      "['character', 'window', 'book', 'door', 'hat', 'cane', 'shirt', 'pants', 'sword', 'wall']\n",
      "File : 734.jpg.json successfully created!\n",
      "Successfully processed Image 734.jpg , 176/265 Images Processed\n",
      "Processing image 743.jpg\n"
     ]
    },
    {
     "name": "stderr",
     "output_type": "stream",
     "text": [
      "Setting `pad_token_id` to `eos_token_id`:2 for open-end generation.\n"
     ]
    },
    {
     "name": "stdout",
     "output_type": "stream",
     "text": [
      "['man', 'suit', 'tie', 'paper', 'wall', 'doorway', 'curtain', 'lighting', 'floor', 'television']\n",
      "File : 743.jpg.json successfully created!\n",
      "Successfully processed Image 743.jpg , 177/265 Images Processed\n",
      "Processing image 631.jpg\n"
     ]
    },
    {
     "name": "stderr",
     "output_type": "stream",
     "text": [
      "Setting `pad_token_id` to `eos_token_id`:2 for open-end generation.\n"
     ]
    },
    {
     "name": "stdout",
     "output_type": "stream",
     "text": [
      "['man', 'tie', 'jacket', 'pants', 'desk', 'computer monitor', 'keyboard', 'mouse', 'papers', 'wall']\n",
      "File : 631.jpg.json successfully created!\n",
      "Successfully processed Image 631.jpg , 178/265 Images Processed\n",
      "Processing image 733.jpg\n"
     ]
    },
    {
     "name": "stderr",
     "output_type": "stream",
     "text": [
      "Setting `pad_token_id` to `eos_token_id`:2 for open-end generation.\n"
     ]
    },
    {
     "name": "stdout",
     "output_type": "stream",
     "text": [
      "['man', 'water', 'bottle', 'text', 'glass', 'tap', 'words', 'hand', 'water bottle', 'label']\n",
      "File : 733.jpg.json successfully created!\n",
      "Successfully processed Image 733.jpg , 179/265 Images Processed\n",
      "Processing image 694.jpg\n"
     ]
    },
    {
     "name": "stderr",
     "output_type": "stream",
     "text": [
      "Setting `pad_token_id` to `eos_token_id`:2 for open-end generation.\n"
     ]
    },
    {
     "name": "stdout",
     "output_type": "stream",
     "text": [
      "['glass', 'hand', 'table', 'star', 'urine', 'text', 'glass handle', 'shadow', 'water', 'fingers']\n",
      "File : 694.jpg.json successfully created!\n",
      "Successfully processed Image 694.jpg , 180/265 Images Processed\n",
      "Processing image 760.jpg\n"
     ]
    },
    {
     "name": "stderr",
     "output_type": "stream",
     "text": [
      "Setting `pad_token_id` to `eos_token_id`:2 for open-end generation.\n"
     ]
    },
    {
     "name": "stdout",
     "output_type": "stream",
     "text": [
      "['man', 'glasses', 'suit', 'tie', 'shirt', 'earring', 'phone', 'screen', 'text', 'word']\n",
      "File : 760.jpg.json successfully created!\n",
      "Successfully processed Image 760.jpg , 181/265 Images Processed\n",
      "Processing image 661.png\n"
     ]
    },
    {
     "name": "stderr",
     "output_type": "stream",
     "text": [
      "Setting `pad_token_id` to `eos_token_id`:2 for open-end generation.\n"
     ]
    },
    {
     "name": "stdout",
     "output_type": "stream",
     "text": [
      "['sand', 'rose', 'man', 'beach', 'sunset', 'sky', 'water', 'ocean', 'rose petals', 'beach sand']\n",
      "File : 661.png.json successfully created!\n",
      "Successfully processed Image 661.png , 182/265 Images Processed\n",
      "Processing image 650.jpg\n",
      "['phone', 'screen', 'news', 'breaking', 'shit', 'show', 'factory', 'vault', 'culture', 'tech']\n",
      "File : 650.jpg.json successfully created!\n",
      "Successfully processed Image 650.jpg , 183/265 Images Processed\n",
      "Processing image 561.png\n"
     ]
    },
    {
     "name": "stderr",
     "output_type": "stream",
     "text": [
      "Setting `pad_token_id` to `eos_token_id`:2 for open-end generation.\n"
     ]
    },
    {
     "name": "stdout",
     "output_type": "stream",
     "text": [
      "['man', 'shirt', 'pants', 'glasses', 'ear', 'mouth', 'nose', 'eye', 'hair', 'background']\n",
      "File : 561.png.json successfully created!\n",
      "Successfully processed Image 561.png , 184/265 Images Processed\n",
      "Processing image 636.jpg\n"
     ]
    },
    {
     "name": "stderr",
     "output_type": "stream",
     "text": [
      "Setting `pad_token_id` to `eos_token_id`:2 for open-end generation.\n",
      "Setting `pad_token_id` to `eos_token_id`:2 for open-end generation.\n"
     ]
    },
    {
     "name": "stdout",
     "output_type": "stream",
     "text": [
      "['screen', 'character', 'text', 'emoji', 'reaction', 'image', 'cartoon', 'character design', 'dialogue', 'animation']\n",
      "File : 636.jpg.json successfully created!\n",
      "Successfully processed Image 636.jpg , 185/265 Images Processed\n",
      "Processing image 696.jpg\n",
      "['man', 'glasses', 'suit', 'tie', 'microphone', 'lectern', 'audience', 'wall', 'door', 'floor']\n",
      "File : 696.jpg.json successfully created!\n",
      "Successfully processed Image 696.jpg , 186/265 Images Processed\n",
      "Processing image 715.png\n"
     ]
    },
    {
     "name": "stderr",
     "output_type": "stream",
     "text": [
      "Setting `pad_token_id` to `eos_token_id`:2 for open-end generation.\n"
     ]
    },
    {
     "name": "stdout",
     "output_type": "stream",
     "text": [
      "['man', 'tie', 'suit', 'wall', 'numbers', 'graph', 'arrow', 'tears', 'logo', 'red background']\n",
      "File : 715.png.json successfully created!\n",
      "Successfully processed Image 715.png , 187/265 Images Processed\n",
      "Processing image 514.png\n"
     ]
    },
    {
     "name": "stderr",
     "output_type": "stream",
     "text": [
      "Setting `pad_token_id` to `eos_token_id`:2 for open-end generation.\n"
     ]
    },
    {
     "name": "stdout",
     "output_type": "stream",
     "text": [
      "['swimming pool', 'man in red shirt', 'man in swim trunks', 'man in black shorts', 'man in black shirt', 'man in black pants', 'man in black shoes', 'man in black glasses', 'man in black hat', 'man in black sunglasses']\n",
      "File : 514.png.json successfully created!\n",
      "Successfully processed Image 514.png , 188/265 Images Processed\n",
      "Processing image 660.jpg\n"
     ]
    },
    {
     "name": "stderr",
     "output_type": "stream",
     "text": [
      "Setting `pad_token_id` to `eos_token_id`:2 for open-end generation.\n",
      "Setting `pad_token_id` to `eos_token_id`:2 for open-end generation.\n"
     ]
    },
    {
     "name": "stdout",
     "output_type": "stream",
     "text": [
      "['phone', 'screen', 'speaker', 'ear', 'glasses', 'shirt', 'pants', 'door', 'stairs', 'elevator']\n",
      "File : 660.jpg.json successfully created!\n",
      "Successfully processed Image 660.jpg , 189/265 Images Processed\n",
      "Processing image 745.jpg\n",
      "['chicken', 'export', 'million', 'bye', 'sticker', 'chinese character', 'direction', 'arrow', 'cartoon', 'insta']\n",
      "File : 745.jpg.json successfully created!\n",
      "Successfully processed Image 745.jpg , 190/265 Images Processed\n",
      "Processing image 634.png\n"
     ]
    },
    {
     "name": "stderr",
     "output_type": "stream",
     "text": [
      "Setting `pad_token_id` to `eos_token_id`:2 for open-end generation.\n",
      "Setting `pad_token_id` to `eos_token_id`:2 for open-end generation.\n"
     ]
    },
    {
     "name": "stdout",
     "output_type": "stream",
     "text": [
      "['person', 'text', 'sky', 'clouds', 'blue', 'white', 'black', 'letter', 'number', 'date']\n",
      "File : 634.png.json successfully created!\n",
      "Successfully processed Image 634.png , 191/265 Images Processed\n",
      "Processing image 621.jpg\n"
     ]
    },
    {
     "name": "stderr",
     "output_type": "stream",
     "text": [
      "Setting `pad_token_id` to `eos_token_id`:2 for open-end generation.\n"
     ]
    },
    {
     "name": "stdout",
     "output_type": "stream",
     "text": [
      "['person', 'chair', 'desk', 'laptop', 'microphone', 'screen', 'speaker', 'suit', 'tie', 'glasses']\n",
      "File : 621.jpg.json successfully created!\n",
      "Successfully processed Image 621.jpg , 192/265 Images Processed\n",
      "Processing image 643.jpg\n"
     ]
    },
    {
     "name": "stderr",
     "output_type": "stream",
     "text": [
      "Setting `pad_token_id` to `eos_token_id`:2 for open-end generation.\n"
     ]
    },
    {
     "name": "stdout",
     "output_type": "stream",
     "text": [
      "['man', 'shirt', 'shorts', 'wall', 'floor', 'board', 'light', 'shadow', 'hair', 'smile']\n",
      "File : 643.jpg.json successfully created!\n",
      "Successfully processed Image 643.jpg , 193/265 Images Processed\n",
      "Processing image 581.jpg\n",
      "['train', 'track', 'grass', 'sky', 'clouds', 'smoke', 'steam', 'wheel', 'piston', 'engine']\n",
      "File : 581.jpg.json successfully created!\n",
      "Successfully processed Image 581.jpg , 194/265 Images Processed\n",
      "Processing image 725.jpg\n"
     ]
    },
    {
     "name": "stderr",
     "output_type": "stream",
     "text": [
      "Setting `pad_token_id` to `eos_token_id`:2 for open-end generation.\n"
     ]
    },
    {
     "name": "stdout",
     "output_type": "stream",
     "text": [
      "['grass', 'trees', 'sky', 'bushes', 'shirt', 'tie', 'jacket', 'hair', 'mouth', 'eyes']\n",
      "File : 725.jpg.json successfully created!\n",
      "Successfully processed Image 725.jpg , 195/265 Images Processed\n",
      "Processing image 615.jpg\n"
     ]
    },
    {
     "name": "stderr",
     "output_type": "stream",
     "text": [
      "Setting `pad_token_id` to `eos_token_id`:2 for open-end generation.\n",
      "Setting `pad_token_id` to `eos_token_id`:2 for open-end generation.\n"
     ]
    },
    {
     "name": "stdout",
     "output_type": "stream",
     "text": [
      "['sand', 'turtle', 'sign', 'microphone', \"man's hand\", \"woman's hand\", 'signature', 'logo', 'microphone stand', 'background']\n",
      "File : 615.jpg.json successfully created!\n",
      "Successfully processed Image 615.jpg , 196/265 Images Processed\n",
      "Processing image 543.jpg\n"
     ]
    },
    {
     "name": "stderr",
     "output_type": "stream",
     "text": [
      "Setting `pad_token_id` to `eos_token_id`:2 for open-end generation.\n"
     ]
    },
    {
     "name": "stdout",
     "output_type": "stream",
     "text": [
      "['character', \"character's face\", \"character's hair\", \"character's eyes\", \"character's nose\", \"character's mouth\", \"character's teeth\", \"character's chin\", \"character's neck\", \"character's collar\"]\n",
      "File : 543.jpg.json successfully created!\n",
      "Successfully processed Image 543.jpg , 197/265 Images Processed\n",
      "Processing image 692.jpg\n",
      "['text', 'map', 'country name', 'distance measurement', 'icon', 'flag', 'number', 'letter', 'graphic', 'border']\n",
      "File : 692.jpg.json successfully created!\n",
      "Successfully processed Image 692.jpg , 198/265 Images Processed\n",
      "Processing image 563.jpg\n"
     ]
    },
    {
     "name": "stderr",
     "output_type": "stream",
     "text": [
      "Setting `pad_token_id` to `eos_token_id`:2 for open-end generation.\n",
      "Setting `pad_token_id` to `eos_token_id`:2 for open-end generation.\n"
     ]
    },
    {
     "name": "stdout",
     "output_type": "stream",
     "text": [
      "['pirate hat', 'sword', 'spear', 'water', 'sand', 'sky', 'clouds', 'people', 'shirt', 'pants']\n",
      "File : 563.jpg.json successfully created!\n",
      "Successfully processed Image 563.jpg , 199/265 Images Processed\n",
      "Processing image 765.jpg\n",
      "['hair', 'earring', 'watch', 'bracelet', 'ring', 'shirt', 'tie', 'chair', 'table', 'building']\n",
      "File : 765.jpg.json successfully created!\n",
      "Successfully processed Image 765.jpg , 200/265 Images Processed\n",
      "Processing image 533.jpg\n"
     ]
    },
    {
     "name": "stderr",
     "output_type": "stream",
     "text": [
      "Setting `pad_token_id` to `eos_token_id`:2 for open-end generation.\n"
     ]
    },
    {
     "name": "stdout",
     "output_type": "stream",
     "text": [
      "['mascot', 'character', 'headstands', 'pov', 'work', 'intrusive thoughts', 'mall', 'people', 'bicycle', 'mall entrance']\n",
      "File : 533.jpg.json successfully created!\n",
      "Successfully processed Image 533.jpg , 201/265 Images Processed\n",
      "Processing image 547.jpg\n"
     ]
    },
    {
     "name": "stderr",
     "output_type": "stream",
     "text": [
      "Setting `pad_token_id` to `eos_token_id`:2 for open-end generation.\n",
      "Setting `pad_token_id` to `eos_token_id`:2 for open-end generation.\n"
     ]
    },
    {
     "name": "stdout",
     "output_type": "stream",
     "text": [
      "['trees', 'sky', 'grass', 'pavement', 'building', 'car', 'trunk', 'leaves', 'fence', 'clouds']\n",
      "File : 547.jpg.json successfully created!\n",
      "Successfully processed Image 547.jpg , 202/265 Images Processed\n",
      "Processing image 623.png\n",
      "['car', 'door', 'window', 'tire', 'mirror', 'light', 'sign', 'pole', 'street', 'building']\n",
      "File : 623.png.json successfully created!\n",
      "Successfully processed Image 623.png , 203/265 Images Processed\n",
      "Processing image 596.jpg\n"
     ]
    },
    {
     "name": "stderr",
     "output_type": "stream",
     "text": [
      "Setting `pad_token_id` to `eos_token_id`:2 for open-end generation.\n",
      "Setting `pad_token_id` to `eos_token_id`:2 for open-end generation.\n"
     ]
    },
    {
     "name": "stdout",
     "output_type": "stream",
     "text": [
      "['man', 'soldier', 'flag', 'speech bubble', 'text', 'military uniform', 'tie', 'glasses', 'shirt', 'dirt']\n",
      "File : 596.jpg.json successfully created!\n",
      "Successfully processed Image 596.jpg , 204/265 Images Processed\n",
      "Processing image 550.png\n"
     ]
    },
    {
     "name": "stderr",
     "output_type": "stream",
     "text": [
      "Setting `pad_token_id` to `eos_token_id`:2 for open-end generation.\n"
     ]
    },
    {
     "name": "stdout",
     "output_type": "stream",
     "text": [
      "['water bottle', 'microphone', 'glass', 'curtain', 'table', 'bottle cap', 'glass of water', 'curtain rod', 'curtain panel', 'microphone stand']\n",
      "File : 550.png.json successfully created!\n",
      "Successfully processed Image 550.png , 205/265 Images Processed\n",
      "Processing image 555.png\n",
      "['waterfall', 'windmill', 'buildings', 'trees', 'people', 'train tracks', 'mountains', 'sky', 'clouds', 'grass']\n",
      "File : 555.png.json successfully created!\n",
      "Successfully processed Image 555.png , 206/265 Images Processed\n",
      "Processing image 674.jpg\n"
     ]
    },
    {
     "name": "stderr",
     "output_type": "stream",
     "text": [
      "Setting `pad_token_id` to `eos_token_id`:2 for open-end generation.\n"
     ]
    },
    {
     "name": "stdout",
     "output_type": "stream",
     "text": [
      "['sand', 'turtle', 'sign', 'microphone', \"man's hand\", \"woman's hand\", 'signature', 'logo', 'microphone stand', 'background']\n",
      "File : 674.jpg.json successfully created!\n",
      "Successfully processed Image 674.jpg , 207/265 Images Processed\n",
      "Processing image 729.jpg\n"
     ]
    },
    {
     "name": "stderr",
     "output_type": "stream",
     "text": [
      "Setting `pad_token_id` to `eos_token_id`:2 for open-end generation.\n",
      "Setting `pad_token_id` to `eos_token_id`:2 for open-end generation.\n"
     ]
    },
    {
     "name": "stdout",
     "output_type": "stream",
     "text": [
      "['man', 'suit', 'tie', 'hat', 'phone', 'paper', 'wall', 'door', 'glass', 'light']\n",
      "File : 729.jpg.json successfully created!\n",
      "Successfully processed Image 729.jpg , 208/265 Images Processed\n",
      "Processing image 716.png\n",
      "['fish', 'fishermen', 'hood', 'ha', 'after', 'trespassing', 'singapore', 'waters', 'meanwhile', 'coincidence']\n",
      "File : 716.png.json successfully created!\n",
      "Successfully processed Image 716.png , 209/265 Images Processed\n",
      "Processing image 608.jpg\n"
     ]
    },
    {
     "name": "stderr",
     "output_type": "stream",
     "text": [
      "Setting `pad_token_id` to `eos_token_id`:2 for open-end generation.\n"
     ]
    },
    {
     "name": "stdout",
     "output_type": "stream",
     "text": [
      "['person', 'dress', 'shirt', 'counter', 'mirror', 'vase', 'plant', 'chair', 'door', 'television']\n",
      "File : 608.jpg.json successfully created!\n",
      "Successfully processed Image 608.jpg , 210/265 Images Processed\n",
      "Processing image 722.png\n"
     ]
    },
    {
     "name": "stderr",
     "output_type": "stream",
     "text": [
      "Setting `pad_token_id` to `eos_token_id`:2 for open-end generation.\n",
      "Setting `pad_token_id` to `eos_token_id`:2 for open-end generation.\n"
     ]
    },
    {
     "name": "stdout",
     "output_type": "stream",
     "text": [
      "['cat', 'hat', 'cityscape', 'buildings', 'sky', 'clouds', 'sunset', 'orange', 'red', 'text']\n",
      "File : 722.png.json successfully created!\n",
      "Successfully processed Image 722.png , 211/265 Images Processed\n",
      "Processing image 527.jpg\n"
     ]
    },
    {
     "name": "stderr",
     "output_type": "stream",
     "text": [
      "Setting `pad_token_id` to `eos_token_id`:2 for open-end generation.\n"
     ]
    },
    {
     "name": "stdout",
     "output_type": "stream",
     "text": [
      "['character', 'tie', 'shirt', 'vest', 'door', 'wall', 'text', 'number', 'percentage', 'word']\n",
      "File : 527.jpg.json successfully created!\n",
      "Successfully processed Image 527.jpg , 212/265 Images Processed\n",
      "Processing image 594.jpg\n",
      "['man', 'suit', 'tie', 'microphone', 'audience', 'television screen', 'stage', 'lights', 'camera', 'seat']\n",
      "File : 594.jpg.json successfully created!\n",
      "Successfully processed Image 594.jpg , 213/265 Images Processed\n",
      "Processing image 611.png\n"
     ]
    },
    {
     "name": "stderr",
     "output_type": "stream",
     "text": [
      "Setting `pad_token_id` to `eos_token_id`:2 for open-end generation.\n",
      "Setting `pad_token_id` to `eos_token_id`:2 for open-end generation.\n"
     ]
    },
    {
     "name": "stdout",
     "output_type": "stream",
     "text": [
      "['microphone', 'shirt', 'tie', 'hair', 'ear', 'nose', 'mouth', 'chair', 'table', 'wall']\n",
      "File : 611.png.json successfully created!\n",
      "Successfully processed Image 611.png , 214/265 Images Processed\n",
      "Processing image 689.png\n",
      "[\"woman's hand\", \"cat's paw\", 'television screen', \"man's tie\", \"woman's earring\", 'salad on plate', 'glass on table', \"woman's hair\", \"cat's whiskers\", \"man's suit jacket\"]\n",
      "File : 689.png.json successfully created!\n",
      "Successfully processed Image 689.png , 215/265 Images Processed\n",
      "Processing image 662.jpg\n"
     ]
    },
    {
     "name": "stderr",
     "output_type": "stream",
     "text": [
      "Setting `pad_token_id` to `eos_token_id`:2 for open-end generation.\n"
     ]
    },
    {
     "name": "stdout",
     "output_type": "stream",
     "text": [
      "['map', 'logo', 'text', 'picture of people', 'graphic design', 'political party symbol', 'geographical location marker', 'political candidate name', 'political party name', 'political campaign slogan']\n",
      "File : 662.jpg.json successfully created!\n",
      "Successfully processed Image 662.jpg , 216/265 Images Processed\n",
      "Processing image 521.png\n"
     ]
    },
    {
     "name": "stderr",
     "output_type": "stream",
     "text": [
      "Setting `pad_token_id` to `eos_token_id`:2 for open-end generation.\n"
     ]
    },
    {
     "name": "stdout",
     "output_type": "stream",
     "text": [
      "['ostrich', 'feathers', 'sign', 'words', 'corruption', 'dirt', 'birds', 'red background', 'white text', 'ostrich legs']\n",
      "File : 521.png.json successfully created!\n",
      "Successfully processed Image 521.png , 217/265 Images Processed\n",
      "Processing image 625.png\n"
     ]
    },
    {
     "name": "stderr",
     "output_type": "stream",
     "text": [
      "Setting `pad_token_id` to `eos_token_id`:2 for open-end generation.\n",
      "Setting `pad_token_id` to `eos_token_id`:2 for open-end generation.\n"
     ]
    },
    {
     "name": "stdout",
     "output_type": "stream",
     "text": [
      "['cartoon character', 'cartoon character', 'cartoon character', 'cartoon character', 'cartoon character', 'cartoon character', 'cartoon character', 'cartoon character', 'cartoon character', 'cartoon character']\n",
      "File : 625.png.json successfully created!\n",
      "Successfully processed Image 625.png , 218/265 Images Processed\n",
      "Processing image 668.jpg\n"
     ]
    },
    {
     "name": "stderr",
     "output_type": "stream",
     "text": [
      "Setting `pad_token_id` to `eos_token_id`:2 for open-end generation.\n"
     ]
    },
    {
     "name": "stdout",
     "output_type": "stream",
     "text": [
      "['snail', 'turtle', 'internet explorer logo', 'pap, wp, dealing with scandals']\n",
      "File : 668.jpg.json successfully created!\n",
      "Successfully processed Image 668.jpg , 219/265 Images Processed\n",
      "Processing image 649.jpg\n",
      "['head', 'hair', 'forehead', 'eyebrow', 'eyelashes', 'eyebrow hair', 'eyelashes hair', 'eyeball', 'nose', 'mouth']\n",
      "File : 649.jpg.json successfully created!\n",
      "Successfully processed Image 649.jpg , 220/265 Images Processed\n",
      "Processing image 664.jpg\n"
     ]
    },
    {
     "name": "stderr",
     "output_type": "stream",
     "text": [
      "Setting `pad_token_id` to `eos_token_id`:2 for open-end generation.\n"
     ]
    },
    {
     "name": "stdout",
     "output_type": "stream",
     "text": [
      "['christmas tree', 'window', 'cityscape', 'watch', 'tie', 'sweater', 'shirt', 'smile', 'laugh', 'light']\n",
      "File : 664.jpg.json successfully created!\n",
      "Successfully processed Image 664.jpg , 221/265 Images Processed\n",
      "Processing image 657.jpg\n"
     ]
    },
    {
     "name": "stderr",
     "output_type": "stream",
     "text": [
      "Setting `pad_token_id` to `eos_token_id`:2 for open-end generation.\n",
      "Setting `pad_token_id` to `eos_token_id`:2 for open-end generation.\n"
     ]
    },
    {
     "name": "stdout",
     "output_type": "stream",
     "text": [
      "['text', 'people', 'suits', 'tie', 'smile', 'glasses', 'earring', 'hair', 'shirt', 'flag']\n",
      "File : 657.jpg.json successfully created!\n",
      "Successfully processed Image 657.jpg , 222/265 Images Processed\n",
      "Processing image 653.jpg\n"
     ]
    },
    {
     "name": "stderr",
     "output_type": "stream",
     "text": [
      "Setting `pad_token_id` to `eos_token_id`:2 for open-end generation.\n"
     ]
    },
    {
     "name": "stdout",
     "output_type": "stream",
     "text": [
      "['truck', 'man', 'ring', 'beard', 'hair', 'pipe', 'ring', 'truck', 'man', 'ring']\n",
      "File : 653.jpg.json successfully created!\n",
      "Successfully processed Image 653.jpg , 223/265 Images Processed\n",
      "Processing image 606.jpg\n"
     ]
    },
    {
     "name": "stderr",
     "output_type": "stream",
     "text": [
      "Setting `pad_token_id` to `eos_token_id`:2 for open-end generation.\n"
     ]
    },
    {
     "name": "stdout",
     "output_type": "stream",
     "text": [
      "['speaker', 'tan', 'chuan-jin', 'mp', 'cheng li hui', 'affair', 'parliament', 'palmer', 'resigns', 'extramarital']\n",
      "File : 606.jpg.json successfully created!\n",
      "Successfully processed Image 606.jpg , 224/265 Images Processed\n",
      "Processing image 749.jpg\n",
      "['man', 'microphone', 'podium', 'television screen', 'logo', 'text', 'grass', 'hill', 'sky', 'trees']\n",
      "File : 749.jpg.json successfully created!\n",
      "Successfully processed Image 749.jpg , 225/265 Images Processed\n",
      "Processing image 737.jpg\n"
     ]
    },
    {
     "name": "stderr",
     "output_type": "stream",
     "text": [
      "Setting `pad_token_id` to `eos_token_id`:2 for open-end generation.\n"
     ]
    },
    {
     "name": "stdout",
     "output_type": "stream",
     "text": [
      "['orange jumpsuit', 'white wall', 'door', 'window', 'bar', 'hair', 'ear', 'nose', 'mouth', 'tattoo']\n",
      "File : 737.jpg.json successfully created!\n",
      "Successfully processed Image 737.jpg , 226/265 Images Processed\n",
      "Processing image 727.png\n"
     ]
    },
    {
     "name": "stderr",
     "output_type": "stream",
     "text": [
      "Setting `pad_token_id` to `eos_token_id`:2 for open-end generation.\n",
      "Setting `pad_token_id` to `eos_token_id`:2 for open-end generation.\n"
     ]
    },
    {
     "name": "stdout",
     "output_type": "stream",
     "text": [
      "['microphone', 'suit', 'tie', 'hair', 'ear', 'nose', 'mouth', 'eyes', 'chair', 'desk']\n",
      "File : 727.png.json successfully created!\n",
      "Successfully processed Image 727.png , 227/265 Images Processed\n",
      "Processing image 529.jpg\n",
      "['keyboard', 'hat', 'gun', 'uniform', 'glasses', 'ear', 'mouth', 'nose', 'elbow', 'shoulder']\n",
      "File : 529.jpg.json successfully created!\n",
      "Successfully processed Image 529.jpg , 228/265 Images Processed\n",
      "Processing image 567.jpg\n"
     ]
    },
    {
     "name": "stderr",
     "output_type": "stream",
     "text": [
      "Setting `pad_token_id` to `eos_token_id`:2 for open-end generation.\n"
     ]
    },
    {
     "name": "stdout",
     "output_type": "stream",
     "text": [
      "['man', 'hat', 'glasses', 'suit', 'tie', 'beard', 'microphone', 'screen', 'text', 'bar']\n",
      "File : 567.jpg.json successfully created!\n",
      "Successfully processed Image 567.jpg , 229/265 Images Processed\n",
      "Processing image 659.jpg\n"
     ]
    },
    {
     "name": "stderr",
     "output_type": "stream",
     "text": [
      "Setting `pad_token_id` to `eos_token_id`:2 for open-end generation.\n"
     ]
    },
    {
     "name": "stdout",
     "output_type": "stream",
     "text": [
      "['desk', 'chair', 'monitor', 'keyboard', 'mouse', 'bookshelf', 'books', 'picture frame', 'curtain', 'office chair']\n",
      "File : 659.jpg.json successfully created!\n",
      "Successfully processed Image 659.jpg , 230/265 Images Processed\n",
      "Processing image 717.png\n"
     ]
    },
    {
     "name": "stderr",
     "output_type": "stream",
     "text": [
      "Setting `pad_token_id` to `eos_token_id`:2 for open-end generation.\n",
      "Setting `pad_token_id` to `eos_token_id`:2 for open-end generation.\n"
     ]
    },
    {
     "name": "stdout",
     "output_type": "stream",
     "text": [
      "['chalk', 'eraser', 'blackboard', 'pencil', 'book', 'desk', 'chair', 'light bulb', 'paintbrush', 'ruler']\n",
      "File : 717.png.json successfully created!\n",
      "Successfully processed Image 717.png , 231/265 Images Processed\n",
      "Processing image 537.jpg\n"
     ]
    },
    {
     "name": "stderr",
     "output_type": "stream",
     "text": [
      "Setting `pad_token_id` to `eos_token_id`:2 for open-end generation.\n"
     ]
    },
    {
     "name": "stdout",
     "output_type": "stream",
     "text": [
      "['bicycle', 'road', 'grass', 'lodges', 'police report', 'hit', 'run', 'culprit', 'driver', 'lodges police report']\n",
      "File : 537.jpg.json successfully created!\n",
      "Successfully processed Image 537.jpg , 232/265 Images Processed\n",
      "Processing image 710.png\n"
     ]
    },
    {
     "name": "stderr",
     "output_type": "stream",
     "text": [
      "Setting `pad_token_id` to `eos_token_id`:2 for open-end generation.\n"
     ]
    },
    {
     "name": "stdout",
     "output_type": "stream",
     "text": [
      "['hair', 'earring', 'scarf', 'collar', 'necklace', 'gown', 'crown', 'mask', 'glove', 'cloak']\n",
      "File : 710.png.json successfully created!\n",
      "Successfully processed Image 710.png , 233/265 Images Processed\n",
      "Processing image 738.jpg\n"
     ]
    },
    {
     "name": "stderr",
     "output_type": "stream",
     "text": [
      "Setting `pad_token_id` to `eos_token_id`:2 for open-end generation.\n"
     ]
    },
    {
     "name": "stdout",
     "output_type": "stream",
     "text": [
      "['knife', 'finger', 'pen', 'cases', 'deaths', 'balance', 'thing', 'should', 'be', 'marvel']\n",
      "File : 738.jpg.json successfully created!\n",
      "Successfully processed Image 738.jpg , 234/265 Images Processed\n",
      "Processing image 714.png\n"
     ]
    },
    {
     "name": "stderr",
     "output_type": "stream",
     "text": [
      "Setting `pad_token_id` to `eos_token_id`:2 for open-end generation.\n"
     ]
    },
    {
     "name": "stdout",
     "output_type": "stream",
     "text": [
      "['ceiling light', 'shelf', 'paper', 'glasses', 'shirt', 'sweater', 'tie', 'watch', 'pen', 'paperclip']\n",
      "File : 714.png.json successfully created!\n",
      "Successfully processed Image 714.png , 235/265 Images Processed\n",
      "Processing image 577.jpg\n"
     ]
    },
    {
     "name": "stderr",
     "output_type": "stream",
     "text": [
      "Setting `pad_token_id` to `eos_token_id`:2 for open-end generation.\n"
     ]
    },
    {
     "name": "stdout",
     "output_type": "stream",
     "text": [
      "['man', 'glasses', 'suit', 'tie', 'shirt', 'couch', 'plant', 'vase', 'books', 'horse figurine']\n",
      "File : 577.jpg.json successfully created!\n",
      "Successfully processed Image 577.jpg , 236/265 Images Processed\n",
      "Processing image 735.jpg\n",
      "['sword', 'wall', 'gloves', 'costume', 'light', 'pants', 'shoes', 'hair', 'eyes', 'mouth']\n",
      "File : 735.jpg.json successfully created!\n",
      "Successfully processed Image 735.jpg , 237/265 Images Processed\n",
      "Processing image 667.png\n"
     ]
    },
    {
     "name": "stderr",
     "output_type": "stream",
     "text": [
      "Setting `pad_token_id` to `eos_token_id`:2 for open-end generation.\n"
     ]
    },
    {
     "name": "stdout",
     "output_type": "stream",
     "text": [
      "['cat', 'text', 'picture frame', 'hair', 'record', 'president', 'independence', 'talking', 'hopefuls', 'record']\n",
      "File : 667.png.json successfully created!\n",
      "Successfully processed Image 667.png , 238/265 Images Processed\n",
      "Processing image 726.png\n"
     ]
    },
    {
     "name": "stderr",
     "output_type": "stream",
     "text": [
      "Setting `pad_token_id` to `eos_token_id`:2 for open-end generation.\n"
     ]
    },
    {
     "name": "stdout",
     "output_type": "stream",
     "text": [
      "['man', 'car', 'phone', 'text', 'cross', 'word', 'image', 'red line', 'letter', 'number']\n",
      "File : 726.png.json successfully created!\n",
      "Successfully processed Image 726.png , 239/265 Images Processed\n",
      "Processing image 709.png\n"
     ]
    },
    {
     "name": "stderr",
     "output_type": "stream",
     "text": [
      "Setting `pad_token_id` to `eos_token_id`:2 for open-end generation.\n",
      "Setting `pad_token_id` to `eos_token_id`:2 for open-end generation.\n"
     ]
    },
    {
     "name": "stdout",
     "output_type": "stream",
     "text": [
      "['spider-man costume', 'hat', 'jacket', 'shirt', 'pants', 'shoes', 'tie', 'watch', 'ring', 'glasses']\n",
      "File : 709.png.json successfully created!\n",
      "Successfully processed Image 709.png , 240/265 Images Processed\n",
      "Processing image 676.jpg\n",
      "['man', 'glasses', 'shirt', 'tie', 'microphone', 'paper', 'wall', 'stripes', 'television', 'text']\n",
      "File : 676.jpg.json successfully created!\n",
      "Successfully processed Image 676.jpg , 241/265 Images Processed\n",
      "Processing image 505.jpg\n"
     ]
    },
    {
     "name": "stderr",
     "output_type": "stream",
     "text": [
      "Setting `pad_token_id` to `eos_token_id`:2 for open-end generation.\n"
     ]
    },
    {
     "name": "stdout",
     "output_type": "stream",
     "text": [
      "['man', 'hand', 'hair', 'eyes', 'nose', 'mouth', 'sweater', 'shirt', 'squinting', 'text']\n",
      "File : 505.jpg.json successfully created!\n",
      "Successfully processed Image 505.jpg , 242/265 Images Processed\n",
      "Processing image 570.jpg\n"
     ]
    },
    {
     "name": "stderr",
     "output_type": "stream",
     "text": [
      "Setting `pad_token_id` to `eos_token_id`:2 for open-end generation.\n",
      "Setting `pad_token_id` to `eos_token_id`:2 for open-end generation.\n"
     ]
    },
    {
     "name": "stdout",
     "output_type": "stream",
     "text": [
      "['knife', 'bamboo', 'ring', 'finger', 'wall', 'door', 'curtain', 'floor', 'person', 'logo']\n",
      "File : 570.jpg.json successfully created!\n",
      "Successfully processed Image 570.jpg , 243/265 Images Processed\n",
      "Processing image 593.jpg\n",
      "['man', 'woman', 'gun', 'screen', 'door', 'robot', 'laser', 'number', 'date', 'text']\n",
      "File : 593.jpg.json successfully created!\n",
      "Successfully processed Image 593.jpg , 244/265 Images Processed\n",
      "Processing image 607.png\n"
     ]
    },
    {
     "name": "stderr",
     "output_type": "stream",
     "text": [
      "Setting `pad_token_id` to `eos_token_id`:2 for open-end generation.\n",
      "Setting `pad_token_id` to `eos_token_id`:2 for open-end generation.\n"
     ]
    },
    {
     "name": "stdout",
     "output_type": "stream",
     "text": [
      "['doorway', 'door', 'man', 'mask', 'shirt', 'pants', 'shoes', 'hallway', 'railing', 'stairs']\n",
      "File : 607.png.json successfully created!\n",
      "Successfully processed Image 607.png , 245/265 Images Processed\n",
      "Processing image 602.jpg\n"
     ]
    },
    {
     "name": "stderr",
     "output_type": "stream",
     "text": [
      "Setting `pad_token_id` to `eos_token_id`:2 for open-end generation.\n"
     ]
    },
    {
     "name": "stdout",
     "output_type": "stream",
     "text": [
      "['hair', 'eyes', 'nose', 'mouth', 'ear', 'hand', 'suit', 'tie', 'collar', 'curtain']\n",
      "File : 602.jpg.json successfully created!\n",
      "Successfully processed Image 602.jpg , 246/265 Images Processed\n",
      "Processing image 642.jpg\n"
     ]
    },
    {
     "name": "stderr",
     "output_type": "stream",
     "text": [
      "Setting `pad_token_id` to `eos_token_id`:2 for open-end generation.\n"
     ]
    },
    {
     "name": "stdout",
     "output_type": "stream",
     "text": [
      "['man', 'shirt', 'tie', 'hair', 'glasses', 'phone', 'screen', 'text', 'social media', 'post']\n",
      "File : 642.jpg.json successfully created!\n",
      "Successfully processed Image 642.jpg , 247/265 Images Processed\n",
      "Processing image 562.jpg\n",
      "['pantone 442 c', 'man', 'hoodie', 'beard', 'hand', 'finger', 'mouth', 'nose', 'ear', 'eye']\n",
      "File : 562.jpg.json successfully created!\n",
      "Successfully processed Image 562.jpg , 248/265 Images Processed\n",
      "Processing image 580.jpg\n"
     ]
    },
    {
     "name": "stderr",
     "output_type": "stream",
     "text": [
      "Setting `pad_token_id` to `eos_token_id`:2 for open-end generation.\n"
     ]
    },
    {
     "name": "stdout",
     "output_type": "stream",
     "text": [
      "['sponge', 'tree', 'grass', 'sky', 'clouds', 'flowers', 'squid', 'starfish', 'coral', 'grass']\n",
      "File : 580.jpg.json successfully created!\n",
      "Successfully processed Image 580.jpg , 249/265 Images Processed\n",
      "Processing image 624.jpg\n"
     ]
    },
    {
     "name": "stderr",
     "output_type": "stream",
     "text": [
      "Setting `pad_token_id` to `eos_token_id`:2 for open-end generation.\n",
      "Setting `pad_token_id` to `eos_token_id`:2 for open-end generation.\n"
     ]
    },
    {
     "name": "stdout",
     "output_type": "stream",
     "text": [
      "['water', 'cityscape', 'sky', 'clouds', 'buildings', 'watch', 'ring', 'pants', 'shirt', 'suit']\n",
      "File : 624.jpg.json successfully created!\n",
      "Successfully processed Image 624.jpg , 250/265 Images Processed\n",
      "Processing image 695.jpg\n"
     ]
    },
    {
     "name": "stderr",
     "output_type": "stream",
     "text": [
      "Setting `pad_token_id` to `eos_token_id`:2 for open-end generation.\n"
     ]
    },
    {
     "name": "stdout",
     "output_type": "stream",
     "text": [
      "['car', 'motorcycle', 'traffic light', 'road', 'trees', 'sky', 'buildings', 'people', 'antenna', 'sign']\n",
      "File : 695.jpg.json successfully created!\n",
      "Successfully processed Image 695.jpg , 251/265 Images Processed\n",
      "Processing image 723.png\n"
     ]
    },
    {
     "name": "stderr",
     "output_type": "stream",
     "text": [
      "Setting `pad_token_id` to `eos_token_id`:2 for open-end generation.\n"
     ]
    },
    {
     "name": "stdout",
     "output_type": "stream",
     "text": [
      "['wig', 'collar', 'tie', 'glasses', 'suit', 'shirt', 'microphone', 'lights', 'curtain', 'door']\n",
      "File : 723.png.json successfully created!\n",
      "Successfully processed Image 723.png , 252/265 Images Processed\n",
      "Processing image 713.png\n"
     ]
    },
    {
     "name": "stderr",
     "output_type": "stream",
     "text": [
      "Setting `pad_token_id` to `eos_token_id`:2 for open-end generation.\n"
     ]
    },
    {
     "name": "stdout",
     "output_type": "stream",
     "text": [
      "['hat', 'mask', 'suit', 'tie', 'button', 'jacket', 'shirt', 'pants', 'glove', 'sunglasses']\n",
      "File : 713.png.json successfully created!\n",
      "Successfully processed Image 713.png , 253/265 Images Processed\n",
      "Processing image 591.jpg\n",
      "['chessboard', 'chess pieces', 'figure of a person', 'figure of a person', 'figure of a person', 'figure of a person', 'figure of a person', 'figure of a person', 'figure of a person', 'figure of a person']\n",
      "File : 591.jpg.json successfully created!\n",
      "Successfully processed Image 591.jpg , 254/265 Images Processed\n",
      "Processing image 620.png\n"
     ]
    },
    {
     "name": "stderr",
     "output_type": "stream",
     "text": [
      "Setting `pad_token_id` to `eos_token_id`:2 for open-end generation.\n",
      "Setting `pad_token_id` to `eos_token_id`:2 for open-end generation.\n"
     ]
    },
    {
     "name": "stdout",
     "output_type": "stream",
     "text": [
      "['microphone', 'television screen', \"woman's red dress\", 'audience', 'stage', 'camera', 'lights', 'screen', \"woman's hair\", 'watch']\n",
      "File : 620.png.json successfully created!\n",
      "Successfully processed Image 620.png , 255/265 Images Processed\n",
      "Processing image 613.png\n"
     ]
    },
    {
     "name": "stderr",
     "output_type": "stream",
     "text": [
      "Setting `pad_token_id` to `eos_token_id`:2 for open-end generation.\n"
     ]
    },
    {
     "name": "stdout",
     "output_type": "stream",
     "text": [
      "['text', 'circle', 'arrow', 'color', 'word', 'red', 'blue', 'populist', 'fucking', 'problem']\n",
      "File : 613.png.json successfully created!\n",
      "Successfully processed Image 613.png , 256/265 Images Processed\n",
      "Processing image 540.jpg\n"
     ]
    },
    {
     "name": "stderr",
     "output_type": "stream",
     "text": [
      "Setting `pad_token_id` to `eos_token_id`:2 for open-end generation.\n"
     ]
    },
    {
     "name": "stdout",
     "output_type": "stream",
     "text": [
      "['desk', 'chair', 'paper', 'pen', 'glasses', 'money', 'paper note', 'pencil', 'book', 'person']\n",
      "File : 540.jpg.json successfully created!\n",
      "Successfully processed Image 540.jpg , 257/265 Images Processed\n",
      "Processing image 530.jpg\n"
     ]
    },
    {
     "name": "stderr",
     "output_type": "stream",
     "text": [
      "Setting `pad_token_id` to `eos_token_id`:2 for open-end generation.\n"
     ]
    },
    {
     "name": "stdout",
     "output_type": "stream",
     "text": [
      "['man in white shirt', 'man in black suit', 'man in black jacket', 'man in white shirt and tie', 'man in black jacket and tie', 'man in white shirt and black pants', 'man in black jacket and black pants', 'man in white shirt and blue jeans', 'man in black jacket and blue jeans', 'man in white shirt and black shoes']\n",
      "File : 530.jpg.json successfully created!\n",
      "Successfully processed Image 530.jpg , 258/265 Images Processed\n",
      "Processing image 645.jpg\n"
     ]
    },
    {
     "name": "stderr",
     "output_type": "stream",
     "text": [
      "Setting `pad_token_id` to `eos_token_id`:2 for open-end generation.\n"
     ]
    },
    {
     "name": "stdout",
     "output_type": "stream",
     "text": [
      "['man', 'shirt', 'pants', 'glasses', 'belt', 'shoes', 'flag', 'stadium', 'grass', 'sky']\n",
      "File : 645.jpg.json successfully created!\n",
      "Successfully processed Image 645.jpg , 259/265 Images Processed\n",
      "Processing image 678.jpg\n"
     ]
    },
    {
     "name": "stderr",
     "output_type": "stream",
     "text": [
      "Setting `pad_token_id` to `eos_token_id`:2 for open-end generation.\n"
     ]
    },
    {
     "name": "stdout",
     "output_type": "stream",
     "text": [
      "['paintbrush', 'canvas', 'paint', 'artwork', 'muscle', 'skin', 'veins', 'arms', 'fingers', 'shirt']\n",
      "File : 678.jpg.json successfully created!\n",
      "Successfully processed Image 678.jpg , 260/265 Images Processed\n",
      "Processing image 523.jpg\n",
      "['spongebob squarepants', 'patrick star', 'sandy cheeks', 'mr. krabs', 'plankton', 'squidward tentacles', 'krabby patty', 'pineapple', 'krusty krab', 'jellyfish']\n",
      "File : 523.jpg.json successfully created!\n",
      "Successfully processed Image 523.jpg , 261/265 Images Processed\n",
      "Processing image 552.jpg\n"
     ]
    },
    {
     "name": "stderr",
     "output_type": "stream",
     "text": [
      "Setting `pad_token_id` to `eos_token_id`:2 for open-end generation.\n",
      "Setting `pad_token_id` to `eos_token_id`:2 for open-end generation.\n"
     ]
    },
    {
     "name": "stdout",
     "output_type": "stream",
     "text": [
      "['microphone', 'suit', 'tie', 'watch', 'ring', 'glasses', 'shirt', 'vest', 'jacket', 'seat']\n",
      "File : 552.jpg.json successfully created!\n",
      "Successfully processed Image 552.jpg , 262/265 Images Processed\n",
      "Processing image 658.jpg\n"
     ]
    },
    {
     "name": "stderr",
     "output_type": "stream",
     "text": [
      "Setting `pad_token_id` to `eos_token_id`:2 for open-end generation.\n"
     ]
    },
    {
     "name": "stdout",
     "output_type": "stream",
     "text": [
      "['man', 'jacket', 'hand', 'mouth', 'beard', 'ear', 'nose', 'eye', 'hair', 'collar']\n",
      "File : 658.jpg.json successfully created!\n",
      "Successfully processed Image 658.jpg , 263/265 Images Processed\n",
      "Processing image 719.png\n",
      "['man', 'beard', 'glasses', 'shirt', 'jacket', 'hair', 'mustache', 'blurred background', 'lighting', 'text']\n",
      "File : 719.png.json successfully created!\n",
      "Successfully processed Image 719.png , 264/265 Images Processed\n",
      "Processing image 579.jpg\n"
     ]
    },
    {
     "name": "stderr",
     "output_type": "stream",
     "text": [
      "Setting `pad_token_id` to `eos_token_id`:2 for open-end generation.\n"
     ]
    },
    {
     "name": "stdout",
     "output_type": "stream",
     "text": [
      "['trees', 'sky', 'leaves', 'clouds', 'grass', 'trunk', 'jacket', 'hair', 'beard', 'shirt']\n",
      "File : 579.jpg.json successfully created!\n",
      "Successfully processed Image 579.jpg , 265/265 Images Processed\n",
      "All 265 have been processed.\n"
     ]
    }
   ],
   "source": [
    "import re\n",
    "# Path to the directory (library)\n",
    "directory_path = \"/home/jovyan/images\"\n",
    "# List all files in the directory\n",
    "files = os.listdir(directory_path)\n",
    "\n",
    "# Filter out directories and show only files\n",
    "files = [file for file in files if os.path.isfile(os.path.join(directory_path, file))]\n",
    "\n",
    "# Print the list of files\n",
    "for index, file in enumerate(files):\n",
    "    # Optimize memory usage \n",
    "    torch.cuda.empty_cache()\n",
    "    print(f\"Processing image {file}\")\n",
    "    \n",
    "    image_path = os.path.join(directory_path, file)\n",
    "    image = Image.open(image_path)\n",
    "\n",
    "    # Prompt for the Llava-hf\n",
    "    prompt = \"\"\"Analyze the given image and identify 10 objects in the image.\n",
    "    Provide a unique , non-repetitive list of detected objects,\n",
    "    ensuring each object is named using commonly understood terms.\n",
    "    Avoid unnecessary descriptions—only list object names. \n",
    "    Example objects include 'chair,' 'table,' 'car,' 'tree,' and 'cup.'\n",
    "    If an object is unclear, do not list it. \n",
    "    Do not list duplicate objects, even if multiple instances exist.\"\"\"\n",
    "    \n",
    "    prompt = f\"\"\"Detect 10 the objects in the image, ensure the answers are short and concise.\n",
    "    Do not include fullstops.\"\"\"\n",
    "    \n",
    "    conversation = [\n",
    "        {\n",
    "\n",
    "          \"role\": \"user\",\n",
    "          \"content\": [\n",
    "              {\"type\": \"text\", \"text\": \"Detect 10 simple and generic objects in the image, ensure the answers are short and concise. Do not include fullstops.Do not repeat the listed objects. If there are no other objects found, do not list anymore.\"},\n",
    "              {\"type\": \"image\"},\n",
    "            ],\n",
    "        },\n",
    "    ]\n",
    "    prompt = processor.apply_chat_template(conversation, add_generation_prompt=True)\n",
    "\n",
    "    inputs = processor(images=image, text=prompt, return_tensors=\"pt\").to(\"cuda:0\")\n",
    "\n",
    "    # autoregressively complete prompt\n",
    "    output = model.generate(**inputs, max_new_tokens=500)\n",
    "\n",
    "    answer = processor.decode(output[0], skip_special_tokens=True)\n",
    "    # Attains only the output and don't include the prompt \n",
    "    skip = len(prompt) - 6 \n",
    "    answer = answer[skip:]\n",
    "    \n",
    "    # Converts all the text into lower caps.\n",
    "    answer = answer.lower()\n",
    "    # Removes the numbering \n",
    "    cleaned_text = re.sub(r'^\\d+\\.\\s*', '', answer, flags=re.MULTILINE)\n",
    "    labels_list = cleaned_text.strip('1. ').split('\\n')\n",
    "    # To save the labels in a list \n",
    "    print(labels_list)\n",
    "    save_labels(labels_list,file)\n",
    "    \n",
    "    print(f\"Successfully processed Image {file} , {index+1}/{len(files)} Images Processed\")\n",
    "     \n",
    "    \n",
    "print(f\"All {len(files)} have been processed.\")"
   ]
  },
  {
   "cell_type": "code",
   "execution_count": null,
   "id": "ff5a45ce",
   "metadata": {},
   "outputs": [],
   "source": []
  }
 ],
 "metadata": {
  "kernelspec": {
   "display_name": "Python (myenv)",
   "language": "python",
   "name": "myenv"
  },
  "language_info": {
   "codemirror_mode": {
    "name": "ipython",
    "version": 3
   },
   "file_extension": ".py",
   "mimetype": "text/x-python",
   "name": "python",
   "nbconvert_exporter": "python",
   "pygments_lexer": "ipython3",
   "version": "3.10.12"
  }
 },
 "nbformat": 4,
 "nbformat_minor": 5
}
