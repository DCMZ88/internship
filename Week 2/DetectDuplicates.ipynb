{
 "cells": [
  {
   "cell_type": "code",
   "execution_count": null,
   "metadata": {},
   "outputs": [],
   "source": [
    "# To filter out duplicates"
   ]
  },
  {
   "cell_type": "code",
   "execution_count": null,
   "metadata": {},
   "outputs": [],
   "source": [
    "import os\n",
    "from PIL import Image\n",
    "import imagehash\n",
    "import shutil\n",
    "import cv2\n",
    "# Loads Images \n",
    "def load_images_from_folder(folder_path):\n",
    "    images = []\n",
    "    file_names = []\n",
    "    # Goes through each file in the folder \n",
    "    for filename in os.listdir(folder_path):\n",
    "        # Check if the file is an image\n",
    "        if filename.endswith(('.png', '.jpg', '.jpeg', '.bmp', '.gif')):\n",
    "            image_path = os.path.join(folder_path, filename)\n",
    "            try:\n",
    "                # Records the file name (i.e 544.jpg)\n",
    "                image = Image.open(image_path)\n",
    "                images.append(image)\n",
    "                file_names.append(filename)\n",
    "            except Exception as e:\n",
    "                print(f\"Failed to load image {filename}: {e}\")\n",
    "    return images, file_names\n",
    "\n",
    "def find_duplicate_images(folder_path, output_folder):\n",
    "    # Load images and filenames\n",
    "    images, file_names = load_images_from_folder(folder_path)\n",
    "    # Dictionary to store hashes and corresponding file names\n",
    "    image_hashes = {}\n",
    "    duplicates = []\n",
    "\n",
    "    for image, file_name in zip(images, file_names):\n",
    "        # Generate pHash for each image\n",
    "        hash_value = imagehash.phash(image)\n",
    "        # If image's hash value corresponds to another image's hash value\n",
    "        # then record duplicate , else records the images hash_value in images_hashes\n",
    "        if hash_value in image_hashes:\n",
    "            # Records duplicates\n",
    "            duplicates.append(file_name)\n",
    "            print(f\"Duplicate found: {file_name} and {image_hashes[hash_value]}\")\n",
    "        else:\n",
    "            image_hashes[hash_value] = file_name\n",
    "    print(f'Duplicates: {duplicates}')\n",
    "    # Move duplicates to the output folder\n",
    "    # Makes folder if it doesn't exist\n",
    "    if not os.path.exists(output_folder):\n",
    "        os.makedirs(output_folder)\n",
    "\n",
    "    for duplicate in duplicates:\n",
    "        shutil.move(os.path.join(folder_path, duplicate), os.path.join(output_folder, duplicate))\n",
    "\n",
    "    print(f\"Moved {len(duplicates)} duplicate images to {output_folder}\")\n"
   ]
  },
  {
   "cell_type": "code",
   "execution_count": null,
   "metadata": {},
   "outputs": [],
   "source": [
    "\n",
    "# Define the folder paths\n",
    "folder_path = 'input_folder'\n",
    "output_folder = 'Duplicates'\n",
    "\n",
    "# Find and filter out duplicate images\n",
    "find_duplicate_images(folder_path, output_folder)\n"
   ]
  }
 ],
 "metadata": {
  "kernelspec": {
   "display_name": ".venv",
   "language": "python",
   "name": "python3"
  },
  "language_info": {
   "codemirror_mode": {
    "name": "ipython",
    "version": 3
   },
   "file_extension": ".py",
   "mimetype": "text/x-python",
   "name": "python",
   "nbconvert_exporter": "python",
   "pygments_lexer": "ipython3",
   "version": "3.12.1"
  }
 },
 "nbformat": 4,
 "nbformat_minor": 2
}
