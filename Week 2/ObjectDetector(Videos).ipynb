{
 "cells": [
  {
   "cell_type": "code",
   "execution_count": null,
   "id": "2bd7f5bb",
   "metadata": {},
   "outputs": [],
   "source": [
    "# For singular videos "
   ]
  },
  {
   "cell_type": "code",
   "execution_count": null,
   "id": "9bf6f85d-50af-41d8-8866-9b4390c6fdb8",
   "metadata": {
    "tags": []
   },
   "outputs": [],
   "source": [
    "from transformers import pipeline \n",
    "from PIL import Image,ImageDraw, ImageFont\n",
    "import requests\n",
    "from IPython.display import display\n",
    "import cv2 \n",
    "import numpy as np\n",
    "import sys\n",
    "import os\n",
    "import torch\n",
    "import shutil\n",
    "\n",
    "# Load Object-Detection Model\n",
    "model = pipeline(model=\"hustvl/yolos-tiny\")"
   ]
  },
  {
   "cell_type": "code",
   "execution_count": null,
   "id": "84e83f9e-4025-43bf-a0a5-971e66a64c4d",
   "metadata": {
    "tags": []
   },
   "outputs": [],
   "source": [
    "# For deleting folders\n",
    "def delete_folder(folder_path):\n",
    "    if os.path.exists(folder_path) and os.path.isdir(folder_path):\n",
    "        shutil.rmtree(folder_path)\n",
    "        print(f\"Folder '{folder_path}' has been deleted successfully.\")\n",
    "    else:\n",
    "        print(f\"Error: Folder '{folder_path}' does not exist.\")\n",
    "\n",
    "# Example usage\n",
    "delete_folder('output_frames')\n",
    "delete_folder('human')\n",
    "delete_folder('nothuman')\n"
   ]
  },
  {
   "cell_type": "code",
   "execution_count": null,
   "id": "49a8b140-f0c8-4d9f-a3ba-4bb3f0f3ab9b",
   "metadata": {
    "tags": []
   },
   "outputs": [],
   "source": [
    "# Video capture\n",
    "cap = cv2.VideoCapture(\"test.mp4\")\n",
    "\n",
    "# Creates Output folder for saving frames\n",
    "output_folder = \"output_frames\"\n",
    "os.makedirs(output_folder, exist_ok=True)\n",
    "# Labels\n",
    "frame_count = 0\n",
    "\n",
    "while True:\n",
    "    # Reads each frame \n",
    "    success, img = cap.read()\n",
    "    if not success:\n",
    "        break  # Break out of the loop if there are no more frames to read\n",
    "\n",
    "    # Save the current frame as an image to output folder\n",
    "    output_path = os.path.join(output_folder, f\"frame_{frame_count:06d}.jpg\")\n",
    "    cv2.imwrite(output_path, img)\n",
    "    \n",
    "    frame_count += 1\n",
    "\n",
    "# Release video capture\n",
    "cap.release()\n",
    "# Number of frames in the video\n",
    "print(f\"Total frames saved: {frame_count}\")\n"
   ]
  },
  {
   "cell_type": "code",
   "execution_count": null,
   "id": "b4bcdbd8-5e16-4be9-9307-71b2691d8ce8",
   "metadata": {
    "tags": []
   },
   "outputs": [],
   "source": [
    "# Loads the images\n",
    "def load_images_from_folder(folder_path):\n",
    "    images = []\n",
    "    file_name = []\n",
    "    # Goes through the folder\n",
    "    for filename in os.listdir(folder_path):\n",
    "        # If the file is an image\n",
    "        if filename.endswith(('.png', '.jpg', '.jpeg', '.bmp', '.gif')):  # Add any other image file extensions you need\n",
    "            image_path = os.path.join(folder_path, filename)\n",
    "            try:\n",
    "                image = Image.open(image_path)\n",
    "                # Adds the image to the images list \n",
    "                images.append(image)\n",
    "                # Records the file-name loaded\n",
    "                file_name.append(filename)\n",
    "            except Exception as e:\n",
    "                print(f\"Failed to load image {filename}: {e}\")\n",
    "    return images, file_name\n",
    "\n",
    "# Split list into chunks to ensure processor doesnt crash\n",
    "def chunk_list(lst, chunk_size):\n",
    "    for i in range(0, len(lst), chunk_size):\n",
    "        yield lst[i:i + chunk_size]\n",
    "\n",
    "# Ensure output directories exist\n",
    "if not os.path.exists('human'):\n",
    "    # Makes directories if it doesn't exist \n",
    "    os.makedirs('human')\n",
    "if not os.path.exists('nothuman'):\n",
    "    os.makedirs('nothuman')\n",
    "# Folder path of the images\n",
    "folder_path = '/home/jovyan/output_frames'\n",
    "# Loads the images to a list \n",
    "loaded_images,file_name = load_images_from_folder(folder_path)"
   ]
  },
  {
   "cell_type": "code",
   "execution_count": null,
   "id": "bed1ce1b-309f-4460-a658-b48792076aa1",
   "metadata": {
    "tags": []
   },
   "outputs": [],
   "source": [
    "# Process images in batches\n",
    "chunk_size = 50\n",
    "index = 0\n",
    "# Loops for every 50 images\n",
    "for i, image_chunk in enumerate(chunk_list(loaded_images, chunk_size)):\n",
    "    print(f\"Processing batch {i + 1}\")\n",
    "    # Sends 50 images to the AI model to process\n",
    "    detections = model(image_chunk)\n",
    "    # For each image\n",
    "    for j in range(len(image_chunk)):       \n",
    "        success = False\n",
    "        while index < len(file_name):\n",
    "            # Determines the original image path\n",
    "            filename = file_name[index]\n",
    "            image_path = os.path.join(folder_path, filename)\n",
    "            if os.path.isdir(image_path):  # Skip directories\n",
    "                index += 1\n",
    "                continue\n",
    "            image = Image.open(image_path)\n",
    "            image = cv2.imread(image_path, cv2.IMREAD_COLOR)\n",
    "            # Loops through labels\n",
    "            for detection in detections[j]:\n",
    "                # If a person is detected in the image, record image as success\n",
    "                if detection['score'] > 0.9 and detection['label'] == \"person\":\n",
    "                    success = True\n",
    "            # Outputs the image to either human or nothuman directory \n",
    "            if not success:\n",
    "                output_path = f'nothuman/{filename}'\n",
    "            else:\n",
    "                output_path = f'human/{filename}'\n",
    "            outcome = cv2.imwrite(output_path, image)\n",
    "            index += 1\n",
    "            break\n",
    "print(\"Processing complete.\")"
   ]
  },
  {
   "cell_type": "code",
   "execution_count": null,
   "id": "7993b2bf-e007-4c75-8e72-3700cd39c107",
   "metadata": {
    "tags": []
   },
   "outputs": [],
   "source": [
    "# Recreates video "
   ]
  },
  {
   "cell_type": "code",
   "execution_count": null,
   "id": "f139e7e3-6f79-4fff-becd-9c4c4a7d6747",
   "metadata": {
    "tags": []
   },
   "outputs": [],
   "source": [
    "output_folder = '/home/jovyan/human'"
   ]
  },
  {
   "cell_type": "code",
   "execution_count": null,
   "id": "27eac6fe-6963-41f1-b9f0-4693a6a5fa94",
   "metadata": {
    "tags": []
   },
   "outputs": [],
   "source": [
    "# Recreate video from saved frames\n",
    "# Output path\n",
    "output_video_path = \"output_video.mp4\"\n",
    "img_array = []\n",
    "# Goes through each frame in the folder \n",
    "for filename in sorted(os.listdir(output_folder)):\n",
    "    if filename.endswith(\".jpg\"):\n",
    "        img_path = os.path.join(output_folder, filename)\n",
    "        img = cv2.imread(img_path)\n",
    "        height, width, layers = img.shape\n",
    "        size = (width, height)\n",
    "        img_array.append(img)\n",
    "# Arranges the frame to a video \n",
    "out = cv2.VideoWriter(output_video_path, cv2.VideoWriter_fourcc(*'mp4v'), 30, size)\n",
    "for i in range(len(img_array)):\n",
    "    out.write(img_array[i])\n",
    "out.release()\n",
    "\n",
    "print(\"Video created successfully.\")"
   ]
  },
  {
   "cell_type": "code",
   "execution_count": null,
   "id": "483487d9-768c-4b6b-974b-30baf94215b0",
   "metadata": {},
   "outputs": [],
   "source": [
    "# With boxes and labels"
   ]
  },
  {
   "cell_type": "code",
   "execution_count": null,
   "id": "399c8798-2f00-4c7d-8dea-7beba1304f7d",
   "metadata": {
    "tags": []
   },
   "outputs": [],
   "source": [
    "# Process images in batches\n",
    "chunk_size = 50\n",
    "index = 0\n",
    "# Loops for every 50 images\n",
    "for i, image_chunk in enumerate(chunk_list(loaded_images, chunk_size)):\n",
    "    print(f\"Processing batch {i + 1}\")\n",
    "    # Sends 50 images to the AI model to process\n",
    "    detections = model(image_chunk)\n",
    "    # For each image\n",
    "    for j in range(len(image_chunk)):       \n",
    "        success = False\n",
    "        while index < len(file_name):\n",
    "            # Determines the original image path\n",
    "            filename = file_name[index]\n",
    "            image_path = os.path.join(folder_path, filename)\n",
    "            if os.path.isdir(image_path):  # Skip directories\n",
    "                index += 1\n",
    "                continue\n",
    "            image = Image.open(image_path)\n",
    "            img_array = np.asarray(image, dtype=np.uint8)\n",
    "            image = cv2.imread(image_path, cv2.IMREAD_COLOR)\n",
    "            # Loops through labels\n",
    "            for detection in detections[j]:\n",
    "                # If a person is detected in the image, record image as success\n",
    "                if detection['score'] > 0.9 and detection['label'] == \"person\":\n",
    "                    success = True\n",
    "                    x1, y1, w, h = detection['box']['xmin'], detection['box']['ymin'], detection['box']['xmax'], detection['box']['ymax']\n",
    "                    label = \"Human\"\n",
    "                    score = f\"{(detection['score'] *100):.1f}%\"\n",
    "                    text = label + \" \" + score \n",
    "\n",
    "                    # Draw the rectangle around the object\n",
    "                    cv2.rectangle(image, (x1, y1), (w, h), (0, 255, 0), 1)  # Green rectangle, thickness=2\n",
    "\n",
    "                    # Add the label text above the box\n",
    "                    font = cv2.FONT_HERSHEY_SIMPLEX\n",
    "                    cv2.putText(image, text , (x1, y1 - 10), font, 1.0, (0, 255, 0), 2)  # Green text\n",
    "                    break\n",
    "            # Outputs the image to either human or nothuman directory \n",
    "            if not success:\n",
    "                output_path = f'nothuman/{filename}'\n",
    "            else:\n",
    "                output_path = f'human/{filename}'\n",
    "            outcome = cv2.imwrite(output_path, image)\n",
    "            index += 1\n",
    "            break\n",
    "print(\"Processing complete.\")"
   ]
  }
 ],
 "metadata": {
  "kernelspec": {
   "display_name": ".venv",
   "language": "python",
   "name": "python3"
  },
  "language_info": {
   "codemirror_mode": {
    "name": "ipython",
    "version": 3
   },
   "file_extension": ".py",
   "mimetype": "text/x-python",
   "name": "python",
   "nbconvert_exporter": "python",
   "pygments_lexer": "ipython3",
   "version": "3.12.1"
  }
 },
 "nbformat": 4,
 "nbformat_minor": 5
}
