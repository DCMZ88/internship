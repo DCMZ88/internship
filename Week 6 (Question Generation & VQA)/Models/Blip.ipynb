{
 "cells": [
  {
   "cell_type": "code",
   "execution_count": 3,
   "id": "5e4e45ce",
   "metadata": {},
   "outputs": [],
   "source": [
    "import torch\n",
    "torch.cuda.empty_cache()"
   ]
  },
  {
   "cell_type": "code",
   "execution_count": 1,
   "id": "dee88897",
   "metadata": {
    "tags": []
   },
   "outputs": [
    {
     "name": "stderr",
     "output_type": "stream",
     "text": [
      "/home/jovyan/myenv/lib/python3.10/site-packages/tqdm/auto.py:21: TqdmWarning: IProgress not found. Please update jupyter and ipywidgets. See https://ipywidgets.readthedocs.io/en/stable/user_install.html\n",
      "  from .autonotebook import tqdm as notebook_tqdm\n"
     ]
    }
   ],
   "source": [
    "from transformers import BlipProcessor, BlipForQuestionAnswering\n",
    "from PIL import Image\n",
    "import json\n",
    "import requests\n",
    "\n",
    "processor_answer = BlipProcessor.from_pretrained(\"Salesforce/blip-vqa-base\")\n",
    "model_answer = BlipForQuestionAnswering.from_pretrained(\"Salesforce/blip-vqa-base\").to(\"cuda\")"
   ]
  },
  {
   "cell_type": "code",
   "execution_count": 2,
   "id": "1542aaea",
   "metadata": {
    "tags": []
   },
   "outputs": [],
   "source": [
    "url = \"https://qianwen-res.oss-cn-beijing.aliyuncs.com/Qwen-VL/assets/demo.jpeg\"\n",
    "image = Image.open(requests.get(url, stream=True).raw)"
   ]
  },
  {
   "cell_type": "code",
   "execution_count": 10,
   "id": "d1ef5c5f",
   "metadata": {},
   "outputs": [
    {
     "name": "stdout",
     "output_type": "stream",
     "text": [
      "['What is the color of the sky in the image?', \"What is the dog's breed?\", 'How is the woman dressed?', 'What is the dog doing?', 'What is the woman holding?', 'What time of day does the image appear to be taken?', 'What is the ocean doing?', \"What is the woman's expression?\", \"What is the dog's expression?\", 'What is the color of the sand?', 'What is the woman wearing?', 'What is the dog wearing?', \"What is the woman's hair color?\", \"What is the dog's fur color?\", \"What is the woman's posture?\", \"What is the dog's posture?\", \"What is the woman's clothing style?\", \"What is the dog's activity?\", \"What is the woman's mood?\"]\n"
     ]
    }
   ],
   "source": [
    "# Specify the path to your .txt file\n",
    "file_path = 'questions.txt'  # Replace with your file's path\n",
    "\n",
    "try:\n",
    "    # Open the file in read mode\n",
    "    with open(file_path, 'r') as file:\n",
    "        # Read the contents of the file\n",
    "        question = file.read()\n",
    "        cleaned_questions = question.strip().split('\\n')\n",
    "        # Print the contents of the file\n",
    "        print(cleaned_questions)\n",
    "\n",
    "except FileNotFoundError:\n",
    "    print(f\"Error: The file at {file_path} was not found.\")\n",
    "except IOError:\n",
    "    print(\"Error: An error occurred while reading the file.\")"
   ]
  },
  {
   "cell_type": "code",
   "execution_count": 11,
   "id": "0fcf6292",
   "metadata": {
    "tags": []
   },
   "outputs": [
    {
     "name": "stdout",
     "output_type": "stream",
     "text": [
      "['white', 'lab', 'in plaid', 'sitting', 'dog', 'sunset', 'crashing', 'smiling', 'happy', 'white', 'plaid shirt', 'harness', 'brown', 'tan', 'sitting', 'sitting', 'plaid', 'playing', 'happy']\n"
     ]
    }
   ],
   "source": [
    "answers = [] \n",
    "for question in cleaned_questions:\n",
    "    inputs = processor_answer(image, question , return_tensors=\"pt\").to(\"cuda\")\n",
    "    \n",
    "    out = model_answer.generate(**inputs)\n",
    "    output = processor_answer.decode(out[0], skip_special_tokens=True)\n",
    "    answers.append(output)\n",
    "print(answers)"
   ]
  },
  {
   "cell_type": "code",
   "execution_count": 12,
   "id": "6599d915",
   "metadata": {
    "tags": []
   },
   "outputs": [
    {
     "name": "stdout",
     "output_type": "stream",
     "text": [
      "Questions and answers have been written to 'questions_answers(Qwen+Blip).json'\n"
     ]
    }
   ],
   "source": [
    "import json\n",
    "\n",
    "# Pair the questions with answers\n",
    "qa_data = [{\"question\": question, \"answer\": answer} for question, answer in zip(cleaned_questions, answers)]\n",
    "\n",
    "# Write the generated data to a JSON file\n",
    "with open(\"questions_answers(Qwen+Blip).json\", \"w\") as file:\n",
    "    json.dump(qa_data, file, indent=4)\n",
    "\n",
    "print(\"Questions and answers have been written to 'questions_answers(Qwen+Blip).json'\")\n"
   ]
  },
  {
   "cell_type": "code",
   "execution_count": 13,
   "id": "a8b1a918",
   "metadata": {
    "tags": []
   },
   "outputs": [
    {
     "name": "stdout",
     "output_type": "stream",
     "text": [
      "[\n",
      "    {\n",
      "        \"question\": \"What is the color of the sky in the image?\",\n",
      "        \"answer\": \"white\"\n",
      "    },\n",
      "    {\n",
      "        \"question\": \"What is the dog's breed?\",\n",
      "        \"answer\": \"lab\"\n",
      "    },\n",
      "    {\n",
      "        \"question\": \"How is the woman dressed?\",\n",
      "        \"answer\": \"in plaid\"\n",
      "    },\n",
      "    {\n",
      "        \"question\": \"What is the dog doing?\",\n",
      "        \"answer\": \"sitting\"\n",
      "    },\n",
      "    {\n",
      "        \"question\": \"What is the woman holding?\",\n",
      "        \"answer\": \"dog\"\n",
      "    },\n",
      "    {\n",
      "        \"question\": \"What time of day does the image appear to be taken?\",\n",
      "        \"answer\": \"sunset\"\n",
      "    },\n",
      "    {\n",
      "        \"question\": \"What is the ocean doing?\",\n",
      "        \"answer\": \"crashing\"\n",
      "    },\n",
      "    {\n",
      "        \"question\": \"What is the woman's expression?\",\n",
      "        \"answer\": \"smiling\"\n",
      "    },\n",
      "    {\n",
      "        \"question\": \"What is the dog's expression?\",\n",
      "        \"answer\": \"happy\"\n",
      "    },\n",
      "    {\n",
      "        \"question\": \"What is the color of the sand?\",\n",
      "        \"answer\": \"white\"\n",
      "    },\n",
      "    {\n",
      "        \"question\": \"What is the woman wearing?\",\n",
      "        \"answer\": \"plaid shirt\"\n",
      "    },\n",
      "    {\n",
      "        \"question\": \"What is the dog wearing?\",\n",
      "        \"answer\": \"harness\"\n",
      "    },\n",
      "    {\n",
      "        \"question\": \"What is the woman's hair color?\",\n",
      "        \"answer\": \"brown\"\n",
      "    },\n",
      "    {\n",
      "        \"question\": \"What is the dog's fur color?\",\n",
      "        \"answer\": \"tan\"\n",
      "    },\n",
      "    {\n",
      "        \"question\": \"What is the woman's posture?\",\n",
      "        \"answer\": \"sitting\"\n",
      "    },\n",
      "    {\n",
      "        \"question\": \"What is the dog's posture?\",\n",
      "        \"answer\": \"sitting\"\n",
      "    },\n",
      "    {\n",
      "        \"question\": \"What is the woman's clothing style?\",\n",
      "        \"answer\": \"plaid\"\n",
      "    },\n",
      "    {\n",
      "        \"question\": \"What is the dog's activity?\",\n",
      "        \"answer\": \"playing\"\n",
      "    },\n",
      "    {\n",
      "        \"question\": \"What is the woman's mood?\",\n",
      "        \"answer\": \"happy\"\n",
      "    }\n",
      "]\n"
     ]
    }
   ],
   "source": [
    "\n",
    "\n",
    "# Open and load the JSON file\n",
    "with open('questions_answers(Qwen+Blip).json', 'r') as file:\n",
    "    data = json.load(file)\n",
    "\n",
    "# Print the contents of the JSON file\n",
    "print(json.dumps(data, indent=4))  # This will format the JSON for better readability\n"
   ]
  },
  {
   "cell_type": "code",
   "execution_count": null,
   "id": "24bea051",
   "metadata": {},
   "outputs": [],
   "source": []
  }
 ],
 "metadata": {
  "kernelspec": {
   "display_name": "Python (myenv)",
   "language": "python",
   "name": "myenv"
  },
  "language_info": {
   "codemirror_mode": {
    "name": "ipython",
    "version": 3
   },
   "file_extension": ".py",
   "mimetype": "text/x-python",
   "name": "python",
   "nbconvert_exporter": "python",
   "pygments_lexer": "ipython3",
   "version": "3.10.12"
  }
 },
 "nbformat": 4,
 "nbformat_minor": 5
}
